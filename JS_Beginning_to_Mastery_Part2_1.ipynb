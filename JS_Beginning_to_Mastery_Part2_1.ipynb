{
 "cells": [
  {
   "cell_type": "markdown",
   "id": "f445a841",
   "metadata": {},
   "source": [
    "# How JavaScript works?"
   ]
  },
  {
   "cell_type": "markdown",
   "id": "c2a4fd1e",
   "metadata": {},
   "source": [
    "JavaScript is an interpreted language, which means that the code is executed directly by an interpreter, rather than being compiled into machine code beforehand like in traditional compiled languages such as C or Java.\n",
    "\n",
    "When you run JavaScript code in a web browser or on the server side with Node.js, the code is interpreted by the JavaScript engine in the runtime environment. The interpreter reads the code line by line, converts it to machine code, and executes it.\n",
    "\n",
    "However, there are some tools and techniques that can be used to compile JavaScript code for various purposes, such as optimizing performance or transpiling modern JavaScript syntax to older syntax that is more widely supported. These tools include Babel, which is a popular tool for transpiling modern JavaScript code to older syntax, and various tools for minifying and optimizing JavaScript code.\n",
    "\n",
    "In summary, JavaScript is primarily an interpreted language, but there are also tools and techniques available for compiling and optimizing JavaScript code."
   ]
  },
  {
   "cell_type": "markdown",
   "id": "e38d9cb6",
   "metadata": {},
   "source": [
    "Compilation is the process of translating human-readable source code into machine-executable code that a computer can understand.\n",
    "\n",
    "In compiled languages, the source code is translated into machine code beforehand, which is then executed by the computer. This machine code can be directly executed by the computer's CPU, without requiring any additional translation or interpretation.\n",
    "\n",
    "Compiled languages typically offer better performance and security than interpreted languages, because the code is optimized and checked for errors before it is executed. However, they can also be more difficult to develop in, because the development process requires the additional step of compiling the code before it can be tested or executed.\n",
    "\n",
    "Examples of compiled languages include C, C++, Java, and Rust.\n",
    "\n",
    "In contrast, interpreted languages, such as JavaScript and Python, are executed directly by an interpreter, which reads and executes the code line by line, without requiring any prior compilation. Interpreted languages typically offer faster development times and greater flexibility, but may sacrifice some performance and security."
   ]
  },
  {
   "cell_type": "markdown",
   "id": "a3fd4160",
   "metadata": {},
   "source": [
    "JavaScript is a high-level, dynamically-typed, interpreted programming language that is primarily used to create interactive web pages and web applications. It is executed by a JavaScript engine, which is a software component that reads and executes JavaScript code.\n",
    "\n",
    "When a web page containing JavaScript code is loaded in a web browser, the JavaScript engine parses the code and executes it line by line. It can also interact with other parts of the web page, such as the Document Object Model (DOM) and the browser's window object, in order to create interactive functionality.\n",
    "\n",
    "JavaScript code can also be executed on the server side using the Node.js runtime environment, which allows JavaScript to be used for creating back-end web applications and services.\n",
    "\n",
    "Some key features of JavaScript include its ability to manipulate web page content and styles in real time, handle user input and events, and interact with server-side resources via asynchronous requests such as XMLHttpRequests or the newer Fetch API. It also supports a wide range of programming paradigms, including object-oriented, functional, and procedural programming.\n",
    "\n",
    "In recent years, JavaScript has also expanded beyond its original use case of client-side web development, and is now widely used for server-side development, desktop and mobile application development, and even for creating complex Internet of Things (IoT) devices."
   ]
  },
  {
   "cell_type": "markdown",
   "id": "21ec648a",
   "metadata": {},
   "source": [
    "JavaScript does the following steps sequentially:\n",
    "\n",
    "1. Compile (first compile the code)/parse\n",
    "2. Code execute"
   ]
  },
  {
   "cell_type": "markdown",
   "id": "0c13ca1b",
   "metadata": {},
   "source": [
    "### Compilation phase\n",
    "\n",
    "![](7.png)"
   ]
  },
  {
   "cell_type": "markdown",
   "id": "28196f1b",
   "metadata": {},
   "source": [
    "**Note:** JS is also called lexical scoped language."
   ]
  },
  {
   "cell_type": "markdown",
   "id": "0a3f90b4",
   "metadata": {},
   "source": [
    "In original ES documentation, it is written that:\n",
    "\n",
    "1. Early error checking needs to be done before code execution\n",
    "2. Determining appropriate scope for variables\n",
    "\n",
    " But to do these 2, we have to parse the code. So different browsers have different techniques for parsing the JS code or for compiling the code."
   ]
  },
  {
   "cell_type": "markdown",
   "id": "e3e75cc8",
   "metadata": {},
   "source": [
    "So, before the first code is executed, the code is first compiled."
   ]
  },
  {
   "cell_type": "markdown",
   "id": "20a71a4a",
   "metadata": {},
   "source": [
    "Suppose our code is like below:\n",
    "\n",
    "```JavaScript\n",
    "console.log(this);\n",
    "console.log(window);\n",
    "console.log(firstName);\n",
    "var firstName = .\"John\";\n",
    "```"
   ]
  },
  {
   "cell_type": "markdown",
   "id": "cdbbd8ae",
   "metadata": {},
   "source": [
    "Now, even before executing the first line, this will throw error, as the last line has syntax error (extra `.`). Due to the parsing of all the code, this error is caught."
   ]
  },
  {
   "cell_type": "markdown",
   "id": "c107f8c1",
   "metadata": {},
   "source": [
    "![](8.png)"
   ]
  },
  {
   "cell_type": "markdown",
   "id": "8f91bb91",
   "metadata": {},
   "source": [
    "###  Code execution\n",
    "\n",
    "In JS, code executes inside **execution context**."
   ]
  },
  {
   "cell_type": "markdown",
   "id": "67d76d30",
   "metadata": {},
   "source": [
    "Before executing first line, first Global Execution Context is created. It has two parts:\n",
    "\n",
    "* Creation phase (sets some variables to global memory)\n",
    "* Code execution phase"
   ]
  },
  {
   "cell_type": "markdown",
   "id": "295d215f",
   "metadata": {},
   "source": [
    "![](9_3.png)"
   ]
  },
  {
   "cell_type": "markdown",
   "id": "41e79202",
   "metadata": {},
   "source": [
    "If we had used `let` to define variable `firstName`, then it would have the value `uninitialized` in Global Memory or in the Creation Phase of the Global Ececution  Context. Thus, calling this or printing this before initialzation will give `Uncaught ReferenceError`.\n",
    "\n",
    "JS is synchronous programming language. When  first line is executed, the execution of second line will not start unless the first line gets finished."
   ]
  },
  {
   "cell_type": "markdown",
   "id": "fc2337e5",
   "metadata": {},
   "source": [
    "Browser gives us the feature of asynchronous programming. It is single threaded."
   ]
  },
  {
   "cell_type": "markdown",
   "id": "5b81bc13",
   "metadata": {},
   "source": [
    "### Hoisting\n",
    "\n",
    "Hoisting in JavaScript is a mechanism that allows variable and function declarations to be moved to the top of their respective scope at the compile time, regardless of where they were declared within the scope. This means that you can use a variable or a function before it has been declared, without getting a reference error.\n",
    "\n",
    "In more technical terms, hoisting is the behavior of the JavaScript interpreter where it moves all variable and function declarations to the top of the current scope before executing any code. This is done to ensure that the code runs correctly, as JavaScript is an interpreted language that executes code line by line."
   ]
  },
  {
   "cell_type": "code",
   "execution_count": 1,
   "id": "b9aeec65",
   "metadata": {},
   "outputs": [
    {
     "name": "stdout",
     "output_type": "stream",
     "text": [
      "undefined\n"
     ]
    }
   ],
   "source": [
    "console.log(a);\n",
    "var a = 10;\n"
   ]
  },
  {
   "cell_type": "markdown",
   "id": "2750ec02",
   "metadata": {},
   "source": [
    "At first glance, it might seem like this code would throw an error because a is being used before it has been declared. However, due to hoisting, the variable declaration is moved to the top of the scope, so the code is actually interpreted as:"
   ]
  },
  {
   "cell_type": "markdown",
   "id": "77b3ada9",
   "metadata": {},
   "source": [
    "```JavaScript\n",
    "var a;\n",
    "console.log(a);\n",
    "a = 10;\n",
    "```"
   ]
  },
  {
   "cell_type": "markdown",
   "id": "7cdff8d6",
   "metadata": {},
   "source": [
    "This means that `a` is defined as `undefined` when it is logged to the console, rather than throwing an error. It's important to note that only the declaration is hoisted, not the initialization, so if you try to use a variable that has been declared but not initialized, it will still be `undefined`.\n",
    "\n",
    "It's also important to note that hoisting only affects variable and function declarations, not variable assignments or function expressions. So if you try to use a variable that has been declared with `let` or `const` before it has been initialized, you will get a `ReferenceError`. Similarly, function expressions are not hoisted, so if you try to use a function expression before it has been defined, you will also get a `ReferenceError`. Same error will also occur if we call variable declared with `const` before initialization."
   ]
  },
  {
   "cell_type": "markdown",
   "id": "d48eaa52",
   "metadata": {},
   "source": [
    "#### For function declaration\n",
    "\n",
    "```JavaScript\n",
    "console.log(myFunction);\n",
    "\n",
    "// function declaration\n",
    "function myFunction(){\n",
    "    console.log(\"this is my function\");\n",
    "}\n",
    "\n",
    "console.log(myFunction);\n",
    "```\n",
    "\n",
    "The output in the console will be\n",
    "\n",
    "![](11.png)"
   ]
  },
  {
   "cell_type": "markdown",
   "id": "47c58075",
   "metadata": {},
   "source": [
    "#### For function expression\n",
    "\n",
    "```JavaScript\n",
    "console.log(myFunction);\n",
    "\n",
    "// function expression\n",
    "var myFunction = function(){\n",
    "    console.log(\"this is my function\");\n",
    "}\n",
    "\n",
    "console.log(myFunction);\n",
    "```\n",
    "\n",
    "The output in the console will be\n",
    "\n",
    "![](10.png)"
   ]
  },
  {
   "cell_type": "code",
   "execution_count": 2,
   "id": "eb0d7c8e",
   "metadata": {},
   "outputs": [
    {
     "name": "stdout",
     "output_type": "stream",
     "text": [
      "foo\n",
      "[Arguments] { '0': 'John', '1': 'Doe' }\n",
      "var inside func\n",
      "John Doe\n"
     ]
    }
   ],
   "source": [
    "let foo = \"foo\";\n",
    "console.log(foo);\n",
    "\n",
    "function getFullName(firstName, lastName) {\n",
    "    // arguents is array-like object which has index and length\n",
    "    console.log(arguments); // we can also use arguments[0] or arguments[1]\n",
    "    // we can also use arguments.length\n",
    "    let myVar = \"var inside func\";\n",
    "    console.log(myVar);\n",
    "    const fullName = firstName + \" \" + lastName;\n",
    "    return fullName;\n",
    "}\n",
    "\n",
    "const personName = getFullName(\"John\", \"Doe\");\n",
    "console.log(personName);"
   ]
  },
  {
   "cell_type": "markdown",
   "id": "c4a3dbff",
   "metadata": {},
   "source": [
    "### Lexical environment, scope chain"
   ]
  },
  {
   "cell_type": "markdown",
   "id": "d6eb5f2d",
   "metadata": {},
   "source": [
    "```JavaScript\n",
    "// lexical environment, scope chain\n",
    "\n",
    "const lastName = \"Doe\";\n",
    "\n",
    "const printName = function(){\n",
    "    const firstName = \"John\";\n",
    "\n",
    "    console.log(firstName);\n",
    "    console.log(lastName);\n",
    "}\n",
    "printName();\n",
    "```"
   ]
  },
  {
   "cell_type": "markdown",
   "id": "945c29d1",
   "metadata": {},
   "source": [
    "The output in the console will be\n",
    "\n",
    "![](12.png)"
   ]
  },
  {
   "cell_type": "code",
   "execution_count": 3,
   "id": "0a707b70",
   "metadata": {},
   "outputs": [
    {
     "name": "stdout",
     "output_type": "stream",
     "text": [
      "John\n",
      "Doe\n"
     ]
    }
   ],
   "source": [
    "// lexical environment, scope chain\n",
    "\n",
    "const lastName = \"Doe\";\n",
    "\n",
    "const printName = function(){\n",
    "    const firstName = \"John\";\n",
    "\n",
    "    function myFunction(){\n",
    "        console.log(firstName);\n",
    "        console.log(lastName);\n",
    "    }\n",
    "    myFunction();\n",
    "}\n",
    "printName();"
   ]
  },
  {
   "cell_type": "markdown",
   "id": "dd6a80da",
   "metadata": {},
   "source": [
    "The output in the console will again be the same\n",
    "\n",
    "![](12.png)"
   ]
  },
  {
   "cell_type": "markdown",
   "id": "93dadae6",
   "metadata": {},
   "source": [
    "### Closures"
   ]
  },
  {
   "cell_type": "markdown",
   "id": "b171044c",
   "metadata": {},
   "source": [
    "We need to know htat functions can return functions."
   ]
  },
  {
   "cell_type": "code",
   "execution_count": 4,
   "id": "2ac3bb0d",
   "metadata": {},
   "outputs": [
    {
     "name": "stdout",
     "output_type": "stream",
     "text": [
      "innerFunction\n"
     ]
    }
   ],
   "source": [
    "function outerFunction(){\n",
    "    function innerFunction(){\n",
    "        console.log(\"innerFunction\");\n",
    "    }\n",
    "    return innerFunction;\n",
    "}\n",
    "\n",
    "const ans = outerFunction();\n",
    "ans();"
   ]
  },
  {
   "cell_type": "code",
   "execution_count": 7,
   "id": "95bcaf6f",
   "metadata": {},
   "outputs": [
    {
     "name": "stdout",
     "output_type": "stream",
     "text": [
      "John Doe\n"
     ]
    }
   ],
   "source": [
    "function printFullName3(firstName, lastName){\n",
    "    function printName(){\n",
    "        console.log(firstName, lastName);\n",
    "    }\n",
    "    return printName;\n",
    "}\n",
    "\n",
    "const ans3 = printFullName3(\"John\", \"Doe\");\n",
    "ans3();"
   ]
  },
  {
   "cell_type": "markdown",
   "id": "1aefcabb",
   "metadata": {},
   "source": [
    "When a function inside a function is returned, here, when `printName()` is returned from inside `printFullName3()`, it gets returned with variables in the local memory, or the variables `firstName` and `lastName`. These variables `firstName` and `lastName` are in the closures.  "
   ]
  },
  {
   "cell_type": "markdown",
   "id": "95b07064",
   "metadata": {},
   "source": [
    "Inner functions can access outer function elements."
   ]
  },
  {
   "cell_type": "code",
   "execution_count": 9,
   "id": "a9cde22f",
   "metadata": {},
   "outputs": [
    {
     "name": "stdout",
     "output_type": "stream",
     "text": [
      "varA varB arg\n"
     ]
    }
   ],
   "source": [
    "function hello4(x){\n",
    "    const a = \"varA\";\n",
    "    const b = \"varB\";\n",
    "    return function(){\n",
    "        console.log(a, b, x);\n",
    "    }\n",
    "}\n",
    "\n",
    "const ans4 = hello4(\"arg\");\n",
    "ans4();"
   ]
  },
  {
   "cell_type": "code",
   "execution_count": 12,
   "id": "be356ef1",
   "metadata": {},
   "outputs": [
    {
     "name": "stdout",
     "output_type": "stream",
     "text": [
      "8\n"
     ]
    }
   ],
   "source": [
    "function myFunction5(power){\n",
    "    return function(number){\n",
    "        return number ** power;\n",
    "    }\n",
    "}\n",
    "\n",
    "const cube5 = myFunction5(3);\n",
    "const ans5 = cube5(2);\n",
    "console.log(ans5);"
   ]
  },
  {
   "cell_type": "code",
   "execution_count": 13,
   "id": "8c0e8a98",
   "metadata": {},
   "outputs": [
    {
     "data": {
      "text/plain": [
       "64"
      ]
     },
     "execution_count": 13,
     "metadata": {},
     "output_type": "execute_result"
    }
   ],
   "source": [
    "myFunction5(2)(8)"
   ]
  },
  {
   "cell_type": "markdown",
   "id": "85c01811",
   "metadata": {},
   "source": [
    "Another application for closure -- Working differently if called more than once or not even working "
   ]
  },
  {
   "cell_type": "code",
   "execution_count": 17,
   "id": "b27883e4",
   "metadata": {},
   "outputs": [],
   "source": [
    "function func7(){\n",
    "    let counter = 0;\n",
    "    return function(){\n",
    "        if(counter < 1){\n",
    "            console.log(\"Hi! Thanks for calling me the first time!\");\n",
    "            counter++;\n",
    "        }\n",
    "        else{\n",
    "            console.log(\"I have already been called once!\");\n",
    "        }\n",
    "    }\n",
    "}\n",
    "\n",
    "const myFunc7 = func7();"
   ]
  },
  {
   "cell_type": "code",
   "execution_count": 18,
   "id": "4e5f05f6",
   "metadata": {},
   "outputs": [
    {
     "name": "stdout",
     "output_type": "stream",
     "text": [
      "Hi! Thanks for calling me the first time!\n"
     ]
    }
   ],
   "source": [
    "myFunc7();"
   ]
  },
  {
   "cell_type": "code",
   "execution_count": 19,
   "id": "e05e510e",
   "metadata": {},
   "outputs": [
    {
     "name": "stdout",
     "output_type": "stream",
     "text": [
      "I have already been called once!\n"
     ]
    }
   ],
   "source": [
    "myFunc7();"
   ]
  },
  {
   "cell_type": "markdown",
   "id": "fe2467d2",
   "metadata": {},
   "source": [
    "### Working with DOM"
   ]
  },
  {
   "cell_type": "markdown",
   "id": "5256d76e",
   "metadata": {},
   "source": [
    "For selecting different fonts, we can use this website: https://fonts.google.com/specimen/Poppins"
   ]
  },
  {
   "cell_type": "markdown",
   "id": "2b3584ce",
   "metadata": {},
   "source": [
    "After selecting different fonts, we can copy the `@import url(...` section of the code shown in the bottom right corner.\n",
    "\n",
    "![](13.png)"
   ]
  },
  {
   "cell_type": "markdown",
   "id": "6933b2a2",
   "metadata": {},
   "source": [
    "In the CSS file, after copying the  `@import url(...` part, copy also the part written under the section **CSS rules to specify families**. Put this inside body{} tag as below:\n",
    "\n",
    "```CSS\n",
    "body{\n",
    "    font-family: 'Poppins', sans-serif;\n",
    "}\n",
    "```"
   ]
  },
  {
   "cell_type": "markdown",
   "id": "175e97c6",
   "metadata": {},
   "source": [
    "For selecting nice background, we can use `pexels.com` and search for wallpaper."
   ]
  },
  {
   "cell_type": "markdown",
   "id": "694e9993",
   "metadata": {},
   "source": [
    "#### VSCode shortcut"
   ]
  },
  {
   "cell_type": "markdown",
   "id": "f722d03b",
   "metadata": {},
   "source": [
    "To write the below html code:\n",
    "\n",
    "```HTML\n",
    "<section class=\"section-signup\"></section>\n",
    "```\n",
    "\n",
    "In VSCode, write `section.section-signup` and then press TAB to autocomplete this line."
   ]
  },
  {
   "cell_type": "markdown",
   "id": "282f6d09",
   "metadata": {},
   "source": [
    "### Linking JS to HTML file"
   ]
  },
  {
   "cell_type": "markdown",
   "id": "fe4ed097",
   "metadata": {},
   "source": [
    "#### 1st way"
   ]
  },
  {
   "cell_type": "markdown",
   "id": "6015f15b",
   "metadata": {},
   "source": [
    "If we link our js file inside `<head>` tag in HTML, it will throw error if the if the JS is using the HTML elements below as the HTML elements used in this file below are not read or loaded yet. \n",
    "\n",
    "Don't do the following:\n",
    "\n",
    "```HTML\n",
    "<!DOCTYPE html>\n",
    "<html lang=\"en\">\n",
    "<head>\n",
    "    <meta charset=\"UTF-8\">\n",
    "    <meta http-equiv=\"X-UA-Compatible\" content=\"IE=edge\">\n",
    "    <meta name=\"viewport\" content=\"width=device-width, initial-scale=1.0\">\n",
    "    <link rel=\"stylesheet\" href=\"./style.css\">\n",
    "    <!--\n",
    "        We can link our js file here using below:\n",
    "        <script src=\"./102.js\"></script>\n",
    "        But this will throw error if the JS is using the HTML elements below\n",
    "        as the HTML elements used in this file below are not read or loaded yet\n",
    "\n",
    "    -->\n",
    "    <script src=\"./102.js\"></script>\n",
    "    <title>My Website</title>\n",
    "```"
   ]
  },
  {
   "cell_type": "markdown",
   "id": "9a11ad0a",
   "metadata": {},
   "source": [
    "#### 2nd way"
   ]
  },
  {
   "cell_type": "markdown",
   "id": "e0828465",
   "metadata": {},
   "source": [
    "A better approach will be to use it just before the end of `<body>` tag.\n",
    "\n",
    "Do the following:\n",
    "\n",
    "```HTML\n",
    "        </form>\n",
    "    </section>\n",
    "    <script src=\"./102.js\"></script>\n",
    "</body>\n",
    "```"
   ]
  },
  {
   "cell_type": "markdown",
   "id": "d224e71b",
   "metadata": {},
   "source": [
    "But even this latter option also has some issues. In this case, first HTML part will be parsed, then JS will load, and then JS will be executed. These will take some time. "
   ]
  },
  {
   "cell_type": "markdown",
   "id": "ddb1a4f9",
   "metadata": {},
   "source": [
    "#### 3rd way"
   ]
  },
  {
   "cell_type": "markdown",
   "id": "fb104d83",
   "metadata": {},
   "source": [
    "Third approach to load JS is to put script inside `<head>` tag and before `<title>` tag as before but adding `async` like this: `<script src=\"./102.js\" async></script>` .Have a look at example code below:\n",
    "\n",
    "```HTML\n",
    "<!DOCTYPE html>\n",
    "<html lang=\"en\">\n",
    "<head>\n",
    "    <meta charset=\"UTF-8\">\n",
    "    <meta http-equiv=\"X-UA-Compatible\" content=\"IE=edge\">\n",
    "    <meta name=\"viewport\" content=\"width=device-width, initial-scale=1.0\">\n",
    "    <link rel=\"stylesheet\" href=\"./style.css\">\n",
    "    <!--\n",
    "        We can link our js file here using below:\n",
    "        <script src=\"./102.js\"></script>\n",
    "        But this will throw error if the JS is using the HTML elements below\n",
    "        as the HTML elements used in this file below are not read or loaded yet\n",
    "\n",
    "    -->\n",
    "    <!--\n",
    "        <script src=\"./102.js\"></script>\n",
    "    -->\n",
    "    <script src=\"./102.js\" async></script>\n",
    "\n",
    "    <title>My Website</title>\n",
    "</head>\n",
    "```"
   ]
  },
  {
   "cell_type": "markdown",
   "id": "a5c43a2a",
   "metadata": {},
   "source": [
    "This will allow to continue parsing HTML even after reaching the `<script>` tag while also continuing the load of JS file. Parsing HTML and loading JS will go together in this case. But the problem is as soon as the JS file is loaded, parsing of HTML file will stop and the execution of JS file will start. The probability of error coming is very high as the full HTML file is not parsed yet."
   ]
  },
  {
   "cell_type": "markdown",
   "id": "a6b2eb84",
   "metadata": {},
   "source": [
    "#### 4th way -- the best approach"
   ]
  },
  {
   "cell_type": "markdown",
   "id": "93e10c69",
   "metadata": {},
   "source": [
    "Put script inside `<head>` tag and before `<title>` tag as before but adding `defer` like this: `<script src=\"./102.js\" defer></script>`"
   ]
  },
  {
   "cell_type": "markdown",
   "id": "863f9831",
   "metadata": {},
   "source": [
    "This will allow to continue parsing HTML even after reaching the `<script>` tag while also continuing the load of JS file. Parsing HTML and loading JS will go together in this case. Compared to the previous approach, in this case as soon as the JS file is loaded, parsing of HTML file will not stop and the execution of JS file will start after the parsing of HTML file is completed.\n",
    "\n",
    "This will increase the performance of the website. No chance of error in this case."
   ]
  },
  {
   "cell_type": "markdown",
   "id": "89be8dbc",
   "metadata": {},
   "source": [
    "### Document Object Model (DOM)\n",
    "\n",
    "![](14.png)\n",
    "Source: The above  figure is taken from Geeks for Geeks website"
   ]
  },
  {
   "cell_type": "markdown",
   "id": "935a345a",
   "metadata": {},
   "source": [
    "Will create object of key-value pairs. This object is called `document`. Then browser will add `document` inside `window` object residing inside JS."
   ]
  },
  {
   "cell_type": "markdown",
   "id": "7ba4fa65",
   "metadata": {},
   "source": [
    "Now, we have `index.html` as following:\n",
    "\n",
    "```HTML\n",
    "<!DOCTYPE html>\n",
    "<html lang=\"en\">\n",
    "<head>\n",
    "    <meta charset=\"UTF-8\">\n",
    "    <meta http-equiv=\"X-UA-Compatible\" content=\"IE=edge\">\n",
    "    <meta name=\"viewport\" content=\"width=device-width, initial-scale=1.0\">\n",
    "    <link rel=\"stylesheet\" href=\"./style.css\">\n",
    "    <!--\n",
    "        We can link our js file here using below:\n",
    "        <script src=\"./102.js\"></script>\n",
    "        But this will throw error if the JS is using the HTML elements below\n",
    "        as the HTML elements used in this file below are not read or loaded yet\n",
    "\n",
    "    -->\n",
    "    <!--\n",
    "        1st approach:\n",
    "        <script src=\"./102.js\"></script>\n",
    "    -->\n",
    "    <!--\n",
    "        3rd approach:\n",
    "        <script src=\"./102.js\" async></script>\n",
    "    -->\n",
    "\n",
    "    <!--\n",
    "        4th approach: best approach using defer\n",
    "        <script src=\"./102.js\" defer></script>\n",
    "    -->\n",
    "    <script src=\"./102.js\" defer></script>\n",
    "\n",
    "    <title>My Website</title>\n",
    "</head>\n",
    "<body>\n",
    "    <header class=\"header\">\n",
    "        <nav class=\"nav container\">\n",
    "            <h1 class=\"log\">Website</h1>\n",
    "            <ul class=\"nav-items\">\n",
    "                <li><a href=\"\">Home</a></li>\n",
    "                <li><a href=\"\">To Do</a></li>\n",
    "                <li><a href=\"\">Sign In</a></li>\n",
    "            </ul>\n",
    "        </nav>\n",
    "        <div class=\"headline\">\n",
    "            <h2>Manage your tasks</h2>\n",
    "            <button class=\"btn btn-headline\">Learn More</button>\n",
    "        </div>\n",
    "    </header>\n",
    "    <section class=\"section-todo container\">\n",
    "        <h2>What do you plan to do today?</h2>\n",
    "        <form class=\"form-todo\">\n",
    "            <input type=\"text\" name=\"\" id=\"\" placeholder=\"Add Todo\">\n",
    "            <input type=\"submit\" value=\"Add Todo\" class=\"btn\">\n",
    "        </form>\n",
    "    </section>  \n",
    "    \n",
    "    <section class=\"section-signup container\">\n",
    "        <h2>Sign Up</h2>\n",
    "        <form class=\"signup-form\">\n",
    "            <div class=\"form-group\">\n",
    "                <label for=\"username\">Username</label>\n",
    "                <input type=\"text\" name=\"username\" id=\"username\">\n",
    "            </div>\n",
    "            <div class=\"form-group\">\n",
    "                <label for=\"password\">password</label>\n",
    "                <input type=\"password\" name=\"password\" id=\"password\">\n",
    "            </div>\n",
    "            <div class=\"form-group\">\n",
    "                <label for=\"confirmPassword\">Confirm Password</label>\n",
    "                <input type=\"password\" name=\"confirmPassword\" id=\"confirmPassword\">\n",
    "            </div>\n",
    "            <div class=\"form-group\">\n",
    "                <label for=\"email\">Email</label>\n",
    "                <input type=\"email\" name=\"email\" id=\"email\">\n",
    "            </div>\n",
    "            <div class=\"form-group\">\n",
    "                <label for=\"about\">About Yourself</label>\n",
    "                <textarea name=\"about\" id=\"about\" cols=\"30\" rows=\"10\"></textarea>\n",
    "            </div>\n",
    "            <button type=\"submit\" class=\"btn signup-btn\">Submit</button>\n",
    "            \n",
    "        </form>\n",
    "    </section>\n",
    "    <!--\n",
    "        2nd approach: Putting before the end of <body> tag\n",
    "        <script src=\"./102.js\"></script>\n",
    "    -->\n",
    "</body>\n",
    "</html>\n",
    "```"
   ]
  },
  {
   "cell_type": "markdown",
   "id": "96bd63ad",
   "metadata": {},
   "source": [
    "We also have `style.css` as following:\n",
    "\n",
    "```CSS\n",
    "@import url('https://fonts.googleapis.com/css2?family=Poppins:ital,wght@0,300;0,400;0,500;600;700;1,200&display=swap');\n",
    "\n",
    "*{\n",
    "    box-sizing: border-box;\n",
    "    padding: 0;\n",
    "    margin: 0;\n",
    "}\n",
    "\n",
    "body{\n",
    "    font-family: 'Poppins', sans-serif;\n",
    "}\n",
    "\n",
    "a{\n",
    "    text-decoration: none;\n",
    "    color: white;\n",
    "}\n",
    "\n",
    ".header{\n",
    "    position: relative;\n",
    "    min-height: 60vh;\n",
    "    background: url('./background.jpg');\n",
    "    background-position: center;\n",
    "    background-repeat: no-repeat;\n",
    "    background-size: cover;\n",
    "    color: white;\n",
    "}\n",
    "\n",
    ".container{\n",
    "    max-width: 1200px;\n",
    "    margin: auto;\n",
    "    width: 90%;\n",
    "}\n",
    "\n",
    ".nav {\n",
    "    min-height: 8vh;\n",
    "    display: flex;\n",
    "    justify-content: space-between;\n",
    "    align-items: center;\n",
    "  }\n",
    "  \n",
    "  .nav-items {\n",
    "    width: 40%;\n",
    "    display: flex;\n",
    "    list-style-type: none;\n",
    "    justify-content: space-between;\n",
    "  }\n",
    "\n",
    "  .headline {\n",
    "    text-align: center;\n",
    "    position: absolute;\n",
    "    top: 50%;\n",
    "    left: 50%;\n",
    "    transform: translate(-50%, -50%);\n",
    "    /*\n",
    "    transform: translate(-50%, -50%);\" is used to move \n",
    "    an element (typically used for centering an element) \n",
    "    to the center of its parent container both vertically \n",
    "    and horizontally.\n",
    "\n",
    "    \"transform: translate(-50%, -50%);\" moves an element to \n",
    "    the center of its parent container by moving it 50% of \n",
    "    its own size to the left and 50% of its own size up. This \n",
    "    technique is often used for centering elements vertically \n",
    "    and horizontally in responsive web design, where the size \n",
    "    of the container may change dynamically.\n",
    "    */\n",
    "  }\n",
    "\n",
    "  .btn {\n",
    "    display: inline-block;\n",
    "    outline: none;\n",
    "    border: none;\n",
    "    cursor: pointer;\n",
    "  }\n",
    "\n",
    "  .btn-headline {\n",
    "    padding: 1rem 2rem;\n",
    "    font-size: 1rem;\n",
    "    margin-top: 1rem; \n",
    "    font-weight: 600;\n",
    "    /*\n",
    "    \"padding: 1rem 2rem;\" sets the amount of space between the content and the \n",
    "    border of the \"btn-headline\" element. The \"1rem\" value specifies the top and \n",
    "    bottom padding, while the \"2rem\" value specifies the left and right padding.\n",
    "\n",
    "    \"font-size: 1rem;\" sets the size of the text inside the \"btn-headline\" element \n",
    "    to 1 rem. The \"rem\" unit is relative to the font-size of the root element \n",
    "    (usually the <html> element).\n",
    "\n",
    "    \"margin-top: 1rem;\" sets the amount of space between the top edge of the \n",
    "    \"btn-headline\" element and the preceding element(s). The \"1rem\" value specifies \n",
    "    the amount of margin.\n",
    "\n",
    "     margin refers to the space outside the border of an element. It is used to add \n",
    "     space between elements, and affects the position of the element in relation to \n",
    "     other elements on the page. When you apply margin-top to an element, it creates\n",
    "     space above the element and pushes it down, which affects the layout of the page.\n",
    "\n",
    "     the main difference between top and bottom padding vs margin-top is that padding \n",
    "     affects the space inside the element, while margin affects the space outside the \n",
    "     element and the position of the element in relation to other elements on the page.\n",
    "    \n",
    "    \"font-weight\": In CSS, the \"font-weight\" property is used to set the weight \n",
    "    (or thickness) of the font. A font's weight is typically expressed as a numerical \n",
    "    value ranging from 100 to 900, with certain values (e.g. 100, 400, 700) having \n",
    "    specific names (e.g. \"thin\", \"normal\", \"bold\").\n",
    "\n",
    "    A \"font-weight\" value of 500 means that the font is in the middle of the normal \n",
    "    range, which is typically equivalent to \"medium\" or \"semi-bold\". It is thicker \n",
    "    than \"normal\" (400) but lighter than \"bold\" (700). Some fonts may have additional \n",
    "    weight values (e.g. 600, 800) that fall between these ranges.\n",
    "     */\n",
    "  }\n",
    "\n",
    "  .section-todo {\n",
    "    margin-top: 5rem;\n",
    "    text-align: center;\n",
    "  }\n",
    "\n",
    "  .form-todo {\n",
    "    min-height: 5vh;\n",
    "    display: flex;\n",
    "    justify-content: space-between;\n",
    "    margin-top: 1rem;\n",
    "  } \n",
    "\n",
    "  .form-todo input {\n",
    "    min-height: 100%;\n",
    "  }\n",
    "\n",
    "  .form-todo input[type=\"text\"] {\n",
    "    width: 68%;\n",
    "    padding: 0.8rem;\n",
    "    font-size: 1rem;\n",
    "    font-weight: 400;\n",
    "  }\n",
    "\n",
    "  .form-todo input[type=\"submit\"] {\n",
    "    width: 20%;\n",
    "    background: rgb(44, 55, 63);\n",
    "    color: white;\n",
    "    font-weight: bold;\n",
    "  }\n",
    "\n",
    "  .section-signup {\n",
    "    /*\n",
    "    The auto value for the left and right margins centers the element horizontally \n",
    "    within its containing block.\n",
    "\n",
    "    So, margin: 5rem auto; centers an element horizontally and sets a large top and \n",
    "    bottom margin of 5 rems each.\n",
    "    */\n",
    "    margin: 5rem auto;\n",
    "    text-align: center;\n",
    "    background: rgb(235, 232, 232);\n",
    "    border-radius: 10px;\n",
    "    padding: 1rem;\n",
    "  }\n",
    "\n",
    "  .signup-form {\n",
    "    max-width: 800px;\n",
    "    width: 95%;\n",
    "    text-align: left;\n",
    "    margin: auto;\n",
    "  }\n",
    "\n",
    "  .signup-form label {\n",
    "    display: block;\n",
    "  }\n",
    "\n",
    "  .signup-form input {\n",
    "    display: block;\n",
    "    width: 100%;\n",
    "    padding: 0.5rem;\n",
    "  }\n",
    "\n",
    "  .form-group {\n",
    "    margin-top: 1rem;\n",
    "  }\n",
    "\n",
    "  .signup-form textarea {\n",
    "    width: 100%;\n",
    "  }\n",
    "   \n",
    "  .signup-btn {\n",
    "    background: rgb(44, 55, 63);\n",
    "    color: white;\n",
    "    padding: 1rem 2rem;\n",
    "    display: block;\n",
    "    margin: auto;\n",
    "    margin-top: 1rem;\n",
    "  }\n",
    "```"
   ]
  },
  {
   "cell_type": "markdown",
   "id": "7e8f4c37",
   "metadata": {},
   "source": [
    "The HTML page looks like below:\n",
    "\n",
    "![](page.png)"
   ]
  },
  {
   "cell_type": "markdown",
   "id": "34f865ad",
   "metadata": {},
   "source": [
    "Now, inside 102.js, if the code is only this:\n",
    "\n",
    "```JavaScript\n",
    "console.log(window.document);\n",
    "```\n",
    "\n",
    "The output will be the code of this page itself:\n",
    "\n",
    "![](15.png)"
   ]
  },
  {
   "cell_type": "markdown",
   "id": "3aa8ebda",
   "metadata": {},
   "source": [
    "In JavaScript, `console.dir()` is a method used to log an object to the console, displaying its properties in a hierarchical format, similar to expanding folders in a file system.\n",
    "\n",
    "In the code `console.dir(window.document)`, we are using the `console.dir()` method to log the `document` object of the `window` object to the console, displaying its properties in a hierarchical format.\n",
    "\n",
    "The `window` object is a global object in the browser environment that represents the current browser window or tab, while the `document` property of the `window` object represents the current HTML document that is loaded in the browser window.\n",
    "\n",
    "By using `console.dir()` to log the document object, we can explore its properties and methods in a more detailed way, since `console.dir()` displays the object in a tree-like structure, allowing us to easily see its nested properties and methods.\n",
    "\n",
    "This code logs the document object to the console using `console.dir()`, which can be helpful for debugging and understanding the structure of the HTML document and how it can be manipulated through the document object's properties and methods."
   ]
  },
  {
   "cell_type": "markdown",
   "id": "14a45049",
   "metadata": {},
   "source": [
    "```JavaScript\n",
    "console.dir(window.document)\n",
    "```\n",
    "\n",
    "outputs the following:\n",
    "\n",
    "![](16.png)"
   ]
  },
  {
   "cell_type": "markdown",
   "id": "6c5a2667",
   "metadata": {},
   "source": [
    "```JavaScript\n",
    "console.dir(document)\n",
    "```\n",
    "\n",
    "this will also give the same output."
   ]
  },
  {
   "cell_type": "markdown",
   "id": "1ce03eb2",
   "metadata": {},
   "source": [
    "Same Id can't be assigned to multiple HTML elements. But classes can be assigned to multiple items."
   ]
  },
  {
   "cell_type": "markdown",
   "id": "eb72e66b",
   "metadata": {},
   "source": [
    "```JavaScript\n",
    "\n",
    "// selects Id\n",
    "const mainHeading = document.querySelector(\"#main-heading\");\n",
    "console.log(mainHeading);\n",
    "\n",
    "// selects class\n",
    "const header = document.querySelector(\".header\");\n",
    "console.log(header);\n",
    "\n",
    "// if there are multiple elements with the same class, \n",
    "// it will select the first one only\n",
    "const navItem = document.querySelector(\".nav-item\");\n",
    "console.log(navItem);\n",
    "\n",
    "// to select all elements with the same class\n",
    "const navItems = document.querySelectorAll(\".nav-item\");\n",
    "console.log(navItems);\n",
    "```"
   ]
  },
  {
   "cell_type": "markdown",
   "id": "530a81a7",
   "metadata": {},
   "source": [
    "```JavaScript\n",
    "// change text\n",
    "// textContent and innerText\n",
    "\n",
    "// print the text inside an element using Id\n",
    "const mainHeading = document.getElementById(\"main-heading\");\n",
    "console.log(mainHeading.textContent)\n",
    "\n",
    "// change the text inside an element using Id\n",
    "// mainHeading.textContent = \"This is changed now\";\n",
    "console.log(mainHeading.textContent);\n",
    "\n",
    "// innerText will not give text inside span\n",
    "console.log(mainHeading.innerText)\n",
    "```"
   ]
  },
  {
   "cell_type": "markdown",
   "id": "ecfd0e7d",
   "metadata": {},
   "source": [
    "#### get multiple elements using `getElementsByClassName` -- returns HTMLCollection which is array-like object \n",
    "\n",
    "#### get multiple elements using `querySelectorAll` -- returns NodeList"
   ]
  },
  {
   "cell_type": "markdown",
   "id": "55371133",
   "metadata": {},
   "source": [
    "```JavaScript\n",
    "// the below gives HTMLCollection\n",
    "const navItems = document.getElementsByClassName(\"nav-item\");\n",
    "console.log(navItems);\n",
    "\n",
    "console.log(navItems[0]);\n",
    "\n",
    "console.log(typeof navItems); // it's array-like object\n",
    "\n",
    "console.log(Array.isArray(navItems)); // false\n",
    "\n",
    "\n",
    "// returns NodeList\n",
    "const navItems2 = document.querySelectorAll(\".nav-item\");\n",
    "console.log(navItems2[1])\n",
    "```"
   ]
  },
  {
   "cell_type": "markdown",
   "id": "9e3cdb6d",
   "metadata": {},
   "source": [
    "#### HTMLCollection is array-like object -- can use index and has length property"
   ]
  },
  {
   "cell_type": "markdown",
   "id": "b8210205",
   "metadata": {},
   "source": [
    "document.getElementsByTagName returns HTMLCollection or array-like object."
   ]
  },
  {
   "cell_type": "markdown",
   "id": "db379f4c",
   "metadata": {},
   "source": [
    "```JavaScript\n",
    "const navItems = document.getElementsByTagName(\"a\");\n",
    "console.log(navItems);\n",
    "console.log(navItems.length);\n",
    "```"
   ]
  },
  {
   "cell_type": "markdown",
   "id": "99543604",
   "metadata": {},
   "source": [
    "With `HTMLCollection`, we can use simple for loop, for of loop but not forEach loop."
   ]
  },
  {
   "cell_type": "markdown",
   "id": "453a5dbb",
   "metadata": {},
   "source": [
    "#### simple for loop\n",
    "\n",
    "```JavaScript\n",
    "// simple for loop\n",
    "for (let i = 0; i < navItems.length; i++) {\n",
    "  console.log(navItems[i]);\n",
    "}\n",
    "\n",
    "for (let i = 0; i < navItems.length; i++) {\n",
    "    const navItem = navItems[i];\n",
    "    navItem.style.backgroundColor = \"white\";\n",
    "    navItem.style.color = \"green\";\n",
    "    navItem.style.fontWeight = \"bold\";\n",
    "  }\n",
    "```"
   ]
  },
  {
   "cell_type": "markdown",
   "id": "bb43d576",
   "metadata": {},
   "source": [
    "#### for of loop\n",
    "\n",
    "```JavaScript\n",
    "  // for of loop\n",
    "  // change background color and color of the link\n",
    "  for (let navItem of navItems){\n",
    "    navItem.style.backgroundColor = \"blue\";\n",
    "    navItem.style.color = \"black\";\n",
    "    navItem.style.fontWeight = \"bold\";\n",
    "  }\n",
    "```"
   ]
  },
  {
   "cell_type": "markdown",
   "id": "3d120f80",
   "metadata": {},
   "source": [
    "#### forEach -- will not work\n",
    "\n",
    "```JavaScript\n",
    "  // this will not work, will give error\n",
    "  navItems.forEach((navItem)=>{\n",
    "    navItem.style.backgroundColor = \"blue\";\n",
    "    navItem.style.color = \"black\";\n",
    "    navItem.style.fontWeight = \"bold\";\n",
    "  })\n",
    "```"
   ]
  },
  {
   "cell_type": "markdown",
   "id": "d33b5969",
   "metadata": {},
   "source": [
    "But, we can still work with forEach loop by converting the `HTMLCollection` to `Array` using `Array.from`\n",
    "\n",
    "```JavaScript\n",
    "    // the below works\n",
    "    const navItemsArray = Array.from(navItems);\n",
    "    console.log(navItemsArray);\n",
    "    // Now, we can use forEach\n",
    "    navItemsArray.forEach((navItem)=>{\n",
    "        navItem.style.backgroundColor = \"azure\";\n",
    "        navItem.style.color = \"pink\";\n",
    "        navItem.style.fontWeight = \"bold\";\n",
    "      })\n",
    "```"
   ]
  },
  {
   "cell_type": "markdown",
   "id": "56a22147",
   "metadata": {},
   "source": [
    "### querySelectorAll \n",
    "#### querySelectorAll returns NodeList\n",
    "\n",
    "With this we can use all three loops:\n",
    "1. simple for loop \n",
    "2. for of loop \n",
    "3. forEach loop"
   ]
  },
  {
   "cell_type": "markdown",
   "id": "5642ea0d",
   "metadata": {},
   "source": [
    "```JavaScript\n",
    "const navItems3 = document.querySelectorAll(\"a\");\n",
    "```"
   ]
  },
  {
   "cell_type": "markdown",
   "id": "131903b0",
   "metadata": {},
   "source": [
    "```JavaScript\n",
    "// simple for loop\n",
    "for (let i = 0; i < navItems3.length; i++) {\n",
    "    const navItem = navItems3[i];\n",
    "    navItem.style.backgroundColor = \"white\";\n",
    "    navItem.style.color = \"green\";\n",
    "    navItem.style.fontWeight = \"bold\";\n",
    "  }\n",
    "\n",
    "// for of loop\n",
    "for (let navItem of navItems3){\n",
    "    navItem.style.backgroundColor = \"blue\";\n",
    "    navItem.style.color = \"black\";\n",
    "    navItem.style.fontWeight = \"bold\";\n",
    "  }\n",
    "\n",
    "// forEach loop\n",
    "navItems3.forEach((navItem)=>{\n",
    "      navItem.style.backgroundColor = \"azure\";\n",
    "      navItem.style.color = \"pink\";\n",
    "      navItem.style.fontWeight = \"bold\";\n",
    "    })\n",
    "```"
   ]
  },
  {
   "cell_type": "markdown",
   "id": "f2dfac3b",
   "metadata": {},
   "source": [
    "NodeList can also be converted to Array using `Array.from()`"
   ]
  },
  {
   "cell_type": "markdown",
   "id": "747c3e06",
   "metadata": {},
   "source": [
    "### More on DOM"
   ]
  },
  {
   "cell_type": "markdown",
   "id": "582fcfa8",
   "metadata": {},
   "source": [
    "This is the HTMl code we are working with now (`index2.html`):\n",
    "\n",
    "```HTML\n",
    "<html>\n",
    "    <head>\n",
    "        <title>DOM traversing</title>\n",
    "        <script src=\"./111.js\" defer></script>\n",
    "    </head>\n",
    "    <body>\n",
    "        <div class=\"container\">\n",
    "            <h1>My heading</h1>\n",
    "                <p>Some useful information</p>\n",
    "        </div>\n",
    "    </body>\n",
    "</html>\n",
    "```"
   ]
  },
  {
   "cell_type": "markdown",
   "id": "8e3a5017",
   "metadata": {},
   "source": [
    "```JavaScript\n",
    "const rootNode = document.getRootNode();\n",
    "console.log(rootNode);\n",
    "\n",
    "console.log(rootNode.childNodes);\n",
    "```\n",
    "\n",
    "![](17.png)"
   ]
  },
  {
   "cell_type": "markdown",
   "id": "c7e08882",
   "metadata": {},
   "source": [
    "### Root element corresponding to `<HTML>` tag\n",
    "\n",
    "```JavaScript\n",
    "const htmlElementNode = rootNode.childNodes[0];\n",
    "console.log(htmlElementNode);\n",
    "```\n",
    "\n",
    "![](18.png)"
   ]
  },
  {
   "cell_type": "markdown",
   "id": "4a8449ee",
   "metadata": {},
   "source": [
    "If we want object representation, we can write `console.dir(htmlElementNode)`."
   ]
  },
  {
   "cell_type": "markdown",
   "id": "99b78121",
   "metadata": {},
   "source": [
    "```JavaScript\n",
    "console.log(htmlElementNode.childNodes);\n",
    "```\n",
    "\n",
    "![](19.png)"
   ]
  },
  {
   "cell_type": "markdown",
   "id": "6cae1870",
   "metadata": {},
   "source": [
    "### Child nodes under root element or `HTML` element or `HTML` node\n",
    "\n",
    "```JavaScript\n",
    "const headElementNode = htmlElementNode.childNodes[0];\n",
    "console.log(headElementNode);\n",
    "\n",
    "const textNode = htmlElementNode.childNodes[1];\n",
    "console.log(textNode);\n",
    "\n",
    "const bodyElementNode = htmlElementNode.childNodes[2];\n",
    "console.log(bodyElementNode);\n",
    "```\n",
    "\n",
    "![](20.png)"
   ]
  },
  {
   "cell_type": "markdown",
   "id": "c9fc6e98",
   "metadata": {},
   "source": [
    "### Parent node of head element\n",
    "\n",
    "```JavaScript\n",
    "console.log(headElementNode.parentNode);\n",
    "```\n",
    "\n",
    "![](21.png)"
   ]
  },
  {
   "cell_type": "markdown",
   "id": "4112c6d5",
   "metadata": {},
   "source": [
    "### Sibling relation\n",
    "\n",
    "```JavaScript\n",
    "console.log(headElementNode.nextSibling);\n",
    "```\n",
    "\n",
    "![](22.png)"
   ]
  },
  {
   "cell_type": "markdown",
   "id": "8b7a0da6",
   "metadata": {},
   "source": [
    "### Two siblings next to head element\n",
    "\n",
    "```JavaScript\n",
    "// two siblings next to head element\n",
    "console.log(headElementNode.nextSibling.nextSibling);\n",
    "```\n",
    "\n",
    "![](23.png)"
   ]
  },
  {
   "cell_type": "markdown",
   "id": "163b3401",
   "metadata": {},
   "source": [
    "### `nextElementSibling` -- it will ignore textNode consisting of space and new line\n",
    "\n",
    "The line below will return body element:\n",
    "\n",
    "```JavaScript\n",
    "console.log(headElementNode.nextElementSibling);\n",
    "```\n",
    "\n",
    "![](24.png)"
   ]
  },
  {
   "cell_type": "markdown",
   "id": "a4611a1b",
   "metadata": {},
   "source": [
    "### childNodes\n",
    "\n",
    "```JavaScript\n",
    "console.log(headElementNode.childNodes);\n",
    "```\n",
    "\n",
    "![](25.png)"
   ]
  },
  {
   "cell_type": "markdown",
   "id": "b1ff575a",
   "metadata": {},
   "source": [
    "### Select heading, go to its parent and then change the background color and text color of this parent\n",
    "\n",
    "```JavaScript\n",
    "// Select heading, go to its parent and then change the \n",
    "// background color and text color of this parent\n",
    "\n",
    "const h1 = document.querySelector(\"h1\");\n",
    "const div = h1.parentNode;\n",
    "div.style.color = \"#efefef\";\n",
    "div.style.backgroundColor = \"#333\";\n",
    "```"
   ]
  },
  {
   "cell_type": "markdown",
   "id": "99202338",
   "metadata": {},
   "source": [
    "### Reach body element from heading and then change the background color and text color of this parent\n",
    "\n",
    "```JavaScript\n",
    "// reach body element from heading and then change the \n",
    "// background color and text color of this parent\n",
    "const h1 = document.querySelector(\"h1\");\n",
    "const body = h1.parentNode.parentNode;\n",
    "body.style.color = \"#efefef\";\n",
    "body.style.backgroundColor = \"#333\";\n",
    "```"
   ]
  },
  {
   "cell_type": "markdown",
   "id": "6229ab32",
   "metadata": {},
   "source": [
    "### Direct way to select `body` element using `document.body`\n",
    "\n",
    "```JavaScript\n",
    "// A different way to select body element and do the same tasks\n",
    "// as before\n",
    "\n",
    "const body2 = document.body;\n",
    "body.style.color = \"#efefef\";\n",
    "body.style.backgroundColor = \"#333\";\n",
    "```"
   ]
  },
  {
   "cell_type": "markdown",
   "id": "4dbf5f30",
   "metadata": {},
   "source": [
    "### Nesting querySelector -- selecting nested HTML element using `querySelector`\n",
    "\n",
    "We can use querySelector to select an HTML element. We can again use querySelector to select HTML elements within the first selected element.\n",
    "\n",
    "#### Selecting `title` element nested inside `head` element\n",
    "\n",
    "In the example below, we select `head` element first using `querySelector` and then select `title` element by again using `querySelector` on the selected `head` element.\n",
    "\n",
    "```JavaScript\n",
    "const head = document.querySelector(\"head\");\n",
    "const title = head.querySelector(\"title\");\n",
    "console.log(title);\n",
    "```"
   ]
  },
  {
   "cell_type": "markdown",
   "id": "bc865703",
   "metadata": {},
   "source": [
    "### `childNodes` property gives child nodes including text nodes\n",
    "\n",
    "```JavaScript\n",
    "// .childNodes property includes text nodes\n",
    "console.log(container.childNodes); // includes text nodes\n",
    "// representing new line and space\n",
    "```\n",
    "\n",
    "![](27.png)"
   ]
  },
  {
   "cell_type": "markdown",
   "id": "f120f058",
   "metadata": {},
   "source": [
    "### `children`  property gives child nodes without text nodes\n",
    "\n",
    "```JavaScript\n",
    "// .children property does not include text nodes\n",
    "console.log(container.children); // does not include text nodes\n",
    "// representing new line and space\n",
    "```\n",
    "\n",
    "![](28.png)"
   ]
  },
  {
   "cell_type": "markdown",
   "id": "097cf5fc",
   "metadata": {},
   "source": [
    "Now, again we will work with `index.html` file defined as following:\n",
    "\n",
    "```HTML\n",
    "<!DOCTYPE html>\n",
    "<html lang=\"en\">\n",
    "<head>\n",
    "    <meta charset=\"UTF-8\">\n",
    "    <meta http-equiv=\"X-UA-Compatible\" content=\"IE=edge\">\n",
    "    <meta name=\"viewport\" content=\"width=device-width, initial-scale=1.0\">\n",
    "    <link rel=\"stylesheet\" href=\"./style.css\">\n",
    "    <!--\n",
    "        We can link our js file here using below:\n",
    "        <script src=\"./102.js\"></script>\n",
    "        But this will throw error if the JS is using the HTML elements below\n",
    "        as the HTML elements used in this file below are not read or loaded yet\n",
    "\n",
    "    -->\n",
    "    <!--\n",
    "        1st approach:\n",
    "        <script src=\"./102.js\"></script>\n",
    "    -->\n",
    "    <!--\n",
    "        3rd approach:\n",
    "        <script src=\"./102.js\" async></script>\n",
    "    -->\n",
    "\n",
    "    <!--\n",
    "        4th approach: best approach using defer\n",
    "        <script src=\"./102.js\" defer></script>\n",
    "    -->\n",
    "    <script src=\"./118.js\" defer></script>\n",
    "\n",
    "    <title>My Website</title>\n",
    "</head>\n",
    "<body>\n",
    "    <header class=\"header\">\n",
    "        <nav class=\"nav container\">\n",
    "            <h1 class=\"log\">Website</h1>\n",
    "            <ul class=\"nav-items\">\n",
    "                <li class=\"nav-item\"><a href=\"Home\">Home</a></li>\n",
    "                <li class=\"nav-item\"><a href=\"\">To Do</a></li>\n",
    "                <li class=\"nav-item\"><a href=\"\">Sign In</a></li>\n",
    "            </ul>\n",
    "        </nav>\n",
    "        <div class=\"headline\">\n",
    "            <h2 id=\"main-heading\">Manage your tasks <span style=\"display: none\">Hello</span></h2>\n",
    "            <button class=\"btn btn-headline\">Learn More</button>\n",
    "        </div>\n",
    "    </header>\n",
    "    <section class=\"section-todo container\">\n",
    "        <h2>What do you plan to do today?</h2>\n",
    "        <form class=\"form-todo\">\n",
    "            <input type=\"text\" name=\"\" id=\"\" placeholder=\"Add Todo\">\n",
    "            <input type=\"submit\" value=\"Add Todo\" class=\"btn\">\n",
    "        </form>\n",
    "        <ul class=\"todo-list\">\n",
    "            <!-- Uncomment the below line upto file 117.js -->             // \n",
    "            <!--<li class=\"first-todo\">todo 1</li> -->\n",
    "            <li>item 1</li>\n",
    "            <li>item 2</li>\n",
    "            <li>item 3</li>\n",
    "            <li>item 4</li>\n",
    "            <li>item 5</li>\n",
    "        </ul>\n",
    "    </section>  \n",
    "    \n",
    "    <section class=\"section-signup container\">\n",
    "        <h2>Sign Up</h2>\n",
    "        <form class=\"signup-form\">\n",
    "            <div class=\"form-group\">\n",
    "                <label for=\"username\">Username</label>\n",
    "                <input type=\"text\" name=\"username\" id=\"username\">\n",
    "            </div>\n",
    "            <div class=\"form-group\">\n",
    "                <label for=\"password\">password</label>\n",
    "                <input type=\"password\" name=\"password\" id=\"password\">\n",
    "            </div>\n",
    "            <div class=\"form-group\">\n",
    "                <label for=\"confirmPassword\">Confirm Password</label>\n",
    "                <input type=\"password\" name=\"confirmPassword\" id=\"confirmPassword\">\n",
    "            </div>\n",
    "            <div class=\"form-group\">\n",
    "                <label for=\"email\">Email</label>\n",
    "                <input type=\"email\" name=\"email\" id=\"email\">\n",
    "            </div>\n",
    "            <div class=\"form-group\">\n",
    "                <label for=\"about\">About Yourself</label>\n",
    "                <textarea name=\"about\" id=\"about\" cols=\"30\" rows=\"10\"></textarea>\n",
    "            </div>\n",
    "            <button type=\"submit\" class=\"btn signup-btn\">Submit</button>\n",
    "            \n",
    "        </form>\n",
    "    </section>\n",
    "    <!--\n",
    "        2nd approach: Putting before the end of <body> tag\n",
    "        <script src=\"./102.js\"></script>\n",
    "    -->\n",
    "</body>\n",
    "</html>\n",
    "```"
   ]
  },
  {
   "cell_type": "markdown",
   "id": "7ba5bc1f",
   "metadata": {},
   "source": [
    "We also have `style.css` as before:\n",
    "\n",
    "```CSS\n",
    "@import url('https://fonts.googleapis.com/css2?family=Poppins:ital,wght@0,300;0,400;0,500;600;700;1,200&display=swap');\n",
    "\n",
    "*{\n",
    "    box-sizing: border-box;\n",
    "    padding: 0;\n",
    "    margin: 0;\n",
    "}\n",
    "\n",
    "body{\n",
    "    font-family: 'Poppins', sans-serif;\n",
    "}\n",
    "\n",
    "a{\n",
    "    text-decoration: none;\n",
    "    color: white;\n",
    "}\n",
    "\n",
    ".header{\n",
    "    position: relative;\n",
    "    min-height: 60vh;\n",
    "    background: url('./background.jpg');\n",
    "    background-position: center;\n",
    "    background-repeat: no-repeat;\n",
    "    background-size: cover;\n",
    "    color: white;\n",
    "}\n",
    "\n",
    ".container{\n",
    "    max-width: 1200px;\n",
    "    margin: auto;\n",
    "    width: 90%;\n",
    "}\n",
    "\n",
    ".nav {\n",
    "    min-height: 8vh;\n",
    "    display: flex;\n",
    "    justify-content: space-between;\n",
    "    align-items: center;\n",
    "  }\n",
    "  \n",
    "  .nav-items {\n",
    "    width: 40%;\n",
    "    display: flex;\n",
    "    list-style-type: none;\n",
    "    justify-content: space-between;\n",
    "  }\n",
    "\n",
    "  .headline {\n",
    "    text-align: center;\n",
    "    position: absolute;\n",
    "    top: 50%;\n",
    "    left: 50%;\n",
    "    transform: translate(-50%, -50%);\n",
    "    /*\n",
    "    transform: translate(-50%, -50%);\" is used to move \n",
    "    an element (typically used for centering an element) \n",
    "    to the center of its parent container both vertically \n",
    "    and horizontally.\n",
    "\n",
    "    \"transform: translate(-50%, -50%);\" moves an element to \n",
    "    the center of its parent container by moving it 50% of \n",
    "    its own size to the left and 50% of its own size up. This \n",
    "    technique is often used for centering elements vertically \n",
    "    and horizontally in responsive web design, where the size \n",
    "    of the container may change dynamically.\n",
    "    */\n",
    "  }\n",
    "\n",
    "  .btn {\n",
    "    display: inline-block;\n",
    "    outline: none;\n",
    "    border: none;\n",
    "    cursor: pointer;\n",
    "  }\n",
    "\n",
    "  .btn-headline {\n",
    "    padding: 1rem 2rem;\n",
    "    font-size: 1rem;\n",
    "    margin-top: 1rem; \n",
    "    font-weight: 600;\n",
    "    /*\n",
    "    \"padding: 1rem 2rem;\" sets the amount of space between the content and the \n",
    "    border of the \"btn-headline\" element. The \"1rem\" value specifies the top and \n",
    "    bottom padding, while the \"2rem\" value specifies the left and right padding.\n",
    "\n",
    "    \"font-size: 1rem;\" sets the size of the text inside the \"btn-headline\" element \n",
    "    to 1 rem. The \"rem\" unit is relative to the font-size of the root element \n",
    "    (usually the <html> element).\n",
    "\n",
    "    \"margin-top: 1rem;\" sets the amount of space between the top edge of the \n",
    "    \"btn-headline\" element and the preceding element(s). The \"1rem\" value specifies \n",
    "    the amount of margin.\n",
    "\n",
    "     margin refers to the space outside the border of an element. It is used to add \n",
    "     space between elements, and affects the position of the element in relation to \n",
    "     other elements on the page. When you apply margin-top to an element, it creates\n",
    "     space above the element and pushes it down, which affects the layout of the page.\n",
    "\n",
    "     the main difference between top and bottom padding vs margin-top is that padding \n",
    "     affects the space inside the element, while margin affects the space outside the \n",
    "     element and the position of the element in relation to other elements on the page.\n",
    "    \n",
    "    \"font-weight\": In CSS, the \"font-weight\" property is used to set the weight \n",
    "    (or thickness) of the font. A font's weight is typically expressed as a numerical \n",
    "    value ranging from 100 to 900, with certain values (e.g. 100, 400, 700) having \n",
    "    specific names (e.g. \"thin\", \"normal\", \"bold\").\n",
    "\n",
    "    A \"font-weight\" value of 500 means that the font is in the middle of the normal \n",
    "    range, which is typically equivalent to \"medium\" or \"semi-bold\". It is thicker \n",
    "    than \"normal\" (400) but lighter than \"bold\" (700). Some fonts may have additional \n",
    "    weight values (e.g. 600, 800) that fall between these ranges.\n",
    "     */\n",
    "  }\n",
    "\n",
    "  .section-todo {\n",
    "    margin-top: 5rem;\n",
    "    text-align: center;\n",
    "  }\n",
    "\n",
    "   .bg-dark {\n",
    "      background: #000;\n",
    "      color: #eee;\n",
    "   }\n",
    "  \n",
    "   .form-todo {\n",
    "    min-height: 5vh;\n",
    "    display: flex;\n",
    "    justify-content: space-between;\n",
    "    margin-top: 1rem;\n",
    "  } \n",
    "\n",
    "  .form-todo input {\n",
    "    min-height: 100%;\n",
    "  }\n",
    "\n",
    "  .form-todo input[type=\"text\"] {\n",
    "    width: 68%;\n",
    "    padding: 0.8rem;\n",
    "    font-size: 1rem;\n",
    "    font-weight: 400;\n",
    "  }\n",
    "\n",
    "  .form-todo input[type=\"submit\"] {\n",
    "    width: 20%;\n",
    "    background: rgb(44, 55, 63);\n",
    "    color: white;\n",
    "    font-weight: bold;\n",
    "  }\n",
    "\n",
    "  .section-signup {\n",
    "    /*\n",
    "    The auto value for the left and right margins centers the element horizontally \n",
    "    within its containing block.\n",
    "\n",
    "    So, margin: 5rem auto; centers an element horizontally and sets a large top and \n",
    "    bottom margin of 5 rems each.\n",
    "    */\n",
    "    margin: 5rem auto;\n",
    "    text-align: center;\n",
    "    background: rgb(235, 232, 232);\n",
    "    border-radius: 10px;\n",
    "    padding: 1rem;\n",
    "  }\n",
    "\n",
    "  .signup-form {\n",
    "    max-width: 800px;\n",
    "    width: 95%;\n",
    "    text-align: left;\n",
    "    margin: auto;\n",
    "  }\n",
    "\n",
    "  .signup-form label {\n",
    "    display: block;\n",
    "  }\n",
    "\n",
    "  .signup-form input {\n",
    "    display: block;\n",
    "    width: 100%;\n",
    "    padding: 0.5rem;\n",
    "  }\n",
    "\n",
    "  .form-group {\n",
    "    margin-top: 1rem;\n",
    "  }\n",
    "\n",
    "  .signup-form textarea {\n",
    "    width: 100%;\n",
    "  }\n",
    "   \n",
    "  .signup-btn {\n",
    "    background: rgb(44, 55, 63);\n",
    "    color: white;\n",
    "    padding: 1rem 2rem;\n",
    "    display: block;\n",
    "    margin: auto;\n",
    "    margin-top: 1rem;\n",
    "  }\n",
    "```"
   ]
  },
  {
   "cell_type": "markdown",
   "id": "7d5a0368",
   "metadata": {},
   "source": [
    "To refresh the memory, the HTML page looks like below:\n",
    "\n",
    "![](page.png)"
   ]
  },
  {
   "cell_type": "markdown",
   "id": "1cde9596",
   "metadata": {},
   "source": [
    "### Listing class\n",
    "    \n",
    "```JavaScript\n",
    "const sectionToDo = document.querySelector('.section-todo');\n",
    "\n",
    "// listing class\n",
    "console.log(sectionToDo.classList);\n",
    "```\n",
    "\n",
    "![](29.png)"
   ]
  },
  {
   "cell_type": "markdown",
   "id": "a647bc91",
   "metadata": {},
   "source": [
    "```JavaScript\n",
    "\n",
    "```"
   ]
  },
  {
   "cell_type": "markdown",
   "id": "0c16aed3",
   "metadata": {},
   "source": [
    "### Adding class\n",
    "    \n",
    "```JavaScript\n",
    "sectionToDo.classList.add('bg-dark');\n",
    "console.log(sectionToDo.classList);\n",
    "```\n",
    "\n",
    "![](30.png)"
   ]
  },
  {
   "cell_type": "markdown",
   "id": "f87e3f9e",
   "metadata": {},
   "source": [
    "### Removing class\n",
    "    \n",
    "```JavaScript\n",
    "sectionToDo.classList.remove(\"container\");\n",
    "console.log(sectionToDo.classList);\n",
    "```\n",
    "\n",
    "![](31.png)"
   ]
  },
  {
   "cell_type": "markdown",
   "id": "12ce4006",
   "metadata": {},
   "source": [
    "### Checking the existence of a class\n",
    "    \n",
    "```JavaScript\n",
    "console.log(sectionToDo.classList.contains('container'));\n",
    "```\n",
    "\n",
    "![](32.png)"
   ]
  },
  {
   "cell_type": "markdown",
   "id": "0b883c74",
   "metadata": {},
   "source": [
    "### Toggle class\n",
    "\n",
    "If a class is already there, remove it; if not, add it\n",
    "In the example, we are working with `bg-dark` class defined in CSS\n",
    "\n",
    "```JavaScript\n",
    "sectionToDo.classList.toggle('bg-dark');\n",
    "```"
   ]
  },
  {
   "cell_type": "markdown",
   "id": "0cee2a71",
   "metadata": {},
   "source": [
    "Some more code on the already covered  topics.\n",
    "\n",
    "```JavaScript\n",
    "const header = document.querySelector('.header');\n",
    "console.log(header.classList);\n",
    "header.classList.add(\"bg-dark\");\n",
    "```"
   ]
  },
  {
   "cell_type": "markdown",
   "id": "57a2771c",
   "metadata": {},
   "source": [
    "### Emnet abbreviation\n",
    "\n",
    "Writing `ul.todo-list>li{todo 1}*1` in VSCode and then pressing Tab will give the following HTML code:\n",
    "\n",
    "```HTML\n",
    "<ul class=\"todo-list\">\n",
    "     <li>todo 1</li>\n",
    "</ul>\n",
    "```"
   ]
  },
  {
   "cell_type": "markdown",
   "id": "a737d590",
   "metadata": {},
   "source": [
    "## Add new HTML elements to page\n",
    "\n",
    "### Add HTML element using innerHTML"
   ]
  },
  {
   "cell_type": "markdown",
   "id": "31ccef03",
   "metadata": {},
   "source": [
    "We want to select the class in this section:\n",
    "\n",
    "```HTML\n",
    "    <ul class=\"todo-list\">\n",
    "        <li>todo 1</li>\n",
    "    </ul>\n",
    "```"
   ]
  },
  {
   "cell_type": "markdown",
   "id": "f75a3288",
   "metadata": {},
   "source": [
    "The JS code to select the innerHTML inside the class `todo-list`\n",
    "\n",
    "```JavaScript\n",
    "const todoList = document.querySelector(\".todo-list\");\n",
    "console.log(todoList.innerHTML);\n",
    "```\n",
    "\n",
    "![](33.png)"
   ]
  },
  {
   "cell_type": "markdown",
   "id": "e5515701",
   "metadata": {},
   "source": [
    "### Change the innerHTML -- if we are not adding new element, we can use it\n",
    "\n",
    "```JavaScript\n",
    "todoList.innerHTML = \"<li>New Todo</li>\"\n",
    "console.log(todoList.innerHTML);\n",
    "```\n",
    "\n",
    "![](34.png)"
   ]
  },
  {
   "cell_type": "markdown",
   "id": "0cb25feb",
   "metadata": {},
   "source": [
    "### Add to the existing HTML -- don't use this approach\n",
    "\n",
    "```JavaScript\n",
    "todoList.innerHTML += \"<li>New Todo</li>\";\n",
    "console.log(todoList.innerHTML);\n",
    "```\n",
    "\n",
    "![](35.png)\n",
    "\n",
    "```JavaScript\n",
    "// Add to the existing HTML\n",
    "todoList.innerHTML += \"<li>New Todo</li>\";\n",
    "todoList.innerHTML += \"<li>Teaching ML</li>\";\n",
    "todoList.innerHTML += \"<li>Learning DS and Algo</li>\";\n",
    "console.log(todoList.innerHTML);\n",
    "```\n",
    "\n",
    "![](36.png)"
   ]
  },
  {
   "cell_type": "markdown",
   "id": "97e9bc79",
   "metadata": {},
   "source": [
    "But never do what we have shown above. It gives rise to performance issues. Only use when we need to change all the code inside innerHTML, then use it. Don't use for adding new elements. "
   ]
  },
  {
   "cell_type": "markdown",
   "id": "b2e595b4",
   "metadata": {},
   "source": [
    "**To create new element, a better approach is using `createElement`**"
   ]
  },
  {
   "cell_type": "markdown",
   "id": "f5b79456",
   "metadata": {},
   "source": [
    "### Create HTML element using `document.createElement`\n",
    "\n",
    "Some of the steps are:\n",
    "\n",
    "* document.createElement\n",
    "* append\n",
    "* prepend\n",
    "* remove"
   ]
  },
  {
   "cell_type": "markdown",
   "id": "33421e16",
   "metadata": {},
   "source": [
    "#### Adding new list item\n",
    "\n",
    "Let's have a look at the list items before appending anything new.\n",
    "\n",
    "```JavaScript\n",
    "// todo-list before appending\n",
    "const todoList = document.querySelector(\".todo-list\");\n",
    "console.log(todoList);\n",
    "```\n",
    "\n",
    "![](37.png)\n",
    "\n",
    "Now, ;et's create new list element, create a new text node, add text to it and then add this to the list item.\n",
    "\n",
    "```JavaScript\n",
    "const newTodoItem = document.createElement(\"li\");\n",
    "const newTodoItemNext = document.createTextNode(\"Teach ML\");\n",
    "newTodoItem.append(newTodoItemNext);\n",
    "```\n",
    "\n",
    "Now, add this new list item to the todo list item:\n",
    "\n",
    "```JavaScript\n",
    "const newTodoItem = document.createElement(\"li\");\n",
    "const newTodoItemNext = document.createTextNode(\"Teach ML\");\n",
    "newTodoItem.append(newTodoItemNext); // Add text node to the new list node\n",
    "todoList.append(newTodoItem); // add new list to the todo list\n",
    "```\n",
    "\n",
    "Now, have a look at the newly created list and the updated todo list:\n",
    "\n",
    "```JavaScript\n",
    "console.log(newTodoItem);\n",
    "console.log(todoList);\n",
    "```\n",
    "\n",
    "![](38.png)"
   ]
  },
  {
   "cell_type": "markdown",
   "id": "11209c5c",
   "metadata": {},
   "source": [
    "### A more efficient way to add list element -- `textContent`\n",
    "\n",
    "Using `textContent`, we don't even need to create a new text node (using `createTextNode`), and then add it to the newly created list node; rather, we can add text to the newly created list node using `textContent` property of this newly created list.\n",
    "\n",
    "```JavaScript\n",
    "// Adding text to new list item in a more efficient way\n",
    "const todoList = document.querySelector(\".todo-list\");\n",
    "const newTodoItem = document.createElement(\"li\");\n",
    "newTodoItem.textContent = \"Teach ML\";\n",
    "todoList.append(newTodoItem);\n",
    "// we can also use appendChild() instead of append()\n",
    "console.log(todoList);\n",
    "```\n",
    "\n",
    "![](39.png)"
   ]
  },
  {
   "cell_type": "markdown",
   "id": "0c489d9a",
   "metadata": {},
   "source": [
    "Now, we also look at `prepend` which adds at the beginning:\n",
    "\n",
    "```JavaScript\n",
    "// Adding text to new list item in a more efficient way\n",
    "const todoList = document.querySelector(\".todo-list\");\n",
    "const newTodoItem = document.createElement(\"li\");\n",
    "newTodoItem.textContent = \"Teach ML\";\n",
    "todoList.prepend(newTodoItem);\n",
    "console.log(todoList);\n",
    "```\n",
    "\n",
    "![](40.png)"
   ]
  },
  {
   "cell_type": "markdown",
   "id": "6bdf7af3",
   "metadata": {},
   "source": [
    "### Removing a list item"
   ]
  },
  {
   "cell_type": "markdown",
   "id": "d4c58ace",
   "metadata": {},
   "source": [
    "```JavaScript\n",
    "// selects first list item under todo-list class\n",
    "const todo1 = document.querySelector(\".todo-list li\");\n",
    "todo1.remove();\n",
    "console.log(todo1);\n",
    "```"
   ]
  },
  {
   "cell_type": "markdown",
   "id": "a7a595ec",
   "metadata": {},
   "source": [
    "### Inserting before and after an element\n",
    "\n",
    "#### Inserting before using `before()`\n",
    "\n",
    "```JavaScript\n",
    "// Inserting before\n",
    "const newTodoItem = document.createElement(\"li\");\n",
    "newTodoItem.textContent = \"Teach ML\";\n",
    "const todoList = document.querySelector(\".todo-list\");\n",
    "todoList.before(newTodoItem);\n",
    "```\n",
    "\n",
    "####  Inserting after using `after()`\n",
    "\n",
    "```JavaScript\n",
    "// Inserting after\n",
    "const newTodoItem = document.createElement(\"li\");\n",
    "newTodoItem.textContent = \"Teach ML\";\n",
    "const todoList = document.querySelector(\".todo-list\");\n",
    "todoList.after(newTodoItem);\n",
    "```"
   ]
  },
  {
   "cell_type": "markdown",
   "id": "4dfe803f",
   "metadata": {},
   "source": [
    "### An alternative way to insert element using `insertAdjacentHTML`\n",
    "\n",
    "* beforebegin\n",
    "* afterbegin\n",
    "* beforeend\n",
    "* afterend\n",
    "\n",
    "#### elem.insertAdjacentHTML(where, html)\n",
    "\n",
    "Insert before the end of the element with class `todo-list`\n",
    "\n",
    "```JavaScript\n",
    "// Add one more list item under unordered list\n",
    "const todoList = document.querySelector(\".todo-list\");\n",
    "console.log(todoList);\n",
    "\n",
    "todoList.insertAdjacentHTML(\"beforeend\", \"<li>Teach ML</li>\");\n",
    "console.log(todoList);\n",
    "```"
   ]
  },
  {
   "cell_type": "markdown",
   "id": "9a5336de",
   "metadata": {},
   "source": [
    "Similarly, `afterbegin` can used for prepending\n",
    "\n",
    "```JavaScript\n",
    "todoList.insertAdjacentHTML(\"afterbegin\", \"<li>Added using afterbegin</li>\");\n",
    "console.log(todoList);\n",
    "```\n",
    "\n",
    "Similarly, we can use `beforrebegin` and `afterend`\n",
    "\n",
    "```JavaScript\n",
    "todoList.insertAdjacentHTML(\"beforebegin\", \"<li>Added using beforebegin</li>\");\n",
    "console.log(todoList);\n",
    "\n",
    "// It will be added outside the unordered list or class with the value todo-list\n",
    "todoList.insertAdjacentHTML(\"afterend\", \"<li>Added using afterend</li>\");\n",
    "console.log(todoList);\n",
    "```\n",
    "\n",
    "![](41.png)"
   ]
  },
  {
   "cell_type": "markdown",
   "id": "c93e58f4",
   "metadata": {},
   "source": [
    "### Clone nodes\n",
    "\n",
    "Suppose we want to both append and prepend a new item to the list, we can clone and then append/prepend the cloned node\n",
    "\n",
    "```JavaScript\n",
    "const ul = document.querySelector(\".todo-list\");\n",
    "const li = document.createElement(\"li\");\n",
    "li.textContent = \"Teach ML\";\n",
    "const li2 = li.cloneNode(true); // true means deep clone\n",
    "ul.prepend(li);\n",
    "ul.append(li2);\n",
    "```"
   ]
  },
  {
   "cell_type": "markdown",
   "id": "6e0da4ad",
   "metadata": {},
   "source": [
    "### Some old methods to support poor IE\n",
    "\n",
    "* `appendChild` (instead of `append`)\n",
    "\n",
    "```JavaScript\n",
    "const ul = document.querySelector(\".todo-list\");\n",
    "const li = document.createElement(\"li\");\n",
    "li.textContent = \"New todo\";\n",
    "ul.appendChild(li);     \n",
    "```\n",
    "* `insertBefore` (instead of `prepend`)\n",
    "\n",
    "```JavaScript\n",
    "// use of insertBefore\n",
    "const ul = document.querySelector(\".todo-list\");\n",
    "const li = document.createElement(\"li\");\n",
    "const referenceNode = document.querySelector(\".first-node\");\n",
    "li.textContent = \"Added with insertBefore\";\n",
    "ul.insertBefore(li, referenceNode);\n",
    "```\n",
    "\n",
    "* `replaceChild`;\n",
    "\n",
    "```JavaScript\n",
    "const ul = document.querySelector(\".todo-list\");\n",
    "const li = document.createElement(\"li\");\n",
    "li.textContent = \"Added with insertBefore\";\n",
    "const referenceNode = document.querySelector(\".first-node\");\n",
    "ul.replaceChild(li, referenceNode);\n",
    "```\n",
    "\n",
    "* `removeChild` (instead of `remove`)\n",
    "\n",
    "```JavaScript\n",
    "const ul = document.querySelector(\".todo-list\");\n",
    "const referenceNode = document.querySelector(\".first-node\");\n",
    "ul.removeChild(referenceNode);\n",
    "```"
   ]
  },
  {
   "cell_type": "markdown",
   "id": "5fd36779",
   "metadata": {},
   "source": [
    "### More Emnet shortcut\n",
    "\n",
    "`li{item $}*5` will give \n",
    "\n",
    "```HTML\n",
    "     <li>item 1</li>\n",
    "     <li>item 2</li>\n",
    "     <li>item 3</li>\n",
    "     <li>item 4</li>\n",
    "     <li>item 5</li>\n",
    "```"
   ]
  },
  {
   "cell_type": "markdown",
   "id": "4b249736",
   "metadata": {},
   "source": [
    "### static list vs live list\n",
    "\n",
    "`querySewlectorAll` gives us static list, gives us NodeList\n",
    "\n",
    "`getElementBySomething` gives us live list, gives us HTML\n",
    "Element"
   ]
  },
  {
   "cell_type": "markdown",
   "id": "eee29b7a",
   "metadata": {},
   "source": [
    "#### static list\n",
    "\n",
    "```JavaScript\n",
    "const listItems = document.querySelectorAll(\".todo-list li\");\n",
    "const sixthListItem = document.createElement(\"li\");\n",
    "sixthListItem.textContent = \"Sixth todo -- added with static list\";\n",
    "const ul = document.querySelector(\".todo-list\");\n",
    "ul.append(sixthListItem);\n",
    "console.log(listItems); // this will not include the new item\n",
    "// although the new item is added to the DOM, the static \n",
    "// list is not updated\n",
    "```\n",
    "\n",
    "#### live list\n",
    "\n",
    "```JavaScript\n",
    "const ul = document.querySelectorAll(\".todo-list\");\n",
    "const listItems = ul.getElementsByTagName(\"li\");\n",
    "\n",
    "const sixthListItem = document.createElement(\"li\");\n",
    "sixthListItem.textContent = \"Sixth todo -- added with live list\";\n",
    "const ul = document.querySelector(\".todo-list\");\n",
    "ul.append(sixthListItem);\n",
    "console.log(listItems); // this will include the new item\n",
    "```"
   ]
  },
  {
   "cell_type": "markdown",
   "id": "7c3377e4",
   "metadata": {},
   "source": [
    "### Dimensions of an element\n",
    "\n",
    "#### getBoundingClientRect()\n",
    "\n",
    "```JavaScript\n",
    "const sectionTodo = document.querySelector('.section-todo');\n",
    "const info = sectionTodo.getBoundingClientRect();\n",
    "console.log(info);\n",
    "```\n",
    "\n",
    "![](42.png)\n",
    "\n",
    "```JavaScript\n",
    "const height = sectionTodo.getBoundingClientRect().height;\n",
    "console.log(height);\n",
    "```\n",
    "\n",
    "![](43.png)\n",
    "\n",
    "```JavaScript\n",
    "const width = sectionTodo.getBoundingClientRect().width;\n",
    "console.log(width);\n",
    "```\n",
    "\n",
    "![](44.png)\n",
    "\n",
    "```JavaScript\n",
    "const top = sectionTodo.getBoundingClientRect().top;\n",
    "console.log(top);\n",
    "```\n",
    "\n",
    "![](45.png)"
   ]
  },
  {
   "cell_type": "markdown",
   "id": "ce13b3c4",
   "metadata": {},
   "source": [
    "### Events\n",
    "\n",
    "In JavaScript, an event is a signal that is generated by the browser or by the user's interaction with a web page. Events can be triggered by various actions, such as clicking a button, submitting a form, moving the mouse, or typing on the keyboard.\n",
    "\n",
    "When an event occurs, the browser creates an event object that contains information about the event, such as its type, target element, and any additional data related to the event.\n",
    "\n",
    "You can use JavaScript to listen for events and respond to them in different ways. This is often done by attaching event listeners to elements in the web page using the `addEventListener` method. Here's an example:\n",
    "\n",
    "```JavaScript\n",
    "const button = document.querySelector('#my-button');\n",
    "\n",
    "button.addEventListener('click', function(event) {\n",
    "  // do something when the button is clicked\n",
    "});\n",
    "\n",
    "```\n",
    "\n",
    "In this example, an event listener is attached to a button element with the ID `my-button`. The listener responds to the `click` event, which is triggered when the button is clicked. When the event occurs, the function passed as the second argument to `addEventListener` is called, and the event object is passed as an argument to the function.\n",
    "\n",
    "Overall, events in JavaScript allow you to create dynamic and interactive web pages by responding to user interactions and other actions in the browser."
   ]
  },
  {
   "cell_type": "markdown",
   "id": "f75cfb58",
   "metadata": {},
   "source": [
    "**There are 3 ways to bind events to elements**\n",
    "    \n",
    "1. Using onclick attribute inside the element\n",
    "2. Select the element and specify what to do when a specific event happens\n",
    "3. Select the element and use addEventListener method (more efficient and flexible)"
   ]
  },
  {
   "cell_type": "markdown",
   "id": "8227e475",
   "metadata": {},
   "source": [
    "### 1. using onclick attribute inside the HTML element inside the HTML file\n",
    "\n",
    "```HTML\n",
    "<button class=\"btn btn-headline\" onclick=\"console.log('You clicked me!')\">Learn More</button>\n",
    "```\n",
    "\n",
    "### 2.  select the element and specify what to do when the event happens\n",
    "\n",
    "```JavaScript\n",
    "const btn = document.querySelector(\".btn-headline\");\n",
    "btn.onclick = function(){\n",
    "    console.log(\"You clicked me!\");\n",
    "}\n",
    "```\n",
    "\n",
    "### 3. Select the element and use/add `addEventListener` method\n",
    "\n",
    "Below all three approaches give the same result.\n",
    "\n",
    "#### Approach 1\n",
    "\n",
    "```JavaScript\n",
    "const btn = document.querySelector(\".btn-headline\");\n",
    "function clickMe(){\n",
    "    console.log(\"You clicked me!\");\n",
    "}\n",
    "btn.addEventListener(\"click\", clickMe);\n",
    "```\n",
    "\n",
    "#### Approach 2\n",
    "\n",
    "```JavaScript\n",
    "const btn = document.querySelector(\".btn-headline\");\n",
    "btn.addEventListener(\"click\", function(){\n",
    "    console.log(\"You clicked me!\");\n",
    "})\n",
    "```\n",
    "\n",
    "#### Approach 3\n",
    "\n",
    "```JavaScript\n",
    "const btn = document.querySelector(\".btn-headline\");\n",
    "btn.addEventListener(\"click\", ()=>{\n",
    "    console.log(\"Arrow function -- You clicked me!\");\n",
    "});\n",
    "```"
   ]
  },
  {
   "cell_type": "markdown",
   "id": "9fe1c0c6",
   "metadata": {},
   "source": [
    "### `this` keyword"
   ]
  },
  {
   "cell_type": "markdown",
   "id": "c7db6072",
   "metadata": {},
   "source": [
    "```JavaScript\n",
    "const btn = document.querySelector(\".btn-headline\");\n",
    "btn.addEventListener(\"click\", function(){\n",
    "    console.log(\"you clicked me\");\n",
    "    console.log(this);\n",
    "    this.style.backgroundColor = \"red\";\n",
    "})\n",
    "```\n",
    "\n",
    "![](46.png)"
   ]
  },
  {
   "cell_type": "markdown",
   "id": "7dfcd350",
   "metadata": {},
   "source": [
    "Even if we declare function outside of the `addEventListener` method, the this keyword will still refer to the element that we are listening to the event on.\n",
    "\n",
    "```JavaScript\n",
    "const btn = document.querySelector(\".btn-headline\");\n",
    "function clickMe(){\n",
    "    console.log(\"you clicked me\");\n",
    "    console.log(this);\n",
    "    this.style.backgroundColor = \"red\";\n",
    "}\n",
    "btn.addEventListener(\"click\", clickMe);\n",
    "```\n",
    "\n",
    "![](46.png)\n",
    "\n",
    "In case of arrow function, the value of this keyword will be window or will be the value of this keyword in the parent scope\n",
    "\n",
    "```JavaScript\n",
    "const btn = document.querySelector(\".btn-headline\");\n",
    "btn.addEventListener(\"click\",()=>{\n",
    "    console.log(\"you clicked me\");\n",
    "    console.log(this);\n",
    "    //this.style.backgroundColor = \"red\";\n",
    "})\n",
    "```\n",
    "\n",
    "![](47.png)"
   ]
  },
  {
   "cell_type": "markdown",
   "id": "34a3c5c2",
   "metadata": {},
   "source": [
    "### More Emnet shortcuts\n",
    "\n",
    "#### ! + Tab\n",
    "\n",
    "**! + Tab** gives the following HTML template code\n",
    "\n",
    "```HTML\n",
    "<!DOCTYPE html>\n",
    "<html lang=\"en\">\n",
    "<head>\n",
    "    <meta charset=\"UTF-8\">\n",
    "    <meta http-equiv=\"X-UA-Compatible\" content=\"IE=edge\">\n",
    "    <meta name=\"viewport\" content=\"width=device-width, initial-scale=1.0\">\n",
    "    <title>Document</title>\n",
    "</head>\n",
    "<body>\n",
    "</body>\n",
    "</html>\n",
    "```\n",
    "\n",
    "#### script:src + Tab\n",
    "\n",
    "**script:src + Tab** gives the following `script` tag:\n",
    "\n",
    "```HTML\n",
    "<script src=\"\"></script>\n",
    "```\n",
    "\n",
    "#### .className + Tab\n",
    "\n",
    "**.className + Tab** gives the following `div` with the class `className`\n",
    "\n",
    "For example, **.mybuttons + Tab** gives the following `div`\n",
    "\n",
    "```HTML\n",
    "<div class=\"mybuttons\">\n",
    "```\n",
    "\n",
    "#### button*3 + Tab\n",
    "\n",
    "**button*3 + Tab** gives 3 `button` elements\n",
    "\n",
    "```HTML\n",
    "<button></button><button></button><button></button>\n",
    "```\n",
    "\n",
    "#### h1.heading$*7{Hello World}\n",
    "\n",
    "** h1.heading$*7{Hello World}** will give 7 h1 with class heading and text Hello World\n",
    "\n",
    "```HTML\n",
    "  <h1 class=\"heading1\">Hello World</h1>\n",
    "  <h1 class=\"heading2\">Hello World</h1>\n",
    "  <h1 class=\"heading3\">Hello World</h1>\n",
    "  <h1 class=\"heading4\">Hello World</h1>\n",
    "  <h1 class=\"heading5\">Hello World</h1>\n",
    "  <h1 class=\"heading6\">Hello World</h1>\n",
    "  <h1 class=\"heading7\">Hello World</h1>\n",
    "```"
   ]
  },
  {
   "cell_type": "markdown",
   "id": "d109affd",
   "metadata": {},
   "source": [
    "### Adding click event to multiple elements (all the buttons)\n",
    "\n",
    "I have the following HTML file and trying to incoporate click events to all the buttons\n",
    "\n",
    "```HTML\n",
    "<!DOCTYPE html>\n",
    "<html lang=\"en\">\n",
    "<head>\n",
    "    <meta charset=\"UTF-8\">\n",
    "    <meta http-equiv=\"X-UA-Compatible\" content=\"IE=edge\">\n",
    "    <meta name=\"viewport\" content=\"width=device-width, initial-scale=1.0\">\n",
    "    <script src=\"./122.js\" defer></script>\n",
    "    <title>Click event</title>\n",
    "</head>\n",
    "<body>\n",
    "    <div class=\"my-buttons\">\n",
    "        <button id=\"one\">My button one</button>\n",
    "        <button id=\"two\">My button two</button>\n",
    "        <button id=\"three\">My button three</button>\n",
    "    </div>\n",
    "</body>\n",
    "</html>\n",
    "```\n",
    "\n",
    "Now, in the **122.js** file, we can write the loops in different ways to add click events to multiple elements\n",
    "\n",
    "1. **Using simple for loop**\n",
    "\n",
    "```JavaScript\n",
    "const allButtons = document.querySelectorAll(\".my-buttons button\");\n",
    "// console.log(allButtons);\n",
    "\n",
    "for(let i=0; i<allButtons.length; i++){\n",
    "    allButtons[i].addEventListener(\"click\", function(){\n",
    "        console.log(\"You clicked me!\");\n",
    "        console.log(this); // will show the button element\n",
    "    })\n",
    "}\n",
    "```\n",
    "\n",
    "Clicking on the first button will show this:\n",
    "\n",
    "![](48.png)\n",
    "\n",
    "Clicking on the second button will show this:\n",
    "\n",
    "![](49.png)\n",
    "\n",
    "Clicking on the third button will show this:\n",
    "\n",
    "![](50.png)\n",
    "\n",
    "We can also see the text content of these different buttons:\n",
    "\n",
    "```JavaScript\n",
    "for(let i=0; i<allButtons.length; i++){\n",
    "    allButtons[i].addEventListener(\"click\", function(){\n",
    "        console.log(this.textContent);  // will show the button text\n",
    "    })\n",
    "}\n",
    "```\n",
    "\n",
    "Clicking on the second button will now show the text content of this button:\n",
    "\n",
    "![](51.png)"
   ]
  },
  {
   "cell_type": "markdown",
   "id": "08ed36f8",
   "metadata": {},
   "source": [
    "**Note:** Don't use arrow function with the above code as this will refer to the window object and not the button element. But also remember that most of the time we will be using arrow functions. We will see how to get the button element using arrow functions later.\n",
    "\n",
    "#### But how do I use arrow function then -- use `event.target`\n",
    "\n",
    "If we just use arrow function here, `this` will  give the window object. Using event object, we can get the same result. Event object is discussed later.\n",
    "\n",
    "```JavaScript\n",
    "const allButtons = document.querySelectorAll(\".my-buttons button\");\n",
    "// console.log(allButtons);\n",
    "\n",
    "for(let i=0; i<allButtons.length; i++){\n",
    "    allButtons[i].addEventListener(\"click\", (e)=>{\n",
    "        console.log(\"You clicked me!\");\n",
    "        console.log(e.target.textContent); // will show the button element\n",
    "    })\n",
    "}\n",
    "```\n",
    "\n",
    "Now, clicking on the first button will show this:\n",
    "\n",
    "![](48.png)"
   ]
  },
  {
   "cell_type": "markdown",
   "id": "ad403658",
   "metadata": {},
   "source": [
    "2. **Using for of loop**\n",
    "\n",
    "```JavaScript\n",
    "// Using for of loop\n",
    "\n",
    "const allButtons = document.querySelectorAll(\".my-buttons button\");\n",
    "// console.log(allButtons);\n",
    "\n",
    "for(let button of allButtons){\n",
    "    button.addEventListener(\"click\", function(){\n",
    "        //console.log(\"You clicked me!\");\n",
    "        //console.log(this);\n",
    "        console.log(this.textContent);\n",
    "    })\n",
    "}\n",
    "```\n",
    "\n",
    "Similar to before, if we click on the third button, we will see the following in the Console:\n",
    "\n",
    "![](52.png)\n",
    "\n",
    "#### Using arrow function -- `event.target`\n",
    "\n",
    "```JavaScript\n",
    "const allButtons = document.querySelectorAll(\".my-buttons button\");\n",
    "// console.log(allButtons);\n",
    "\n",
    "for(let button of allButtons){\n",
    "    button.addEventListener(\"click\", (e)=>{\n",
    "        //console.log(\"You clicked me!\");\n",
    "        //console.log(this);\n",
    "        console.log(e.target.textContent);\n",
    "    })\n",
    "}\n",
    "```\n",
    "\n",
    "Similar to before, if we click on the third button, we will see the following in the Console:\n",
    "\n",
    "![](52.png)\n",
    "\n",
    "\n",
    "3. **Using forEach method**\n",
    "\n",
    "```JavaScript\n",
    "// using forEach method\n",
    "const allButtons = document.querySelectorAll(\".my-buttons button\");\n",
    "// console.log(allButtons);\n",
    "\n",
    "allButtons.forEach(function(button){\n",
    "    button.addEventListener(\"click\", function(){\n",
    "        // console.log(\"You clicked me!\");\n",
    "        // console.log(this);\n",
    "        console.log(this.textContent);\n",
    "    })\n",
    "});\n",
    "```\n",
    "\n",
    "Similar to before, if we click on the third button, we will again see the following in the Console:\n",
    "\n",
    "![](53.png)\n",
    "\n",
    "#### Using arrow function -- `event.target`\n",
    "\n",
    "```JavaScript\n",
    "const allButtons = document.querySelectorAll(\".my-buttons button\");\n",
    "// console.log(allButtons);\n",
    "\n",
    "allButtons.forEach(function(button){\n",
    "    button.addEventListener(\"click\", (e)=>{\n",
    "        // console.log(\"You clicked me!\");\n",
    "        // console.log(this);\n",
    "        console.log(e.target.textContent);\n",
    "    })\n",
    "});\n",
    "```\n",
    "If clicked on button three\n",
    "\n",
    "![](53.png)"
   ]
  },
  {
   "cell_type": "markdown",
   "id": "cefb0111",
   "metadata": {},
   "source": [
    "### Event object\n",
    "\n",
    "Whenever browser encounters an event it is listening to\n",
    "1. Gives callback function to JS Engine\n",
    "2. With the callback function, it also gives information on the event happened or an object called event object"
   ]
  },
  {
   "cell_type": "markdown",
   "id": "ec2129a8",
   "metadata": {},
   "source": [
    "```JavaScript\n",
    "const firstButton = document.querySelector(\"#one\");\n",
    "\n",
    "firstButton.addEventListener(\"click\", function(abc){\n",
    "    console.log(abc); // will show the event object\n",
    "});\n",
    "```\n",
    "\n",
    "Now, if we click on button one with id \"one\", we get the following in the Console:\n",
    "\n",
    "![](54.png)"
   ]
  },
  {
   "cell_type": "markdown",
   "id": "70f899b0",
   "metadata": {},
   "source": [
    "2 important proiperties of event:\n",
    "\n",
    "1. **target** Which element triggered the event\n",
    "\n",
    "![](55.png)\n",
    "\n",
    "2. **currentTarget** to which element we attached the event listener\n",
    "\n",
    "![](56.png)"
   ]
  },
  {
   "cell_type": "markdown",
   "id": "ecf950bb",
   "metadata": {},
   "source": [
    "Now using `event.target` in the arrow function will address the issue of not being able to use for loop to add key events to buttons."
   ]
  },
  {
   "cell_type": "markdown",
   "id": "8ec128a8",
   "metadata": {},
   "source": [
    "```JavaScript\n",
    "const firstButton = document.querySelector(\"#one\");\n",
    "\n",
    "firstButton.addEventListener(\"click\", function(abc){\n",
    "    console.log(abc.target); // will show the event object\n",
    "});\n",
    "```\n",
    "\n",
    "Clicking on the first button gives:\n",
    "\n",
    "![](57.png)"
   ]
  },
  {
   "cell_type": "markdown",
   "id": "cb11f81e",
   "metadata": {},
   "source": [
    "The following code will attach click event to all the buttons\n",
    "\n",
    "```JavaScript\n",
    "const allButtons = document.querySelectorAll(\".my-buttons button\");\n",
    "// console.log(allButtons);\n",
    "\n",
    "for(let button of allButtons){\n",
    "    button.addEventListener(\"click\", (e)=>{\n",
    "        console.log(e.currentTarget);\n",
    "    })\n",
    "}\n",
    "```\n",
    "\n",
    "Now, if we click on the three buttons:\n",
    "\n",
    "![](58.png)"
   ]
  },
  {
   "cell_type": "markdown",
   "id": "41270aea",
   "metadata": {},
   "source": [
    "For the code example we used, it doesn't matter whether we use `event.target` or `event.currentTarget`. But, later we will see where they actually differ."
   ]
  },
  {
   "cell_type": "markdown",
   "id": "f666771f",
   "metadata": {},
   "source": [
    "JS Engine of **Chrome** is **v8**\n",
    "\n",
    "JS Engine of Firefox is **Spider Monkey**"
   ]
  },
  {
   "cell_type": "markdown",
   "id": "0335aff2",
   "metadata": {},
   "source": [
    "### Event loop, callback queue\n",
    "\n",
    "The event loop and callback queue are two important concepts in JavaScript that help manage the execution of asynchronous code.\n",
    "\n",
    "In JavaScript, the event loop is a mechanism that ensures the code runs in a non-blocking way. The event loop continuously checks for tasks in the callback queue and executes them one by one in a sequential order. The event loop keeps running until there are no more tasks in the callback queue.\n",
    "\n",
    "When an asynchronous operation is started in JavaScript, it is placed in the callback queue when it completes, along with any associated callback functions. These callbacks are executed in the order they are received in the callback queue.\n",
    "\n",
    "Here's an example to illustrate the event loop and callback queue:"
   ]
  },
  {
   "cell_type": "code",
   "execution_count": 2,
   "id": "66ad2c53",
   "metadata": {},
   "outputs": [
    {
     "name": "stdout",
     "output_type": "stream",
     "text": [
      "Start\n",
      "End\n",
      "Middle\n"
     ]
    }
   ],
   "source": [
    "console.log('Start');\n",
    "setTimeout(() => {\n",
    "  console.log('Middle');\n",
    "}, 1000);\n",
    "console.log('End');\n"
   ]
  },
  {
   "cell_type": "markdown",
   "id": "c6695768",
   "metadata": {},
   "source": [
    "In this example, we have a `setTimeout` function that takes a callback function as its first argument and a time delay of 1000ms as its second argument. When the `setTimeout` function is called, it starts an asynchronous operation that waits for the specified time and then adds the callback function to the callback queue."
   ]
  },
  {
   "cell_type": "markdown",
   "id": "4b60ff06",
   "metadata": {},
   "source": [
    "As you can see, the console.log statements are executed in the order they appear in the code. However, the callback function added to the callback queue by the `setTimeout` function is executed after the main code has finished executing.\n",
    "\n",
    "In summary, the event loop and callback queue are essential for managing the execution of asynchronous code in JavaScript. The event loop continuously checks for tasks in the callback queue and executes them one by one in a sequential order, ensuring that the code runs in a non-blocking way."
   ]
  },
  {
   "cell_type": "markdown",
   "id": "f195fb4b",
   "metadata": {},
   "source": [
    "### Event bubbling, capturing\n",
    "\n",
    "Event bubbling and capturing are two mechanisms in JavaScript that describe the order in which event handlers are executed when an event occurs on an element with nested child elements.\n",
    "\n",
    "Event capturing is the first phase of event propagation, where the event is captured by the outermost element first and then propagated inward to the target element. This means that if you have a nested structure of HTML elements, such as a div inside another div, and an event occurs on the inner div, the event will first be captured by the outer div before it is handled by the inner div. The capturing phase occurs before the bubbling phase.\n",
    "\n",
    "Event bubbling is the second phase of event propagation, where the event is handled by the target element first and then propagated outward to the outermost element. This means that if you have a nested structure of HTML elements and an event occurs on the innermost element, the event will first be handled by the innermost element and then propagated up to the outermost element. The bubbling phase occurs after the capturing phase.\n",
    "\n",
    "Event bubbling is the default mechanism in JavaScript, and it can be useful for handling events that are triggered by child elements. However, in some cases, you may want to use event capturing instead. To use event capturing, you can set the third parameter of the `addEventListener` method to true."
   ]
  },
  {
   "cell_type": "markdown",
   "id": "0ae4538f",
   "metadata": {},
   "source": [
    "We have the following HTMl file:\n",
    "\n",
    "```HTML\n",
    "<!DOCTYPE html>\n",
    "<html lang=\"en\">\n",
    "<head>\n",
    "    <meta charset=\"UTF-8\">\n",
    "    <meta http-equiv=\"X-UA-Compatible\" content=\"IE=edge\">\n",
    "    <meta name=\"viewport\" content=\"width=device-width, initial-scale=1.0\">\n",
    "    <link rel=\"stylesheet\" href=\"./evt-bcd.css\">\n",
    "    <script src=\"./128.js\" defer></script>\n",
    "    <title>Event Bubbling | Capturing | delegation</title>\n",
    "</head>\n",
    "<body>\n",
    "    <main>\n",
    "        <div class=\"grandparent box\">\n",
    "            Grandparent\n",
    "            <div class=\"parent box\">\n",
    "                Parent\n",
    "                <div class=\"child box\">Child</div>\n",
    "            </div>\n",
    "        </div>\n",
    "    </main>\n",
    "</body>\n",
    "</html>\n",
    "```\n",
    "\n",
    "The page looks like below:\n",
    "![](59.png)"
   ]
  },
  {
   "cell_type": "markdown",
   "id": "ba2bdba6",
   "metadata": {},
   "source": [
    "The JavaScript code we are using is in **128.js**.\n",
    "\n",
    "```JavaScript\n",
    "// console.log(\"Hello world!\");\n",
    "\n",
    "const grandparent = document.querySelector(\".grandparent\");\n",
    "const parent = document.querySelector(\".parent\");\n",
    "const child = document.querySelector(\".child\");\n",
    "\n",
    "// capturing events\n",
    "// from the top to the bottom\n",
    "child.addEventListener(\"click\", ()=> {\n",
    "    console.log(\"Capture !!! child\");\n",
    "}, true);\n",
    "\n",
    "parent.addEventListener(\"click\", ()=> {\n",
    "    console.log(\"Capture !!! parent\");\n",
    "}, true);\n",
    "\n",
    "grandparent.addEventListener(\"click\", ()=> {\n",
    "    console.log(\"Capture !!! grandparent\");\n",
    "}, true);\n",
    "\n",
    "document.body.addEventListener(\"click\", ()=> {\n",
    "    console.log(\"Capture !!! body\");\n",
    "}, true);\n",
    "\n",
    "\n",
    "// not capture -- bubbling\n",
    "// from the bottom to the top\n",
    "child.addEventListener(\"click\", ()=> {\n",
    "    console.log(\"Bubble child\");\n",
    "});\n",
    "\n",
    "parent.addEventListener(\"click\", ()=> {\n",
    "    console.log(\"Bubble parent\");\n",
    "});\n",
    "\n",
    "grandparent.addEventListener(\"click\", ()=> {\n",
    "    console.log(\"Bubble grandparent\");\n",
    "});\n",
    "\n",
    "document.body.addEventListener(\"click\", ()=> {\n",
    "    console.log(\"Bubble body\");\n",
    "});\n",
    "```"
   ]
  },
  {
   "cell_type": "markdown",
   "id": "4c99ee9d",
   "metadata": {},
   "source": [
    "Now, if we click outside the `grandparent` portion inside the body, we get the following output:\n",
    "\n",
    "![](61.png)\n",
    "\n",
    "Now, if we click inside the `grandparent` portion, we get the following output:\n",
    "\n",
    "![](62.png)\n",
    "\n",
    "Now, if we click inside the `parent` portion, we get the following output:\n",
    "\n",
    "![](63.png)\n",
    "\n",
    "Now, if we click inside the `child` portion, we get the following output:\n",
    "\n",
    "![](64.png)"
   ]
  },
  {
   "cell_type": "markdown",
   "id": "36d625ba",
   "metadata": {},
   "source": [
    "Now, let's change our js file (128_2.js) to below where for capturing events, we keep only grandparent and body events and for bubbling, we keep only parent and child events:\n",
    "\n",
    "```JavaScript\n",
    "const grandparent = document.querySelector(\".grandparent\");\n",
    "const parent = document.querySelector(\".parent\");\n",
    "const child = document.querySelector(\".child\");\n",
    "\n",
    "// capturing events\n",
    "// from the top to the bottom\n",
    "grandparent.addEventListener(\"click\", ()=> {\n",
    "    console.log(\"Capture !!! grandparent\");\n",
    "}, true);\n",
    "\n",
    "document.body.addEventListener(\"click\", ()=> {\n",
    "    console.log(\"Capture !!! body\");\n",
    "}, true);\n",
    "\n",
    "\n",
    "// not capture\n",
    "// from the bottom to the top\n",
    "child.addEventListener(\"click\", ()=> {\n",
    "    console.log(\"Bubble child\");\n",
    "});\n",
    "\n",
    "parent.addEventListener(\"click\", ()=> {\n",
    "    console.log(\"Bubble parent\");\n",
    "});\n",
    "```"
   ]
  },
  {
   "cell_type": "markdown",
   "id": "8bc48be2",
   "metadata": {},
   "source": [
    "Now, if we click inside child portion, we will see this:\n",
    "\n",
    "![](65.png)"
   ]
  },
  {
   "cell_type": "markdown",
   "id": "9848bab6",
   "metadata": {},
   "source": [
    "Now, if we change the JS code (128_3.js) as such that event is associated with only grandparent\n",
    "\n",
    "```JavaScript\n",
    "// event delegation\n",
    "\n",
    "const grandparent = document.querySelector(\".grandparent\");\n",
    "\n",
    "grandparent.addEventListener(\"click\", (e)=> {\n",
    "    console.log(\"You clicked something!\");\n",
    "});\n",
    "```\n",
    "\n",
    "Now, even if we click inside child element which doesn't have any click event associated, we will see `\"You clicked something!\"` in the console. \n",
    "\n",
    "![](66.png)\n",
    "\n",
    "It starts looking for event starting from body, then goes to check grandparent, then parent, then child, then it again bubbles to see if there is any click event in parent, if not if there is any click event associated with Grandparent, then it called the callback function of the grandparent and not child. This means child, parent and grandparent don't need separate event listeners due to event delegation."
   ]
  },
  {
   "cell_type": "markdown",
   "id": "b52d06d9",
   "metadata": {},
   "source": [
    "If the js code is updated (128_4.js),\n",
    "    \n",
    "```JavaScript\n",
    "const grandparent = document.querySelector(\".grandparent\");\n",
    "\n",
    "grandparent.addEventListener(\"click\", (e)=> {\n",
    "    console.log(e);\n",
    "});\n",
    "```\n",
    "\n",
    "We will see that `PointerEvent` is printed and the value of `target` is `div.child.box`."
   ]
  },
  {
   "cell_type": "markdown",
   "id": "63c7a362",
   "metadata": {},
   "source": [
    "We can also print the HTML tag for the portion where it is clicked,\n",
    "    \n",
    "```JavaScript\n",
    "const grandparent = document.querySelector(\".grandparent\");\n",
    "\n",
    "grandparent.addEventListener(\"click\", (e)=> {\n",
    "    console.log(e.target);\n",
    "});\n",
    "```\n",
    "\n",
    "Now, if we click inside child portion, we will see the HTML tag for child:\n",
    "\n",
    "![](67.png)\n",
    "\n",
    "Similarly, if we click at the parent portion, we will see the HTML tag for parent. This will include the HTML tag for child as it is nested inside parent.\n",
    "\n",
    "![](68.png)\n",
    "\n",
    "Similarly, if we click at the grandparent portion, we will see the HTML tag for grandparent. This will include the HTML tag for parent and child as thesy are nested inside grandparent.\n",
    "\n",
    "![](69.png)\n",
    "\n",
    "Now, if we click in the body part, nothing will happen, as we have not associated any event with body and so event capture doesn't happen."
   ]
  },
  {
   "cell_type": "markdown",
   "id": "6296d3ab",
   "metadata": {},
   "source": [
    "```JavaScript\n",
    "const grandparent = document.querySelector(\".grandparent\");\n",
    "\n",
    "grandparent.addEventListener(\"click\", (e)=> {\n",
    "    console.log(e.target.textContent);\n",
    "});\n",
    "```\n",
    "\n",
    "Now, clicking on parent will  give \"Parent Child\", clicking on grandparent will give \"Grandparent Parent Child\" and clicking on child will only give \"Child\"."
   ]
  },
  {
   "cell_type": "code",
   "execution_count": null,
   "id": "2ada797d",
   "metadata": {},
   "outputs": [],
   "source": []
  }
 ],
 "metadata": {
  "kernelspec": {
   "display_name": "JavaScript (Node.js)",
   "language": "javascript",
   "name": "javascript"
  },
  "language_info": {
   "file_extension": ".js",
   "mimetype": "application/javascript",
   "name": "javascript",
   "version": "18.12.1"
  }
 },
 "nbformat": 4,
 "nbformat_minor": 5
}
