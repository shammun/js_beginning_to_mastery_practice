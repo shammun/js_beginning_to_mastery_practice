{
 "cells": [
  {
   "cell_type": "markdown",
   "id": "142c1b1b",
   "metadata": {},
   "source": [
    "### Object destructuring"
   ]
  },
  {
   "cell_type": "code",
   "execution_count": 1,
   "id": "1548c118",
   "metadata": {},
   "outputs": [
    {
     "name": "stdout",
     "output_type": "stream",
     "text": [
      "The Beatles\n",
      "{ genre: 'Rock', famousSong: 'Yesterday', famousAlbum: 'Abbey Road' }\n"
     ]
    }
   ],
   "source": [
    "const band = {\n",
    "    bandName: \"The Beatles\",\n",
    "    members: 4,\n",
    "    genre: \"Rock\",\n",
    "    famousSong: \"Yesterday\",\n",
    "    famousAlbum: \"Abbey Road\"\n",
    "};\n",
    "\n",
    "let {bandName, members, ...restProps} = band;\n",
    "console.log(bandName);\n",
    "console.log(restProps);"
   ]
  },
  {
   "cell_type": "markdown",
   "id": "9b372860",
   "metadata": {},
   "source": [
    "### Objects inside arrays"
   ]
  },
  {
   "cell_type": "code",
   "execution_count": 2,
   "id": "ddfccad5",
   "metadata": {},
   "outputs": [],
   "source": [
    "const users = [\n",
    "    {userId: 1, name: 'John', age: 25},\n",
    "    {userId: 2, name: 'Mary', age: 30},\n",
    "    {userId: 3, name: 'Peter', age: 28}\n",
    "];"
   ]
  },
  {
   "cell_type": "code",
   "execution_count": 3,
   "id": "7e773fde",
   "metadata": {},
   "outputs": [
    {
     "name": "stdout",
     "output_type": "stream",
     "text": [
      "John\n",
      "Mary\n",
      "Peter\n"
     ]
    }
   ],
   "source": [
    "for(let user of users){\n",
    "    console.log(user.name);\n",
    "}"
   ]
  },
  {
   "cell_type": "markdown",
   "id": "abfcce18",
   "metadata": {},
   "source": [
    "### Nested destructuring"
   ]
  },
  {
   "cell_type": "code",
   "execution_count": 4,
   "id": "4cc07f72",
   "metadata": {},
   "outputs": [],
   "source": [
    "const users2 = [\n",
    "    {\"userId\": 1, \"name\": \"John\", \"age\": 25, \"address\": {\"city\": \"New York\", \"state\": \"NY\"}},\n",
    "    {\"userId\": 2, \"name\": \"Mary\", \"age\": 30, \"address\": {\"city\": \"Boston\", \"state\": \"MA\"}},\n",
    "    {\"userId\": 3, \"name\": \"Peter\", \"age\": 28, \"address\": {\"city\": \"Chicago\", \"state\": \"IL\"}}\n",
    "];"
   ]
  },
  {
   "cell_type": "code",
   "execution_count": 5,
   "id": "e7094130",
   "metadata": {},
   "outputs": [
    {
     "name": "stdout",
     "output_type": "stream",
     "text": [
      "{\n",
      "  userId: 2,\n",
      "  name: 'Mary',\n",
      "  age: 30,\n",
      "  address: { city: 'Boston', state: 'MA' }\n",
      "}\n"
     ]
    }
   ],
   "source": [
    "const [Myuser1, Myuser2, Myuser3] = users2;\n",
    "console.log(Myuser2)"
   ]
  },
  {
   "cell_type": "markdown",
   "id": "7ff0d932",
   "metadata": {},
   "source": [
    "But suppose, we need only the name of user1 and age of user3, we can use nested destructuring"
   ]
  },
  {
   "cell_type": "code",
   "execution_count": 6,
   "id": "4d9bd696",
   "metadata": {},
   "outputs": [],
   "source": [
    "const[{name}, , {age}] = users2;"
   ]
  },
  {
   "cell_type": "code",
   "execution_count": 7,
   "id": "1e226b91",
   "metadata": {},
   "outputs": [
    {
     "name": "stdout",
     "output_type": "stream",
     "text": [
      "John\n"
     ]
    }
   ],
   "source": [
    "console.log(name)"
   ]
  },
  {
   "cell_type": "code",
   "execution_count": 8,
   "id": "e89063f1",
   "metadata": {},
   "outputs": [
    {
     "name": "stdout",
     "output_type": "stream",
     "text": [
      "28\n"
     ]
    }
   ],
   "source": [
    "console.log(age);"
   ]
  },
  {
   "cell_type": "markdown",
   "id": "817f29dd",
   "metadata": {},
   "source": [
    "We can also change the name of the variables"
   ]
  },
  {
   "cell_type": "code",
   "execution_count": 9,
   "id": "3a330dfe",
   "metadata": {},
   "outputs": [
    {
     "name": "stdout",
     "output_type": "stream",
     "text": [
      "John\n",
      "28\n"
     ]
    }
   ],
   "source": [
    "const[{name: myName}, , {age:myAge}] = users2;\n",
    "console.log(myName);\n",
    "console.log(myAge);"
   ]
  },
  {
   "cell_type": "markdown",
   "id": "e091e955",
   "metadata": {},
   "source": [
    "Suppose, we need the userId and name of user1 and age of user 3"
   ]
  },
  {
   "cell_type": "code",
   "execution_count": 10,
   "id": "f68ba660",
   "metadata": {},
   "outputs": [
    {
     "name": "stdout",
     "output_type": "stream",
     "text": [
      "John\n",
      "1\n",
      "28\n"
     ]
    }
   ],
   "source": [
    "const[{name: myName2, userId}, , {age: myAge2}] = users2;\n",
    "console.log(myName2);\n",
    "console.log(userId);\n",
    "console.log(myAge2);"
   ]
  },
  {
   "cell_type": "markdown",
   "id": "5d48a5c1",
   "metadata": {},
   "source": [
    "Returns the index at which the target is found if the target is not found, return -1"
   ]
  },
  {
   "cell_type": "code",
   "execution_count": 11,
   "id": "16af9811",
   "metadata": {},
   "outputs": [],
   "source": [
    "function findTarget(array, target){\n",
    "    for(let i = 0; i<array.length; i++){\n",
    "        if(array[i]===target){\n",
    "            return i;\n",
    "        }\n",
    "    }\n",
    "    return -1;\n",
    "}\n",
    "const myArray = [1,3,8,90]\n",
    "const ans = findTarget(myArray, 4);"
   ]
  },
  {
   "cell_type": "code",
   "execution_count": 12,
   "id": "a30b5f09",
   "metadata": {},
   "outputs": [
    {
     "name": "stdout",
     "output_type": "stream",
     "text": [
      "-1\n"
     ]
    }
   ],
   "source": [
    "console.log(ans);"
   ]
  },
  {
   "cell_type": "code",
   "execution_count": 13,
   "id": "5e19bb6e",
   "metadata": {},
   "outputs": [
    {
     "name": "stdout",
     "output_type": "stream",
     "text": [
      "1\n"
     ]
    }
   ],
   "source": [
    "console.log(findTarget(myArray, 3)); "
   ]
  },
  {
   "cell_type": "markdown",
   "id": "fefe1e63",
   "metadata": {},
   "source": [
    "### Arrow function -- =>"
   ]
  },
  {
   "cell_type": "code",
   "execution_count": 14,
   "id": "696d3ffa",
   "metadata": {},
   "outputs": [],
   "source": [
    "// conventional function -- multiple arguments\n",
    "const sumThreeNumbers = function(a, b, c){\n",
    "    return a + b + c;\n",
    "}"
   ]
  },
  {
   "cell_type": "code",
   "execution_count": 15,
   "id": "2b9c94d1",
   "metadata": {},
   "outputs": [],
   "source": [
    "// arrow function -- multiple arguments\n",
    "const sumThreeNumbers2 = (a, b, c) => {\n",
    "    return a + b + c;\n",
    "};"
   ]
  },
  {
   "cell_type": "code",
   "execution_count": 16,
   "id": "9cbac23f",
   "metadata": {},
   "outputs": [
    {
     "name": "stdout",
     "output_type": "stream",
     "text": [
      "6\n"
     ]
    }
   ],
   "source": [
    "console.log(sumThreeNumbers2(1,2,3));"
   ]
  },
  {
   "cell_type": "code",
   "execution_count": 17,
   "id": "e8ba4488",
   "metadata": {},
   "outputs": [
    {
     "name": "stdout",
     "output_type": "stream",
     "text": [
      "false\n"
     ]
    }
   ],
   "source": [
    "// arrow function -- single argument\n",
    "const even = num => num % 2 === 0;\n",
    "console.log(even(5));"
   ]
  },
  {
   "cell_type": "code",
   "execution_count": 18,
   "id": "d4189865",
   "metadata": {},
   "outputs": [
    {
     "name": "stdout",
     "output_type": "stream",
     "text": [
      "25\n"
     ]
    }
   ],
   "source": [
    "// arrow function -- single argument -- continued\n",
    "const square = (num) => {\n",
    "    return num * num\n",
    "};\n",
    "console.log(square(5));"
   ]
  },
  {
   "cell_type": "code",
   "execution_count": 19,
   "id": "1c751d87",
   "metadata": {},
   "outputs": [
    {
     "name": "stdout",
     "output_type": "stream",
     "text": [
      "25\n"
     ]
    }
   ],
   "source": [
    "// arrow function -- single argument -- continued\n",
    "const square2 = num => num * num; // don't use return if it's a single line or there is no parenthesis\n",
    "console.log(square2(5));"
   ]
  },
  {
   "cell_type": "code",
   "execution_count": 20,
   "id": "f03b6403",
   "metadata": {},
   "outputs": [
    {
     "name": "stdout",
     "output_type": "stream",
     "text": [
      "h\n"
     ]
    }
   ],
   "source": [
    "// arrow function\n",
    "const firstChar = anyString => anyString[0];\n",
    "console.log(firstChar(\"hello\"));"
   ]
  },
  {
   "cell_type": "code",
   "execution_count": 21,
   "id": "5dec856e",
   "metadata": {},
   "outputs": [
    {
     "name": "stdout",
     "output_type": "stream",
     "text": [
      "hello\n"
     ]
    }
   ],
   "source": [
    "// arrow function -- no arguments\n",
    "const sayHello = () => \"hello\";\n",
    "console.log(sayHello());"
   ]
  },
  {
   "cell_type": "code",
   "execution_count": 24,
   "id": "9e109ae5",
   "metadata": {},
   "outputs": [
    {
     "name": "stdout",
     "output_type": "stream",
     "text": [
      "hello\n"
     ]
    }
   ],
   "source": [
    "// arrow function -- no arguments -- continued\n",
    "const sayHello3 = () => {\n",
    "    return \"hello\";\n",
    "};\n",
    "console.log(sayHello3());"
   ]
  },
  {
   "cell_type": "code",
   "execution_count": 25,
   "id": "9d2db4f1",
   "metadata": {},
   "outputs": [],
   "source": [
    "// without arrow function\n",
    "function findTarget(array, target){\n",
    "    for(let i = 0; i<array.length; i++){\n",
    "        if(array[i]===target){\n",
    "            return i;\n",
    "        }\n",
    "    }\n",
    "    return -1;\n",
    "}"
   ]
  },
  {
   "cell_type": "code",
   "execution_count": 26,
   "id": "5ec6f49c",
   "metadata": {},
   "outputs": [],
   "source": [
    "// arrow function\n",
    "const findTarget2 = (array, target) => {\n",
    "    for(let i=0; i <array.length; i++){\n",
    "        if(array[i]==target){\n",
    "            return i;\n",
    "        }\n",
    "    }\n",
    "    return -1;\n",
    "};"
   ]
  },
  {
   "cell_type": "code",
   "execution_count": 29,
   "id": "936d5537",
   "metadata": {},
   "outputs": [
    {
     "name": "stdout",
     "output_type": "stream",
     "text": [
      "-1\n"
     ]
    }
   ],
   "source": [
    "const myArray4 = [1,3,8,90];\n",
    "const ans4 = findTarget(myArray4, 4);\n",
    "console.log(ans4);"
   ]
  },
  {
   "cell_type": "code",
   "execution_count": 30,
   "id": "b7257c2d",
   "metadata": {},
   "outputs": [
    {
     "name": "stdout",
     "output_type": "stream",
     "text": [
      "-1\n"
     ]
    }
   ],
   "source": [
    "const ans5= findTarget2(myArray4, 4);\n",
    "console.log(ans5);"
   ]
  },
  {
   "cell_type": "code",
   "execution_count": 31,
   "id": "de995999",
   "metadata": {},
   "outputs": [
    {
     "name": "stdout",
     "output_type": "stream",
     "text": [
      "2\n"
     ]
    }
   ],
   "source": [
    "const ans6= findTarget2(myArray4, 8);\n",
    "console.log(ans6);"
   ]
  },
  {
   "cell_type": "code",
   "execution_count": 32,
   "id": "0d4ea412",
   "metadata": {},
   "outputs": [
    {
     "name": "stdout",
     "output_type": "stream",
     "text": [
      "2\n"
     ]
    }
   ],
   "source": [
    "const ans7= findTarget2(myArray4, 8);\n",
    "console.log(ans7);"
   ]
  },
  {
   "cell_type": "markdown",
   "id": "72a733fe",
   "metadata": {},
   "source": [
    "### Hoisting"
   ]
  },
  {
   "cell_type": "markdown",
   "id": "59e43777",
   "metadata": {},
   "source": [
    "#### Hoisting for variables"
   ]
  },
  {
   "cell_type": "markdown",
   "id": "b250e456",
   "metadata": {},
   "source": [
    "### var -- variable can be accessed before declared\n",
    "\n",
    "#### undefined will be returned if hoisted "
   ]
  },
  {
   "cell_type": "markdown",
   "id": "32b6e3a0",
   "metadata": {},
   "source": [
    "Hoisting is a JavaScript mechanism where variable and function declarations are moved to the top of their respective scope before code execution. This means that regardless of where variables and functions are declared in the code, they are interpreted as if they were declared at the beginning of their scope.\n",
    "\n",
    "For example, consider the following code snippet:"
   ]
  },
  {
   "cell_type": "code",
   "execution_count": 33,
   "id": "19db6fe6",
   "metadata": {},
   "outputs": [
    {
     "name": "stdout",
     "output_type": "stream",
     "text": [
      "undefined\n"
     ]
    }
   ],
   "source": [
    "console.log(a);\n",
    "var a = 10;"
   ]
  },
  {
   "cell_type": "markdown",
   "id": "edd58052",
   "metadata": {},
   "source": [
    "Even though a is declared after the `console.log()` statement, the code will still execute without throwing an error. This is because of hoisting. The code is interpreted by the JavaScript engine as follows:"
   ]
  },
  {
   "cell_type": "markdown",
   "id": "02d86ccf",
   "metadata": {},
   "source": [
    "```JavaScript\n",
    "var a;\n",
    "console.log(a);\n",
    "a = 10;\n",
    "```"
   ]
  },
  {
   "cell_type": "markdown",
   "id": "a9bcccd7",
   "metadata": {},
   "source": [
    "As you can see, the variable declaration `var a`; is moved to the top of the scope, so when the `console.log(a)` statement is executed, `a` has already been declared (but not yet assigned a value), so it does not throw an error.\n",
    "\n",
    "It's important to note that only the declaration of the variable or function is hoisted, not the initialization or assignment. So, in the example above, `a` is declared at the top of its scope, but its value is not assigned until the second line of code.\n",
    "\n",
    "Hoisting can be a helpful feature of JavaScript, but it can also lead to confusion and bugs if not used properly. It's best practice to declare all variables at the top of their respective scope to avoid unexpected behavior."
   ]
  },
  {
   "cell_type": "code",
   "execution_count": 40,
   "id": "553033cb",
   "metadata": {},
   "outputs": [
    {
     "name": "stdout",
     "output_type": "stream",
     "text": [
      "undefined\n"
     ]
    }
   ],
   "source": [
    "console.log(y);\n",
    "\n",
    "// variable declaration\n",
    "var y = 5; // with var undefined will be returned when this variable is called before this line"
   ]
  },
  {
   "cell_type": "markdown",
   "id": "eb5f70c6",
   "metadata": {},
   "source": [
    "#### let -- variable can't be accessed before declared\n",
    "\n",
    "With `let`, error will be thrown when this variable is called before this line"
   ]
  },
  {
   "cell_type": "markdown",
   "id": "68d6e439",
   "metadata": {},
   "source": [
    "```JavaScript\n",
    "console.log(x); // will throw error\n",
    "\n",
    "// variable declaration\n",
    "let x = 5;\n",
    "```"
   ]
  },
  {
   "cell_type": "markdown",
   "id": "9266eb91",
   "metadata": {},
   "source": [
    "#### Hoisting for functions"
   ]
  },
  {
   "cell_type": "markdown",
   "id": "f7d7a848",
   "metadata": {},
   "source": [
    "#### Hoisting will work for function declaration"
   ]
  },
  {
   "cell_type": "markdown",
   "id": "f573e820",
   "metadata": {},
   "source": [
    "Hoisting also applies to functions in JavaScript. Function declarations are hoisted to the top of their respective scope, which means that they can be called before they are defined in the code.\n",
    "\n",
    "For example, consider the following code snippet:"
   ]
  },
  {
   "cell_type": "code",
   "execution_count": 34,
   "id": "a88c4f91",
   "metadata": {},
   "outputs": [
    {
     "name": "stdout",
     "output_type": "stream",
     "text": [
      "Hello, world!\n"
     ]
    }
   ],
   "source": [
    "foo();\n",
    "\n",
    "function foo() {\n",
    "  console.log(\"Hello, world!\");\n",
    "}"
   ]
  },
  {
   "cell_type": "markdown",
   "id": "9b40b10c",
   "metadata": {},
   "source": [
    "Even though the `foo()` function is called before its definition, the code will still execute without throwing an error. This is because of hoisting. The code is interpreted by the JavaScript engine as follows:"
   ]
  },
  {
   "cell_type": "code",
   "execution_count": 35,
   "id": "97b57a42",
   "metadata": {},
   "outputs": [
    {
     "name": "stdout",
     "output_type": "stream",
     "text": [
      "Hello, world!\n"
     ]
    }
   ],
   "source": [
    "function foo() {\n",
    "  console.log(\"Hello, world!\");\n",
    "}\n",
    "\n",
    "foo();"
   ]
  },
  {
   "cell_type": "markdown",
   "id": "a50d7a36",
   "metadata": {},
   "source": [
    "As you can see, the function declaration `function foo() {...}` is moved to the top of the scope, so when the foo() function is called, it has already been declared."
   ]
  },
  {
   "cell_type": "code",
   "execution_count": 38,
   "id": "0de02da3",
   "metadata": {},
   "outputs": [
    {
     "name": "stdout",
     "output_type": "stream",
     "text": [
      "hello\n"
     ]
    }
   ],
   "source": [
    "// hoisting\n",
    "// will work for function declaration\n",
    "sayHello4();\n",
    "\n",
    "// function declaration\n",
    "function sayHello4(){\n",
    "    console.log(\"hello\");\n",
    "}"
   ]
  },
  {
   "cell_type": "markdown",
   "id": "4aca361e",
   "metadata": {},
   "source": [
    "It's important to note that only function declarations are hoisted, not function expressions. Function expressions are created when a function is assigned to a variable, and they are not hoisted. For example:\n",
    "\n",
    "```JavaScript\n",
    "bar(); // Throws an error\n",
    "\n",
    "var bar = function() {\n",
    "  console.log(\"Hello, world!\");\n",
    "};\n",
    "```\n",
    "\n",
    "In this example, the `bar()` function is defined as a function expression and assigned to the variable bar. Since function expressions are not hoisted, the code throws an error when `bar()` is called before its definition.\n",
    "\n",
    "It's best practice to declare all functions at the top of their respective scope, or to use function expressions and assign them before they are called. This can help avoid unexpected behavior and errors in your code."
   ]
  },
  {
   "cell_type": "markdown",
   "id": "39465e53",
   "metadata": {},
   "source": [
    "#### Hoisting will not work for function expression\n",
    "\n",
    "```JavaScript\n",
    "hello2(); // this will not work\n",
    "\n",
    "const hello2 = function(){\n",
    "    console.log(\"hello\");\n",
    "};\n",
    "```"
   ]
  },
  {
   "cell_type": "markdown",
   "id": "a354f47b",
   "metadata": {},
   "source": [
    "#### Hoisting will not work for arrow function"
   ]
  },
  {
   "cell_type": "markdown",
   "id": "07390d2e",
   "metadata": {},
   "source": [
    "```JavaScript\n",
    "hello3(); // this will not work\n",
    "\n",
    "const hello3 = () => {\n",
    "    console.log(\"hello\");\n",
    "};\n",
    "```"
   ]
  },
  {
   "cell_type": "markdown",
   "id": "6414ecdb",
   "metadata": {},
   "source": [
    "### functions inside a function"
   ]
  },
  {
   "cell_type": "code",
   "execution_count": 41,
   "id": "6080f4d3",
   "metadata": {},
   "outputs": [
    {
     "name": "stdout",
     "output_type": "stream",
     "text": [
      "inside app\n",
      "Hello from myFunc\n",
      "5\n",
      "30\n"
     ]
    }
   ],
   "source": [
    "function app(){\n",
    "    const myFunc = () => {\n",
    "        console.log(\"Hello from myFunc\");\n",
    "    };\n",
    "\n",
    "    const addTwoNumbers = (a, b) => {\n",
    "        return a + b;\n",
    "    };\n",
    "\n",
    "    const mul = (num1, num2) => num1*num2;\n",
    "\n",
    "    console.log(\"inside app\");\n",
    "\n",
    "    myFunc();\n",
    "    console.log(addTwoNumbers(2, 3));\n",
    "    console.log(mul(5, 6));\n",
    "}\n",
    "app();"
   ]
  },
  {
   "cell_type": "markdown",
   "id": "24f66fca",
   "metadata": {},
   "source": [
    "### Lexical scoping"
   ]
  },
  {
   "cell_type": "markdown",
   "id": "6deb8898",
   "metadata": {},
   "source": [
    "Lexical scoping is a concept in programming languages that describes how variable scope is determined at the time of writing code, rather than when it is executed. In JavaScript, lexical scoping means that a variable's scope is determined by its location in the code, or more specifically, by where it is declared.\n",
    "\n",
    "When a function is defined in JavaScript, it creates a new scope for the variables declared inside it. This is known as the function's closure. The variables declared inside the function are available only within the function itself, and any nested functions or closures declared inside the function.\n",
    "\n",
    "In other words, when a function is defined, it captures the values of any variables in its enclosing scope, and those values are available to the function when it is executed, even if the variables themselves are no longer in scope.\n",
    "\n",
    "Here's an example:"
   ]
  },
  {
   "cell_type": "code",
   "execution_count": 42,
   "id": "0f71d267",
   "metadata": {},
   "outputs": [
    {
     "name": "stdout",
     "output_type": "stream",
     "text": [
      "I am declared in outerFunction\n"
     ]
    }
   ],
   "source": [
    "function outerFunction() {\n",
    "  var outerVar = 'I am declared in outerFunction';\n",
    "  \n",
    "  function innerFunction() {\n",
    "    console.log(outerVar);\n",
    "  }\n",
    "  \n",
    "  innerFunction();\n",
    "}\n",
    "\n",
    "outerFunction(); // Output: \"I am declared in outerFunction\"\n"
   ]
  },
  {
   "cell_type": "markdown",
   "id": "8517314b",
   "metadata": {},
   "source": [
    "In this example, `outerFunction` declares a variable called `outerVar`. `innerFunction` is defined inside `outerFunction`, which means it has access to `outerVar` because of lexical scoping. When `outerFunction` is executed, it calls `innerFunction`, which outputs the value of `outerVar` to the console.\n",
    "\n",
    "Lexical scoping is an important concept in JavaScript, and it helps to avoid naming conflicts and unintended consequences that can occur when variables are not properly scoped."
   ]
  },
  {
   "cell_type": "code",
   "execution_count": 43,
   "id": "510ffb6d",
   "metadata": {},
   "outputs": [
    {
     "name": "stdout",
     "output_type": "stream",
     "text": [
      "value1\n",
      "inside myFunc value 60\n"
     ]
    }
   ],
   "source": [
    "function myApp(){\n",
    "    const myVar = \"value1\";\n",
    "    function myFunc(){\n",
    "        const myVar = \"value 60\";\n",
    "        // but if we comment out the above line, then the value of myVar will be \"value1\"\n",
    "        console.log(\"inside myFunc\", myVar);\n",
    "    };\n",
    "    const myFunc2 = function(){};\n",
    "    const myFunc3 = () => {};\n",
    "    console.log(myVar); // prints \"value1\"\n",
    "    myFunc(); // prints \"inside myFunc value 60\"\n",
    "}\n",
    "\n",
    "myApp();"
   ]
  },
  {
   "cell_type": "code",
   "execution_count": 44,
   "id": "775ec043",
   "metadata": {},
   "outputs": [
    {
     "name": "stdout",
     "output_type": "stream",
     "text": [
      "value 1\n",
      "inside myFunc value 1\n"
     ]
    }
   ],
   "source": [
    "// lexical scoping\n",
    "const myVar = \"value 1\";\n",
    "\n",
    "function myApp2(){\n",
    "    function myFunc(){\n",
    "        // the value of myVar will be \"value 1\"\n",
    "        console.log(\"inside myFunc\", myVar); \n",
    "    };\n",
    "    const myFunc2 = function(){};\n",
    "    const myFunc3 = () => {};\n",
    "    console.log(myVar);\n",
    "    myFunc();\n",
    "}\n",
    "\n",
    "myApp2();"
   ]
  },
  {
   "cell_type": "code",
   "execution_count": 1,
   "id": "df10538c",
   "metadata": {},
   "outputs": [
    {
     "name": "stdout",
     "output_type": "stream",
     "text": [
      "value 2\n",
      "inside myFunc value 2\n"
     ]
    }
   ],
   "source": [
    "// lexical scoping\n",
    "const myVar2 = \"value 2\";\n",
    "\n",
    "function myApp3(){\n",
    "    function myFunc(){\n",
    "        const myFunc2 = () => {\n",
    "            console.log(\"inside myFunc\", myVar2); // the value of myVar will be \"value 2\"\n",
    "        };\n",
    "        myFunc2();\n",
    "    };\n",
    "    console.log(myVar2);\n",
    "    myFunc();\n",
    "}\n",
    "\n",
    "myApp3();"
   ]
  },
  {
   "cell_type": "markdown",
   "id": "bf6fe3a8",
   "metadata": {},
   "source": [
    "### Block scope vs Function scope\n",
    "\n",
    "`let` and `const` are block scoped, `var` is function scoped"
   ]
  },
  {
   "cell_type": "markdown",
   "id": "ba6494ab",
   "metadata": {},
   "source": [
    "In JavaScript, variables can be declared with either function scope or block scope.\n",
    "\n",
    "Function scope means that variables declared inside a function are only accessible within that function and any nested functions or closures defined within it. Here's an example:"
   ]
  },
  {
   "cell_type": "code",
   "execution_count": 1,
   "id": "32d0bf82",
   "metadata": {},
   "outputs": [
    {
     "name": "stdout",
     "output_type": "stream",
     "text": [
      "2\n",
      "2\n"
     ]
    }
   ],
   "source": [
    "function exampleFunction() {\n",
    "  var a = 1;\n",
    "  if (a === 1) {\n",
    "    var b = 2;\n",
    "    console.log(b); // Output: 2\n",
    "  }\n",
    "  console.log(b); // Output: 2\n",
    "}\n",
    "\n",
    "exampleFunction();"
   ]
  },
  {
   "cell_type": "markdown",
   "id": "aa750cf9",
   "metadata": {},
   "source": [
    "In this example, `a` is declared inside `exampleFunction` and is only accessible within that function. `b` is also declared inside `exampleFunction`, but since it uses `var`, it has function scope, which means it is accessible within the entire function, including the `if` block.\n",
    "\n",
    "Block scope means that variables declared inside a block of code (i.e., within curly braces `{}`) are only accessible within that block and any nested blocks. Block scope is achieved using the `let` and `const` keywords, which were introduced in ES6. Here's an example:"
   ]
  },
  {
   "cell_type": "code",
   "execution_count": 2,
   "id": "56f7f2ac",
   "metadata": {},
   "outputs": [
    {
     "name": "stdout",
     "output_type": "stream",
     "text": [
      "2\n"
     ]
    },
    {
     "ename": "ReferenceError",
     "evalue": "b is not defined",
     "output_type": "error",
     "traceback": [
      "evalmachine.<anonymous>:7",
      "  console.log(b); // Output: ReferenceError: b is not defined",
      "              ^",
      "",
      "ReferenceError: b is not defined",
      "    at exampleFunction (evalmachine.<anonymous>:7:15)",
      "    at evalmachine.<anonymous>:10:1",
      "    at Script.runInThisContext (node:vm:129:12)",
      "    at Object.runInThisContext (node:vm:313:38)",
      "    at run ([eval]:1020:15)",
      "    at onRunRequest ([eval]:864:18)",
      "    at onMessage ([eval]:828:13)",
      "    at process.emit (node:events:513:28)",
      "    at emit (node:internal/child_process:937:14)",
      "    at process.processTicksAndRejections (node:internal/process/task_queues:83:21)"
     ]
    }
   ],
   "source": [
    "function exampleFunction() {\n",
    "  let a = 1;\n",
    "  if (a === 1) {\n",
    "    const b = 2;\n",
    "    console.log(b); // Output: 2\n",
    "  }\n",
    "  console.log(b); // Output: ReferenceError: b is not defined\n",
    "}\n",
    "\n",
    "exampleFunction();"
   ]
  },
  {
   "cell_type": "markdown",
   "id": "4b2f09b3",
   "metadata": {},
   "source": [
    "In this example, `a` is declared using `let`, which means it has block scope and is only accessible within the block where it is defined. `b` is declared using `const`, which also has block scope, but cannot be reassigned once it is defined.\n",
    "\n",
    "To summarize, function scope means that variables declared with `var` are accessible within the entire function, while block scope means that variables declared with `let` or `const` are only accessible within the block where they are defined."
   ]
  },
  {
   "cell_type": "code",
   "execution_count": 3,
   "id": "a514bb2b",
   "metadata": {},
   "outputs": [
    {
     "name": "stdout",
     "output_type": "stream",
     "text": [
      "10\n"
     ]
    }
   ],
   "source": [
    "{\n",
    "    let a = 10;\n",
    "    console.log(a); // this will work\n",
    "}\n",
    "// console.log(a); // will throw error"
   ]
  },
  {
   "cell_type": "code",
   "execution_count": 4,
   "id": "949be05e",
   "metadata": {},
   "outputs": [
    {
     "name": "stdout",
     "output_type": "stream",
     "text": [
      "20\n"
     ]
    }
   ],
   "source": [
    "{\n",
    "    let a = 20;\n",
    "    console.log(a); // this will work\n",
    "}"
   ]
  },
  {
   "cell_type": "code",
   "execution_count": 5,
   "id": "4d73954f",
   "metadata": {},
   "outputs": [
    {
     "name": "stdout",
     "output_type": "stream",
     "text": [
      "10\n"
     ]
    }
   ],
   "source": [
    "{\n",
    "    const a2 = 10;\n",
    "    console.log(a2); // this will work\n",
    "}\n",
    "// console.log(a2); // will throw error"
   ]
  },
  {
   "cell_type": "code",
   "execution_count": 6,
   "id": "42f44355",
   "metadata": {},
   "outputs": [
    {
     "name": "stdout",
     "output_type": "stream",
     "text": [
      "20\n"
     ]
    }
   ],
   "source": [
    "{\n",
    "    const a2 = 20;\n",
    "    console.log(a2); // this will work\n",
    "}\n",
    "// console.log(a2); // will throw error"
   ]
  },
  {
   "cell_type": "code",
   "execution_count": 7,
   "id": "f6884d59",
   "metadata": {},
   "outputs": [
    {
     "name": "stdout",
     "output_type": "stream",
     "text": [
      "100\n"
     ]
    }
   ],
   "source": [
    "const a2 = 100;\n",
    "console.log(a2);"
   ]
  },
  {
   "cell_type": "code",
   "execution_count": 8,
   "id": "e787b565",
   "metadata": {},
   "outputs": [
    {
     "name": "stdout",
     "output_type": "stream",
     "text": [
      "200\n",
      "200\n"
     ]
    }
   ],
   "source": [
    "// for var, we can access the variable outside the block\n",
    "{\n",
    "    var a3 = 200;\n",
    "    console.log(a3); // this will work\n",
    "}\n",
    "console.log(a3); // this will work too"
   ]
  },
  {
   "cell_type": "code",
   "execution_count": 9,
   "id": "69d10715",
   "metadata": {},
   "outputs": [
    {
     "name": "stdout",
     "output_type": "stream",
     "text": [
      "John\n",
      "John\n"
     ]
    }
   ],
   "source": [
    "// var can be accessed outside the block\n",
    "// var can be accessed anywhere\n",
    "{\n",
    "    var firstName = \"John\";\n",
    "    console.log(firstName);\n",
    "}\n",
    "\n",
    "{\n",
    "    console.log(firstName); // it can access the previous block\n",
    "}"
   ]
  },
  {
   "cell_type": "markdown",
   "id": "43af5d15",
   "metadata": {},
   "source": [
    "### Rest parameters"
   ]
  },
  {
   "cell_type": "code",
   "execution_count": 10,
   "id": "b0f997b9",
   "metadata": {},
   "outputs": [
    {
     "name": "stdout",
     "output_type": "stream",
     "text": [
      "a is 3\n",
      "b is 4\n",
      "c is 5,6,7,8,9,10\n"
     ]
    }
   ],
   "source": [
    "function myFunc(a,b, ...c){\n",
    "    console.log(`a is ${a}`);\n",
    "    console.log(`b is ${b}`);\n",
    "    console.log(`c is ${c}`);\n",
    "}\n",
    "\n",
    "myFunc(3,4,5,6,7,8,9,10);"
   ]
  },
  {
   "cell_type": "code",
   "execution_count": 11,
   "id": "23e1f7b4",
   "metadata": {},
   "outputs": [
    {
     "name": "stdout",
     "output_type": "stream",
     "text": [
      "[\n",
      "  1, 2, 3, 4,  5,\n",
      "  6, 7, 8, 9, 10\n",
      "]\n",
      "true\n",
      "55\n"
     ]
    }
   ],
   "source": [
    "function addAll(...numbers){\n",
    "    console.log(numbers);\n",
    "    console.log(Array.isArray(numbers));\n",
    "    let total = 0;\n",
    "    for(let number of numbers){\n",
    "        total = total + number;\n",
    "    }\n",
    "    return total;\n",
    "}\n",
    "\n",
    "const ans = addAll(1,2,3,4,5,6,7,8,9,10);\n",
    "console.log(ans);"
   ]
  },
  {
   "cell_type": "markdown",
   "id": "3888f7ba",
   "metadata": {},
   "source": [
    "### Parameter destructuring in JavaScript"
   ]
  },
  {
   "cell_type": "markdown",
   "id": "fedcd5f9",
   "metadata": {},
   "source": [
    "Parameter destructuring is a feature in JavaScript that allows you to extract values from objects and arrays passed as function arguments and assign them to variables with the same name as the object's keys or array's elements. This can be done in the function signature using curly braces `{}` for objects or square brackets `[]` for arrays.\n",
    "\n",
    "Here's an example of destructuring an object passed as a parameter:"
   ]
  },
  {
   "cell_type": "code",
   "execution_count": 12,
   "id": "69054861",
   "metadata": {},
   "outputs": [
    {
     "name": "stdout",
     "output_type": "stream",
     "text": [
      "1 2\n"
     ]
    }
   ],
   "source": [
    "function exampleFunction({a, b}) {\n",
    "  console.log(a, b);\n",
    "}\n",
    "\n",
    "const obj = {a: 1, b: 2};\n",
    "exampleFunction(obj); // Output: 1 2"
   ]
  },
  {
   "cell_type": "markdown",
   "id": "d5d44ec2",
   "metadata": {},
   "source": [
    "In this example, the `exampleFunction` takes an object as its parameter and destructures it using curly braces in the function signature. This creates new variables `a` and `b` and assigns them the values of the corresponding properties in the object passed as the argument.\n",
    "\n",
    "Here's an example of destructuring an array passed as a parameter:"
   ]
  },
  {
   "cell_type": "code",
   "execution_count": 13,
   "id": "9ecc8dd6",
   "metadata": {},
   "outputs": [
    {
     "name": "stdout",
     "output_type": "stream",
     "text": [
      "1 2\n"
     ]
    }
   ],
   "source": [
    "function exampleFunction([a, b]) {\n",
    "  console.log(a, b);\n",
    "}\n",
    "\n",
    "const arr = [1, 2];\n",
    "exampleFunction(arr); // Output: 1 2"
   ]
  },
  {
   "cell_type": "markdown",
   "id": "e344a8bd",
   "metadata": {},
   "source": [
    "In this example, the `exampleFunction` takes an array as its parameter and destructures it using square brackets in the function signature. This creates new variables `a` and `b` and assigns them the values of the corresponding elements in the array passed as the argument.\n",
    "\n",
    "Parameter destructuring can make your code more concise and readable, especially when dealing with complex objects or arrays passed as function arguments. However, it's important to use it judiciously and avoid excessive nesting or complexity."
   ]
  },
  {
   "cell_type": "code",
   "execution_count": 14,
   "id": "40575011",
   "metadata": {},
   "outputs": [],
   "source": [
    "const person = {\n",
    "    firstName: \"John\",\n",
    "    gender: \"male\"\n",
    "};"
   ]
  },
  {
   "cell_type": "code",
   "execution_count": 15,
   "id": "d067a364",
   "metadata": {},
   "outputs": [
    {
     "name": "stdout",
     "output_type": "stream",
     "text": [
      "John\n",
      "male\n"
     ]
    }
   ],
   "source": [
    "// without param destructuring\n",
    "function printDetails(obj){\n",
    "    console.log(obj.firstName);\n",
    "    console.log(obj.gender)\n",
    "}\n",
    "\n",
    "printDetails(person);"
   ]
  },
  {
   "cell_type": "code",
   "execution_count": 16,
   "id": "629c39f5",
   "metadata": {},
   "outputs": [
    {
     "name": "stdout",
     "output_type": "stream",
     "text": [
      "John\n",
      "male\n"
     ]
    }
   ],
   "source": [
    "// we can use destructuring to make the code more concise\n",
    "function printDetails2({firstName, gender}){\n",
    "    console.log(firstName);\n",
    "    console.log(gender);\n",
    "}\n",
    "\n",
    "printDetails2(person);"
   ]
  },
  {
   "cell_type": "markdown",
   "id": "31d86268",
   "metadata": {},
   "source": [
    "### Callback function in JavaScript"
   ]
  },
  {
   "cell_type": "markdown",
   "id": "4f75a47e",
   "metadata": {},
   "source": [
    "In JavaScript, a callback function is a function that is passed as an argument to another function and is called when the other function has finished executing. The purpose of a callback function is to allow asynchronous processing of data or events, without blocking the execution of other code.\n",
    "\n",
    "Here's an example:"
   ]
  },
  {
   "cell_type": "code",
   "execution_count": null,
   "id": "1d4662aa",
   "metadata": {},
   "outputs": [],
   "source": [
    "function fetchData(callback) {\n",
    "  // Some asynchronous operation to fetch data\n",
    "  const data = [1, 2, 3, 4, 5];\n",
    "  callback(data);\n",
    "}\n",
    "\n",
    "function process(data) {\n",
    "  console.log(data.map(x => x * 2));\n",
    "}\n",
    "\n",
    "fetchData(process); // Output: [2, 4, 6, 8, 10]"
   ]
  },
  {
   "cell_type": "markdown",
   "id": "a5bc2957",
   "metadata": {},
   "source": [
    "In this example, the `fetchData` function takes a callback function as its argument, which is called with the fetched data when it's available. The `process` function is defined separately and takes the data as its argument, processes it, and outputs the result to the console.\n",
    "\n",
    "When `fetchData` is called, it initiates an asynchronous operation to fetch data and then calls the `callback` function with the fetched data when it's available. The `process` function is passed as the callback function, and it's executed with the fetched data as its argument.\n",
    "\n",
    "Callbacks are widely used in JavaScript for a variety of purposes, including event handling, data fetching, and asynchronous programming. They allow for more flexible and modular code by decoupling the execution of functions from their definition."
   ]
  },
  {
   "cell_type": "code",
   "execution_count": 1,
   "id": "ceb31069",
   "metadata": {},
   "outputs": [
    {
     "name": "stdout",
     "output_type": "stream",
     "text": [
      "[ 1, 2, 3 ]\n",
      "hello world!\n",
      "abc\n",
      "hello world!\n"
     ]
    }
   ],
   "source": [
    "function myFunc(a){\n",
    "    console.log(a);\n",
    "    console.log(\"hello world!\");\n",
    "}\n",
    "myFunc([1,2,3]);\n",
    "myFunc(\"abc\");"
   ]
  },
  {
   "cell_type": "code",
   "execution_count": 2,
   "id": "d3a8e67a",
   "metadata": {},
   "outputs": [
    {
     "name": "stdout",
     "output_type": "stream",
     "text": [
      "[Function: myFunc2]\n"
     ]
    }
   ],
   "source": [
    "function myFunc2(){\n",
    "    console.log(\"Inside myFunc2()\");\n",
    "}\n",
    "\n",
    "function myFunc3(a){\n",
    "    console.log(a);\n",
    "}\n",
    "\n",
    "myFunc3(myFunc2); // returns the function myFunc2() itself"
   ]
  },
  {
   "cell_type": "code",
   "execution_count": 3,
   "id": "b9e8c3c6",
   "metadata": {},
   "outputs": [
    {
     "name": "stdout",
     "output_type": "stream",
     "text": [
      "Inside myFunc4()\n",
      "Inside myFunc2()\n"
     ]
    }
   ],
   "source": [
    "// we can pass a function as a parameter to another function\n",
    "function myFunc4(a){\n",
    "    // console.log(a);\n",
    "    console.log(\"Inside myFunc4()\");\n",
    "    a();\n",
    "}\n",
    "\n",
    "myFunc4(myFunc2); // callback function"
   ]
  },
  {
   "cell_type": "code",
   "execution_count": 4,
   "id": "cc7b88a8",
   "metadata": {},
   "outputs": [
    {
     "name": "stdout",
     "output_type": "stream",
     "text": [
      "inside my func test\n",
      "Your name is undefined\n",
      "inside my func test\n",
      "Your name is John\n"
     ]
    },
    {
     "ename": "TypeError",
     "evalue": "callback is not a function",
     "output_type": "error",
     "traceback": [
      "evalmachine.<anonymous>:2",
      "    callback();",
      "    ^",
      "",
      "TypeError: callback is not a function",
      "    at myFunc5 (evalmachine.<anonymous>:2:5)",
      "    at evalmachine.<anonymous>:11:1",
      "    at Script.runInThisContext (node:vm:129:12)",
      "    at Object.runInThisContext (node:vm:313:38)",
      "    at run ([eval]:1020:15)",
      "    at onRunRequest ([eval]:864:18)",
      "    at onMessage ([eval]:828:13)",
      "    at process.emit (node:events:513:28)",
      "    at emit (node:internal/child_process:937:14)",
      "    at process.processTicksAndRejections (node:internal/process/task_queues:83:21)"
     ]
    }
   ],
   "source": [
    "function myFunc5(callback){\n",
    "    callback();\n",
    "}\n",
    "\n",
    "function myFuncTest(name){\n",
    "    console.log(\"inside my func test\");\n",
    "    console.log(`Your name is ${name}`);\n",
    "}\n",
    "\n",
    "myFunc5(myFuncTest);\n",
    "myFunc5(myFuncTest(\"John\"));"
   ]
  },
  {
   "cell_type": "markdown",
   "id": "69c7755b",
   "metadata": {},
   "source": [
    "### function returning function"
   ]
  },
  {
   "cell_type": "code",
   "execution_count": 5,
   "id": "5d2ef265",
   "metadata": {},
   "outputs": [
    {
     "name": "stdout",
     "output_type": "stream",
     "text": [
      "Hello world!\n"
     ]
    }
   ],
   "source": [
    "function myFunc(){\n",
    "    function hello(){\n",
    "        console.log(\"Hello world!\");\n",
    "    }\n",
    "    return hello;\n",
    "}\n",
    "\n",
    "const ans = myFunc();\n",
    "ans()"
   ]
  },
  {
   "cell_type": "code",
   "execution_count": 6,
   "id": "e689bded",
   "metadata": {},
   "outputs": [
    {
     "name": "stdout",
     "output_type": "stream",
     "text": [
      "Hello world!\n",
      "undefined\n"
     ]
    }
   ],
   "source": [
    "console.log(ans());"
   ]
  },
  {
   "cell_type": "code",
   "execution_count": 7,
   "id": "7c83603a",
   "metadata": {},
   "outputs": [
    {
     "name": "stdout",
     "output_type": "stream",
     "text": [
      "Hello world!\n"
     ]
    }
   ],
   "source": [
    "function myFunc2(){\n",
    "    return function(){\n",
    "        return \"Hello world!\";\n",
    "    };\n",
    "}\n",
    "\n",
    "const ans2 = myFunc2();\n",
    "console.log(ans2()); // returns \"Hello world!\""
   ]
  },
  {
   "cell_type": "markdown",
   "id": "363e1d0f",
   "metadata": {},
   "source": [
    "### Important array methods"
   ]
  },
  {
   "cell_type": "code",
   "execution_count": 2,
   "id": "3028d085",
   "metadata": {},
   "outputs": [
    {
     "name": "stdout",
     "output_type": "stream",
     "text": [
      "4*2 = 8\n",
      "3*2 = 6\n"
     ]
    }
   ],
   "source": [
    "const numbers = [4, 3, 5, 6, 9];\n",
    "\n",
    "function multiplyBy2(number, index){\n",
    "    //console.log(`index is ${index} number is ${number}`);\n",
    "    console.log(`${number}*2 = ${number*2}`);\n",
    "}\n",
    "\n",
    "multiplyBy2(numbers[0], 0);\n",
    "multiplyBy2(numbers[1], 1);"
   ]
  },
  {
   "cell_type": "code",
   "execution_count": 3,
   "id": "d1907a68",
   "metadata": {},
   "outputs": [
    {
     "name": "stdout",
     "output_type": "stream",
     "text": [
      "4*2 = 8\n",
      "3*2 = 6\n",
      "5*2 = 10\n",
      "6*2 = 12\n",
      "9*2 = 18\n",
      "4*2 = 8\n",
      "3*2 = 6\n",
      "5*2 = 10\n",
      "6*2 = 12\n",
      "9*2 = 18\n"
     ]
    }
   ],
   "source": [
    "for(let i=0; i < numbers.length; i++){\n",
    "    //console.log(i);\n",
    "    multiplyBy2(numbers[i], i);\n",
    "}\n",
    "\n",
    "// using forEach method -- forEach method takes a callback function as a parameter\n",
    "// similar to the previous one\n",
    "numbers.forEach(multiplyBy2);"
   ]
  },
  {
   "cell_type": "code",
   "execution_count": 4,
   "id": "efcc761f",
   "metadata": {},
   "outputs": [
    {
     "name": "stdout",
     "output_type": "stream",
     "text": [
      "index is 0 number is 4\n",
      "index is 1 number is 3\n",
      "index is 2 number is 5\n",
      "index is 3 number is 6\n",
      "index is 4 number is 9\n"
     ]
    }
   ],
   "source": [
    "// define callback function inside the forEach method\n",
    "numbers.forEach(function(number, index){\n",
    "    console.log(`index is ${index} number is ${number}`);\n",
    "})"
   ]
  },
  {
   "cell_type": "code",
   "execution_count": 6,
   "id": "7a1e5f79",
   "metadata": {},
   "outputs": [
    {
     "name": "stdout",
     "output_type": "stream",
     "text": [
      "4*10 = 40\n",
      "3*10 = 30\n",
      "5*10 = 50\n",
      "6*10 = 60\n",
      "9*10 = 90\n"
     ]
    }
   ],
   "source": [
    "// define callback function inside the forEach method -- another example\n",
    "numbers.forEach(function(number, index){\n",
    "    console.log(`${number}*10 = ${number*10}`);\n",
    "})"
   ]
  },
  {
   "cell_type": "code",
   "execution_count": 7,
   "id": "00042358",
   "metadata": {},
   "outputs": [
    {
     "name": "stdout",
     "output_type": "stream",
     "text": [
      "John\n",
      "Jane\n",
      "Jack\n"
     ]
    }
   ],
   "source": [
    "// forEach with array of objects\n",
    "const users = [\n",
    "    { name: \"John\", age: 30, city: \"New York\" },\n",
    "    { name: \"Jane\", age: 25, city: \"Boston\" },\n",
    "    { name: \"Jack\", age: 40, city: \"Miami\" }\n",
    "];\n",
    "\n",
    "users.forEach(function(user){\n",
    "    console.log(user.name);\n",
    "})"
   ]
  },
  {
   "cell_type": "code",
   "execution_count": 8,
   "id": "11fb7640",
   "metadata": {},
   "outputs": [
    {
     "name": "stdout",
     "output_type": "stream",
     "text": [
      "John\n",
      "Jane\n",
      "Jack\n"
     ]
    }
   ],
   "source": [
    "// the same above functionality using for loop\n",
    "for(let i=0; i < users.length; i++){\n",
    "    console.log(users[i].name);\n",
    "}"
   ]
  },
  {
   "cell_type": "code",
   "execution_count": 9,
   "id": "0c263faa",
   "metadata": {},
   "outputs": [
    {
     "name": "stdout",
     "output_type": "stream",
     "text": [
      "John 0\n",
      "Jane 1\n",
      "Jack 2\n"
     ]
    }
   ],
   "source": [
    "// forEach using arrow function\n",
    "// can have both user and index\n",
    "users.forEach((user, index)=>{\n",
    "    console.log(user.name, index);\n",
    "});"
   ]
  },
  {
   "cell_type": "code",
   "execution_count": 10,
   "id": "934c666f",
   "metadata": {},
   "outputs": [
    {
     "name": "stdout",
     "output_type": "stream",
     "text": [
      "John\n",
      "Jane\n",
      "Jack\n"
     ]
    }
   ],
   "source": [
    "// can have only user and not index\n",
    "users.forEach((user) => {\n",
    "    console.log(user.name);\n",
    "})"
   ]
  },
  {
   "cell_type": "markdown",
   "id": "3db351c1",
   "metadata": {},
   "source": [
    "### map"
   ]
  },
  {
   "cell_type": "markdown",
   "id": "8049bb8c",
   "metadata": {},
   "source": [
    "In JavaScript, `map()` is a built-in function that is used to transform an array by applying a function to each of its elements. The `map()` function creates a new array with the same number of elements as the original array, but with each element transformed according to the function passed as an argument."
   ]
  },
  {
   "cell_type": "markdown",
   "id": "23c55c2e",
   "metadata": {},
   "source": [
    "`map()` is similar to `forEach()`."
   ]
  },
  {
   "cell_type": "code",
   "execution_count": 1,
   "id": "0c2fc667",
   "metadata": {},
   "outputs": [],
   "source": [
    "const num = [3,4,5,6,7,8,9,10];"
   ]
  },
  {
   "cell_type": "code",
   "execution_count": 2,
   "id": "15aafc82",
   "metadata": {},
   "outputs": [
    {
     "name": "stdout",
     "output_type": "stream",
     "text": [
      "6\n",
      "8\n",
      "10\n",
      "12\n",
      "14\n",
      "16\n",
      "18\n",
      "20\n"
     ]
    }
   ],
   "source": [
    "// using forEach\n",
    "const square = function(number){\n",
    "    console.log(number*2);\n",
    "}\n",
    "num.forEach(square)"
   ]
  },
  {
   "cell_type": "code",
   "execution_count": 3,
   "id": "3bd4b944",
   "metadata": {},
   "outputs": [
    {
     "name": "stdout",
     "output_type": "stream",
     "text": [
      "[\n",
      "   6,  8, 10, 12,\n",
      "  14, 16, 18, 20\n",
      "]\n"
     ]
    }
   ],
   "source": [
    "// using map\n",
    "const square2 = function(number){\n",
    "    return number*2;\n",
    "}\n",
    "console.log(num.map(square2));"
   ]
  },
  {
   "cell_type": "code",
   "execution_count": 4,
   "id": "43420a22",
   "metadata": {},
   "outputs": [
    {
     "name": "stdout",
     "output_type": "stream",
     "text": [
      "[\n",
      "   6,  8, 10, 12,\n",
      "  14, 16, 18, 20\n",
      "]\n"
     ]
    }
   ],
   "source": [
    "const squareNumber = num.map(square2); // returns an array\n",
    "console.log(squareNumber);"
   ]
  },
  {
   "cell_type": "code",
   "execution_count": 5,
   "id": "f938b957",
   "metadata": {},
   "outputs": [
    {
     "name": "stdout",
     "output_type": "stream",
     "text": [
      "[\n",
      "   6,  8, 10, 12,\n",
      "  14, 16, 18, 20\n",
      "]\n"
     ]
    }
   ],
   "source": [
    "const squareNumber2 = num.map((number)=>{return number*2})\n",
    "console.log(squareNumber2);"
   ]
  },
  {
   "cell_type": "code",
   "execution_count": 6,
   "id": "11229f3e",
   "metadata": {},
   "outputs": [
    {
     "name": "stdout",
     "output_type": "stream",
     "text": [
      "[\n",
      "   6,  8, 10, 12,\n",
      "  14, 16, 18, 20\n",
      "]\n"
     ]
    }
   ],
   "source": [
    "const squareNumber3 = num.map((number)=> number*2)\n",
    "console.log(squareNumber3);"
   ]
  },
  {
   "cell_type": "code",
   "execution_count": 7,
   "id": "ad500e0c",
   "metadata": {},
   "outputs": [],
   "source": [
    "const users = [\n",
    "    { name: \"John\", age: 30, city: \"New York\" },\n",
    "    { name: \"Jane\", age: 25, city: \"Boston\" },\n",
    "    { name: \"Jack\", age: 40, city: \"Miami\" },\n",
    "    { name: \"Jill\", age: 35, city: \"Los Angeles\" },\n",
    "    { name: \"Joe\", age: 20, city: \"Chicago\" }\n",
    "]"
   ]
  },
  {
   "cell_type": "code",
   "execution_count": 8,
   "id": "3387b7e0",
   "metadata": {},
   "outputs": [
    {
     "name": "stdout",
     "output_type": "stream",
     "text": [
      "[ 'John', 'Jane', 'Jack', 'Jill', 'Joe' ]\n"
     ]
    }
   ],
   "source": [
    "const userNames = users.map((user)=>{\n",
    "    return user.name;\n",
    "});\n",
    "console.log(userNames);"
   ]
  },
  {
   "cell_type": "code",
   "execution_count": 10,
   "id": "b41cc90f",
   "metadata": {},
   "outputs": [
    {
     "name": "stdout",
     "output_type": "stream",
     "text": [
      "[ 'John', 'Jane', 'Jack', 'Jill', 'Joe' ]\n"
     ]
    }
   ],
   "source": [
    "const userNames3 = users.map((user)=> user.name)\n",
    "console.log(userNames3);"
   ]
  },
  {
   "cell_type": "markdown",
   "id": "ea8cf0a5",
   "metadata": {},
   "source": [
    "### filter method"
   ]
  },
  {
   "cell_type": "code",
   "execution_count": 12,
   "id": "d8f213b1",
   "metadata": {},
   "outputs": [
    {
     "name": "stdout",
     "output_type": "stream",
     "text": [
      "[ 2, 4, 6, 8, 10 ]\n"
     ]
    }
   ],
   "source": [
    "const numbers6 = [1,2,3,4,5,6,7,8,9,10];\n",
    "\n",
    "const evenNumber = numbers6.filter((number)=> number%2 == 0)\n",
    "console.log(evenNumber);"
   ]
  },
  {
   "cell_type": "markdown",
   "id": "18329dd1",
   "metadata": {},
   "source": [
    "We can also do the same without using arrow function."
   ]
  },
  {
   "cell_type": "code",
   "execution_count": 13,
   "id": "b7a1783b",
   "metadata": {},
   "outputs": [
    {
     "name": "stdout",
     "output_type": "stream",
     "text": [
      "[ 2, 4, 6, 8, 10 ]\n"
     ]
    }
   ],
   "source": [
    "const isEven = function(number){\n",
    "    return number%2 == 0;\n",
    "}\n",
    "console.log(numbers6.filter(isEven))"
   ]
  },
  {
   "cell_type": "markdown",
   "id": "9a44dd7a",
   "metadata": {},
   "source": [
    "### reduce method"
   ]
  },
  {
   "cell_type": "markdown",
   "id": "340c9024",
   "metadata": {},
   "source": [
    "The `reduce()` method is a built-in function in JavaScript that is used to reduce an array of values to a single value. It takes in a callback function as its first argument and an optional initial value as the second argument.\n",
    "\n",
    "The callback function is executed on each element of the array and has access to two arguments: an accumulator and the current value. The accumulator is the value that is returned and passed to the next iteration of the callback function, and it is initialized to the initial value (if provided) or the first element of the array.\n",
    "\n",
    "The callback function can perform any operation on the accumulator and the current value, such as addition, multiplication, or concatenation. At the end of the iteration, the final value of the accumulator is returned.\n",
    "\n",
    "Here's an example of using the `reduce()` method to find the sum of an array of numbers:"
   ]
  },
  {
   "cell_type": "code",
   "execution_count": 14,
   "id": "e201c19c",
   "metadata": {},
   "outputs": [
    {
     "name": "stdout",
     "output_type": "stream",
     "text": [
      "15\n"
     ]
    }
   ],
   "source": [
    "const numbers = [1, 2, 3, 4, 5];\n",
    "const sum = numbers.reduce((accumulator, currentValue) => accumulator + currentValue, 0);\n",
    "\n",
    "console.log(sum); // Output: 15"
   ]
  },
  {
   "cell_type": "markdown",
   "id": "45e325a0",
   "metadata": {},
   "source": [
    "In this example, the `reduce()` method starts with an initial value of 0 and then adds each element of the `numbers` array to the accumulator. At the end of the iteration, the final value of the accumulator (which is the sum of all the numbers) is returned.\n",
    "\n",
    "The `reduce()` method can also be used to perform other operations, such as finding the maximum or minimum value in an array, concatenating strings, or even grouping objects based on a common property."
   ]
  },
  {
   "cell_type": "code",
   "execution_count": 20,
   "id": "4dc0e831",
   "metadata": {},
   "outputs": [
    {
     "name": "stdout",
     "output_type": "stream",
     "text": [
      "25\n"
     ]
    }
   ],
   "source": [
    "var numbers12 = [1,2,3,4,5,10];\n",
    "\n",
    "// sum of all the numbers in the array\n",
    "var sum12 = numbers12.reduce((accumulator, currentValue) => {\n",
    "    return accumulator + currentValue;\n",
    "});\n",
    "\n",
    "console.log(sum12);"
   ]
  },
  {
   "cell_type": "markdown",
   "id": "c8cf4fa5",
   "metadata": {},
   "source": [
    "When `reduce()` is called without an initial value, the first iteration of the callback function uses the first element of the array as the initial value of the accumulator, and the second element as the current value. In subsequent iterations, the accumulator will be the result of the previous iteration, and the current value will be the next element in the array.\n",
    "\n",
    "In the example above, the first iteration sets `accumulator` to 1 (the first element in the array), and `currentValue` to 2 (the second element in the array). The callback function then adds these two values together and returns the result (3), which becomes the new value of the accumulator for the next iteration.\n",
    "\n",
    "This process continues for each element in the array until all elements have been processed, and the final value of the accumulator is returned as the result of the `reduce()` method.\n",
    "\n",
    "So, even though an initial value is not provided, the `reduce()` method still works and returns the correct sum because it uses the first element of the array as the initial value of the accumulator. However, it's generally recommended to provide an initial value to avoid any unexpected behavior in cases where the array is empty."
   ]
  },
  {
   "cell_type": "code",
   "execution_count": 21,
   "id": "ffdb1a23",
   "metadata": {},
   "outputs": [
    {
     "name": "stdout",
     "output_type": "stream",
     "text": [
      "3800\n"
     ]
    }
   ],
   "source": [
    "const userCart = [\n",
    "    { name: \"laptop\", price: 1000, quantity: 1 },\n",
    "    { name: \"desktop\", price: 2000, quantity: 2 },\n",
    "    { name: \"mobile\", price: 500, quantity: 4 },\n",
    "    { name: \"tablet\", price: 300, quantity: 3 }\n",
    "];\n",
    "\n",
    "const totalAmount = userCart.reduce((totalPrice, currentProduct) => {\n",
    "    return totalPrice + currentProduct.price;\n",
    "}, 0);\n",
    "\n",
    "console.log(totalAmount);"
   ]
  },
  {
   "cell_type": "markdown",
   "id": "a661c5b9",
   "metadata": {},
   "source": [
    "### Sort"
   ]
  },
  {
   "cell_type": "code",
   "execution_count": 22,
   "id": "eeed9af7",
   "metadata": {},
   "outputs": [],
   "source": [
    "const numbers13 = [5,9,1200,410,3000];"
   ]
  },
  {
   "cell_type": "code",
   "execution_count": 24,
   "id": "8149900d",
   "metadata": {},
   "outputs": [
    {
     "name": "stdout",
     "output_type": "stream",
     "text": [
      "[ 'Jack', 'Jane', 'Jill', 'Joe', 'John' ]\n"
     ]
    }
   ],
   "source": [
    "const userNames13 = ['John', 'Jane', 'Jack', 'Jill', 'Joe'];\n",
    "userNames13.sort();\n",
    "console.log(userNames13);"
   ]
  },
  {
   "cell_type": "code",
   "execution_count": 25,
   "id": "9f13ea68",
   "metadata": {},
   "outputs": [
    {
     "name": "stdout",
     "output_type": "stream",
     "text": [
      "[ 5, 9, 410, 1200, 3000 ]\n"
     ]
    }
   ],
   "source": [
    "// ascending order\n",
    "numbers13.sort((a,b)=> a-b)\n",
    "console.log(numbers13);"
   ]
  },
  {
   "cell_type": "code",
   "execution_count": 26,
   "id": "f2d9d251",
   "metadata": {},
   "outputs": [
    {
     "name": "stdout",
     "output_type": "stream",
     "text": [
      "[ 3000, 1200, 410, 9, 5 ]\n"
     ]
    }
   ],
   "source": [
    "// descending order\n",
    "numbers13.sort((a,b)=> b-a);\n",
    "console.log(numbers13);"
   ]
  },
  {
   "cell_type": "code",
   "execution_count": 27,
   "id": "b9faa9ab",
   "metadata": {},
   "outputs": [
    {
     "name": "stdout",
     "output_type": "stream",
     "text": [
      "[\n",
      "  { productId: 1, productName: 'p1', price: 300 },\n",
      "  { productId: 4, productName: 'p4', price: 300 },\n",
      "  { productId: 3, productName: 'p3', price: 1200 },\n",
      "  { productId: 5, productName: 'p5', price: 1500 },\n",
      "  { productId: 2, productName: 'p2', price: 3300 }\n",
      "]\n"
     ]
    }
   ],
   "source": [
    "// sorting array of objects\n",
    "const products = [\n",
    "    {productId: 1, productName: \"p1\", price: 300},\n",
    "    {productId: 2, productName: \"p2\", price: 3300},\n",
    "    {productId: 3, productName: \"p3\", price: 1200},\n",
    "    {productId: 4, productName: \"p4\", price: 300},\n",
    "    {productId: 5, productName: \"p5\", price: 1500}\n",
    "];\n",
    "\n",
    "// low to high\n",
    "products.sort((a, b)=>{\n",
    "    return a.price - b.price;\n",
    "});\n",
    "console.log(products);"
   ]
  },
  {
   "cell_type": "code",
   "execution_count": 28,
   "id": "91124312",
   "metadata": {},
   "outputs": [
    {
     "name": "stdout",
     "output_type": "stream",
     "text": [
      "[\n",
      "  { productId: 2, productName: 'p2', price: 3300 },\n",
      "  { productId: 5, productName: 'p5', price: 1500 },\n",
      "  { productId: 3, productName: 'p3', price: 1200 },\n",
      "  { productId: 1, productName: 'p1', price: 300 },\n",
      "  { productId: 4, productName: 'p4', price: 300 }\n",
      "]\n"
     ]
    }
   ],
   "source": [
    "// high to low\n",
    "products.sort((a, b)=>{\n",
    "    return b.price - a.price;\n",
    "});\n",
    "console.log(products);"
   ]
  },
  {
   "cell_type": "markdown",
   "id": "56c1ec2b",
   "metadata": {},
   "source": [
    "#### Create a new sorted object "
   ]
  },
  {
   "cell_type": "code",
   "execution_count": 29,
   "id": "60d98806",
   "metadata": {},
   "outputs": [
    {
     "name": "stdout",
     "output_type": "stream",
     "text": [
      "[\n",
      "  { productId: 1, productName: 'p1', price: 300 },\n",
      "  { productId: 4, productName: 'p4', price: 300 },\n",
      "  { productId: 3, productName: 'p3', price: 1200 },\n",
      "  { productId: 5, productName: 'p5', price: 1500 },\n",
      "  { productId: 2, productName: 'p2', price: 3300 }\n",
      "]\n"
     ]
    }
   ],
   "source": [
    "// But this is changing products and we don't to do that. In\n",
    "// order to avoid that, we can use slice method\n",
    "\n",
    "// low to high\n",
    "const lowToHigh = products.slice(0).sort((a, b) => {\n",
    "    return a.price - b.price;\n",
    "});\n",
    "console.log(lowToHigh);"
   ]
  },
  {
   "cell_type": "code",
   "execution_count": 30,
   "id": "0f73d3d1",
   "metadata": {},
   "outputs": [
    {
     "name": "stdout",
     "output_type": "stream",
     "text": [
      "[\n",
      "  { productId: 2, productName: 'p2', price: 3300 },\n",
      "  { productId: 5, productName: 'p5', price: 1500 },\n",
      "  { productId: 3, productName: 'p3', price: 1200 },\n",
      "  { productId: 1, productName: 'p1', price: 300 },\n",
      "  { productId: 4, productName: 'p4', price: 300 }\n",
      "]\n"
     ]
    }
   ],
   "source": [
    "// high to low\n",
    "const highToLow = products.slice(0).sort((a, b) => {\n",
    "    return b.price - a.price;\n",
    "});\n",
    "console.log(highToLow);"
   ]
  },
  {
   "cell_type": "markdown",
   "id": "e0f2f24c",
   "metadata": {},
   "source": [
    "### find method"
   ]
  },
  {
   "cell_type": "markdown",
   "id": "8b1469a6",
   "metadata": {},
   "source": [
    "The `find()` method is a built-in method in JavaScript that is used to search for the first element in an array that satisfies a specified condition. The method returns the value of the first element that passes the test implemented by the provided function.\n",
    "\n",
    "The syntax of the `find()` method is as follows:"
   ]
  },
  {
   "cell_type": "markdown",
   "id": "61412d2f",
   "metadata": {},
   "source": [
    "```JavaScript\n",
    "array.find(function(currentValue, index, array) {\n",
    "  // code to test each element of the array\n",
    "});\n",
    "```"
   ]
  },
  {
   "cell_type": "markdown",
   "id": "dc8b874d",
   "metadata": {},
   "source": [
    "Here, `array` is the array that the method is called upon, and `currentValue`, `index`, and `array` are optional parameters that represent the current value being processed, the index of the current value, and the array being processed, respectively.\n",
    "\n",
    "The `find()` method executes the provided function once for each element of the array until it finds an element that satisfies the provided condition. If a matching element is found, the method immediately returns its value, and if no matching element is found, the method returns `undefined`."
   ]
  },
  {
   "cell_type": "code",
   "execution_count": 31,
   "id": "a20b3bfa",
   "metadata": {},
   "outputs": [
    {
     "name": "stdout",
     "output_type": "stream",
     "text": [
      "true\n"
     ]
    }
   ],
   "source": [
    "const myArray = [\"Hello\", \"World\", \"I\", \"am\", \"a\", \"string\", \"array\", \"how\", \"are\"];\n",
    "\n",
    "function isLength3(string){\n",
    "    return string.length === 3;\n",
    "}\n",
    "\n",
    "const ans = isLength3(\"dog\");\n",
    "console.log(ans);"
   ]
  },
  {
   "cell_type": "code",
   "execution_count": 32,
   "id": "1ea3c56e",
   "metadata": {},
   "outputs": [
    {
     "name": "stdout",
     "output_type": "stream",
     "text": [
      "how\n"
     ]
    }
   ],
   "source": [
    "const ans2 = myArray.find(isLength3);\n",
    "console.log(ans2); // returns the first string with length 3, here \"how\""
   ]
  },
  {
   "cell_type": "code",
   "execution_count": 33,
   "id": "4f15e23e",
   "metadata": {},
   "outputs": [
    {
     "name": "stdout",
     "output_type": "stream",
     "text": [
      "how\n"
     ]
    }
   ],
   "source": [
    "const ans3 = myArray.find((string) => string.length === 3);\n",
    "console.log(ans3);"
   ]
  },
  {
   "cell_type": "code",
   "execution_count": 35,
   "id": "3945eb63",
   "metadata": {},
   "outputs": [
    {
     "name": "stdout",
     "output_type": "stream",
     "text": [
      "{ userId: 3, userName: 'Jack' }\n"
     ]
    }
   ],
   "source": [
    "const users10 = [\n",
    "    {userId: 1, userName: \"John\"},\n",
    "    {userId: 2, userName: \"Jane\"},\n",
    "    {userId: 3, userName: \"Jack\"},\n",
    "    {userId: 4, userName: \"Jill\"},\n",
    "    {userId: 5, userName: \"Joe\"},\n",
    "    {userId: 6, userName: \"Jenny\"}\n",
    "];\n",
    "\n",
    "const myUser10 = users10.find((user)=>user.userId === 3);\n",
    "console.log(myUser10);"
   ]
  },
  {
   "cell_type": "markdown",
   "id": "6b3ca7fc",
   "metadata": {},
   "source": [
    "### every method\n",
    "\n",
    "If every element satisfies a condition, returns True"
   ]
  },
  {
   "cell_type": "code",
   "execution_count": 39,
   "id": "a8a2a77f",
   "metadata": {},
   "outputs": [
    {
     "name": "stdout",
     "output_type": "stream",
     "text": [
      "true\n"
     ]
    }
   ],
   "source": [
    "const numbers14 = [2, 4, 6, 8, 10];\n",
    "\n",
    "const ans14 = numbers14.every((number)=>number%2 === 0);\n",
    "console.log(ans14);"
   ]
  },
  {
   "cell_type": "code",
   "execution_count": 41,
   "id": "dd80ab13",
   "metadata": {},
   "outputs": [
    {
     "name": "stdout",
     "output_type": "stream",
     "text": [
      "true\n"
     ]
    }
   ],
   "source": [
    "function isEven16(number){\n",
    "    return number % 2 === 0;\n",
    "}\n",
    "\n",
    "const ans16 = numbers14.every(isEven);\n",
    "console.log(ans16);"
   ]
  },
  {
   "cell_type": "code",
   "execution_count": 43,
   "id": "aa4b1dcb",
   "metadata": {},
   "outputs": [
    {
     "name": "stdout",
     "output_type": "stream",
     "text": [
      "true\n"
     ]
    }
   ],
   "source": [
    "// every method -- continued\n",
    "const userCart2 = [\n",
    "    {productId: 1, quantity: 2, productName: 'laptop', price: 100000},\n",
    "    {productId: 2, quantity: 1, productName: 'mobile', price: 8000},\n",
    "    {productId: 3, quantity: 3, productName: 'tablet', price: 30000},\n",
    "    {productId: 4, quantity: 4, productName: 'watch', price: 2000}\n",
    "];\n",
    "\n",
    "const ans17 = userCart2.every((item)=>item.price<200000); // every item price is less than 200000\n",
    "console.log(ans17);"
   ]
  },
  {
   "cell_type": "markdown",
   "id": "e35a08b0",
   "metadata": {},
   "source": [
    "### some method\n",
    "\n",
    "If some elements satisfy a condition, returns True"
   ]
  },
  {
   "cell_type": "code",
   "execution_count": 44,
   "id": "7e4dbdb5",
   "metadata": {},
   "outputs": [
    {
     "name": "stdout",
     "output_type": "stream",
     "text": [
      "true\n"
     ]
    }
   ],
   "source": [
    "// some method -- returns true or false\n",
    "const ans18 = userCart2.some((item)=>item.price>80000); // some item price is greater than 80000\n",
    "console.log(ans18);"
   ]
  },
  {
   "cell_type": "markdown",
   "id": "bdd47401",
   "metadata": {},
   "source": [
    "### fill method\n",
    "\n",
    "Fills an array with a static value from a start index to an end index"
   ]
  },
  {
   "cell_type": "code",
   "execution_count": 46,
   "id": "bf42389c",
   "metadata": {},
   "outputs": [
    {
     "name": "stdout",
     "output_type": "stream",
     "text": [
      "[\n",
      "  1, 2, 0, 0,  0,\n",
      "  6, 7, 8, 9, 10\n",
      "]\n"
     ]
    }
   ],
   "source": [
    "const myArray11 = [1, 2, 3, 4, 5, 6, 7, 8, 9, 10];\n",
    "myArray11.fill(0, 2, 5); // fill with 0 from index 2 to index 4\n",
    "console.log(myArray11);"
   ]
  },
  {
   "cell_type": "code",
   "execution_count": 47,
   "id": "a616bfe0",
   "metadata": {},
   "outputs": [
    {
     "name": "stdout",
     "output_type": "stream",
     "text": [
      "[\n",
      "  0, 0, 0, 0, 0,\n",
      "  0, 0, 0, 0, 0\n",
      "]\n"
     ]
    }
   ],
   "source": [
    "const myArray12 = new Array(10).fill(0); // fill with 0 from index 0 to index 9\n",
    "console.log(myArray12);"
   ]
  },
  {
   "cell_type": "code",
   "execution_count": 48,
   "id": "7f23bfc6",
   "metadata": {},
   "outputs": [
    {
     "name": "stdout",
     "output_type": "stream",
     "text": [
      "{ key1: 'value3', key2: 'value2', key4: 'value4', key5: 'value5' }\n"
     ]
    }
   ],
   "source": [
    "const obj3 = {\n",
    "    key1: \"value1\",\n",
    "    key2: \"value2\"\n",
    "};\n",
    "\n",
    "const obj4 = {\n",
    "    key1: \"value3\",\n",
    "    key4: \"value4\",\n",
    "    key5: \"value5\"\n",
    "};\n",
    "\n",
    "const newObject3 = {...obj3, ...obj4}; // copies obj3 and obj4 into newObject3\n",
    "console.log(newObject3);"
   ]
  },
  {
   "cell_type": "markdown",
   "id": "0a790197",
   "metadata": {},
   "source": [
    "### Maps\n",
    "\n",
    "Map is a collection of key value pairs; duplicate keys are not allowed; store  data in ordered fashion.\n",
    "\n",
    "In Map, we can use any type as key."
   ]
  },
  {
   "cell_type": "markdown",
   "id": "b4e95e06",
   "metadata": {},
   "source": [
    "#### Object literal\n",
    "\n",
    "// the below is called an object literal\n",
    "\n",
    "object literal\n",
    "\n",
    "* key -> string\n",
    "* value -> any type"
   ]
  },
  {
   "cell_type": "code",
   "execution_count": 49,
   "id": "61f64bfe",
   "metadata": {},
   "outputs": [
    {
     "name": "stdout",
     "output_type": "stream",
     "text": [
      "John\n",
      "John\n"
     ]
    }
   ],
   "source": [
    "const person = {\n",
    "    firstName: 'John',\n",
    "    age: 7,\n",
    "    1: \"one\" // 1 will be considered as string\n",
    "};\n",
    "\n",
    "console.log(person.firstName);\n",
    "console.log(person[\"firstName\"]);"
   ]
  },
  {
   "cell_type": "code",
   "execution_count": 50,
   "id": "31d6299a",
   "metadata": {},
   "outputs": [
    {
     "name": "stdout",
     "output_type": "stream",
     "text": [
      "string\n",
      "string\n",
      "string\n",
      "one\n"
     ]
    }
   ],
   "source": [
    "for(let key in person){\n",
    "    console.log(typeof key);\n",
    "}\n",
    "console.log(person[1]);"
   ]
  },
  {
   "cell_type": "markdown",
   "id": "46cb65df",
   "metadata": {},
   "source": [
    "```JavaScript\n",
    "console.log(person.1); // error\n",
    "```"
   ]
  },
  {
   "cell_type": "code",
   "execution_count": 51,
   "id": "d386472a",
   "metadata": {},
   "outputs": [
    {
     "name": "stdout",
     "output_type": "stream",
     "text": [
      "Map(5) {\n",
      "  'firstName' => 'Munna',\n",
      "  'age' => 33,\n",
      "  1 => 'one',\n",
      "  [ 1, 2, 3 ] => 'onetwothree',\n",
      "  { '1': 'one' } => 'onetwothree'\n",
      "}\n"
     ]
    }
   ],
   "source": [
    "// key value pair\n",
    "// for Map, we can keep any type as key\n",
    "const person2 = new Map();\n",
    "person2.set('firstName', 'Munna');\n",
    "person2.set('age', 33);\n",
    "person2.set(1, 'one');\n",
    "person2.set([1,2,3], 'onetwothree');\n",
    "person2.set({1: 'one'}, 'onetwothree'); // object literal as key\n",
    "\n",
    "console.log(person2);"
   ]
  },
  {
   "cell_type": "code",
   "execution_count": 52,
   "id": "8728fa7a",
   "metadata": {},
   "outputs": [
    {
     "name": "stdout",
     "output_type": "stream",
     "text": [
      "33\n",
      "one\n",
      "[Map Iterator] { 'firstName', 'age', 1, [ 1, 2, 3 ], { '1': 'one' } }\n"
     ]
    }
   ],
   "source": [
    "// Accessing values of Map\n",
    "console.log(person2.get('age'));\n",
    "console.log(person2.get(1));\n",
    "console.log(person2.keys());\n"
   ]
  },
  {
   "cell_type": "code",
   "execution_count": 53,
   "id": "ed1822a2",
   "metadata": {},
   "outputs": [
    {
     "name": "stdout",
     "output_type": "stream",
     "text": [
      "firstName string\n",
      "age string\n",
      "1 number\n",
      "[ 1, 2, 3 ] object\n",
      "{ '1': 'one' } object\n"
     ]
    }
   ],
   "source": [
    "// any type of data can be used as key\n",
    "\n",
    "// we can iterate over keys of the Map\n",
    "\n",
    "for(let key of person2.keys()){\n",
    "    console.log(key, typeof key);\n",
    "}"
   ]
  },
  {
   "cell_type": "markdown",
   "id": "dc9f90cf",
   "metadata": {},
   "source": [
    "In object, we couldn't use for of loop, we could use for in loop though but in Map, we can directly use for of loop"
   ]
  },
  {
   "cell_type": "code",
   "execution_count": 54,
   "id": "99f57839",
   "metadata": {},
   "outputs": [
    {
     "name": "stdout",
     "output_type": "stream",
     "text": [
      "true\n",
      "true\n",
      "true\n"
     ]
    }
   ],
   "source": [
    "// in object, we couldn't use for of loop, we could use for in loop though\n",
    "// but in Map, // we can directly use for of loop\n",
    "\n",
    "const person3 = new Map();\n",
    "person3.set('firstName', 'Munna');\n",
    "person3.set('age', 33);\n",
    "person3.set(1, 'one');\n",
    "\n",
    "for(let key of person3){\n",
    "    console.log(Array.isArray(key));\n",
    "}"
   ]
  },
  {
   "cell_type": "markdown",
   "id": "91c4eef6",
   "metadata": {},
   "source": [
    "#### Destructuring"
   ]
  },
  {
   "cell_type": "code",
   "execution_count": 55,
   "id": "3b94dd78",
   "metadata": {},
   "outputs": [
    {
     "name": "stdout",
     "output_type": "stream",
     "text": [
      "1\n",
      "2\n",
      "3\n"
     ]
    }
   ],
   "source": [
    "// destructuring an array:\n",
    "let arr = [1, 2, 3, 4, 5];\n",
    "let [a, b, c] = arr;\n",
    "console.log(a); // 1\n",
    "console.log(b); // 2\n",
    "console.log(c); // 3"
   ]
  },
  {
   "cell_type": "code",
   "execution_count": 56,
   "id": "57d08879",
   "metadata": {},
   "outputs": [
    {
     "name": "stdout",
     "output_type": "stream",
     "text": [
      "1\n",
      "2\n",
      "3\n"
     ]
    }
   ],
   "source": [
    "// destructuring an object:\n",
    "let obj = { x: 1, y: 2, z: 3 };\n",
    "let { x, y, z } = obj;\n",
    "console.log(x); // 1\n",
    "console.log(y); // 2\n",
    "console.log(z); // 3"
   ]
  },
  {
   "cell_type": "markdown",
   "id": "039030be",
   "metadata": {},
   "source": [
    "#### Destructuring with map"
   ]
  },
  {
   "cell_type": "code",
   "execution_count": 57,
   "id": "95774a0c",
   "metadata": {},
   "outputs": [
    {
     "name": "stdout",
     "output_type": "stream",
     "text": [
      "firstName Munna\n",
      "age 33\n",
      "1 one\n"
     ]
    }
   ],
   "source": [
    "// destructuring with Map\n",
    "\n",
    "for(let [key, value] of person3){\n",
    "    console.log(key, value);\n",
    "}"
   ]
  },
  {
   "cell_type": "code",
   "execution_count": 58,
   "id": "1fa88502",
   "metadata": {},
   "outputs": [
    {
     "name": "stdout",
     "output_type": "stream",
     "text": [
      "Map(2) { 'firstName' => 'Munna', 'age' => 33 }\n"
     ]
    }
   ],
   "source": [
    "// another way to create map\n",
    "const person4 = new Map([\n",
    "    ['firstName', 'Munna'],\n",
    "    ['age', 33]\n",
    "]);\n",
    "console.log(person4);"
   ]
  },
  {
   "cell_type": "markdown",
   "id": "7b359ed8",
   "metadata": {},
   "source": [
    "### Add information to object but in a new object using Map"
   ]
  },
  {
   "cell_type": "code",
   "execution_count": 59,
   "id": "3995a6af",
   "metadata": {},
   "outputs": [],
   "source": [
    "const person5 = {\n",
    "    id: 1,\n",
    "    firstName: 'Munna'\n",
    "};\n",
    "const person6 = {\n",
    "    id: 2,\n",
    "    firstName: 'Dipti'\n",
    "};"
   ]
  },
  {
   "cell_type": "code",
   "execution_count": 60,
   "id": "c3b700bb",
   "metadata": {},
   "outputs": [
    {
     "name": "stdout",
     "output_type": "stream",
     "text": [
      "Map(2) {\n",
      "  { id: 1, firstName: 'Munna' } => { age: 28, gender: 'Male' },\n",
      "  { id: 2, firstName: 'Dipti' } => { age: 18, gender: 'Female' }\n",
      "}\n"
     ]
    }
   ],
   "source": [
    "const extraInfo = new Map();\n",
    "extraInfo.set(person5, {age: 28, gender: 'Male'});\n",
    "extraInfo.set(person6, {age: 18, gender: 'Female'});\n",
    "console.log(extraInfo);"
   ]
  },
  {
   "cell_type": "markdown",
   "id": "5be090cb",
   "metadata": {},
   "source": [
    "### Cloning objects"
   ]
  },
  {
   "cell_type": "code",
   "execution_count": 61,
   "id": "36a711cd",
   "metadata": {},
   "outputs": [],
   "source": [
    "const obj1 = {\n",
    "    key1: 'value1',\n",
    "    key2: 'value2'\n",
    "};"
   ]
  },
  {
   "cell_type": "markdown",
   "id": "1f30ca4f",
   "metadata": {},
   "source": [
    "#### clone using spread operator"
   ]
  },
  {
   "cell_type": "code",
   "execution_count": 62,
   "id": "d503f751",
   "metadata": {},
   "outputs": [
    {
     "name": "stdout",
     "output_type": "stream",
     "text": [
      "{ key1: 'value1', key2: 'value2', key3: 'value3' }\n",
      "{ key1: 'value1', key2: 'value2' }\n"
     ]
    }
   ],
   "source": [
    "// clone using spread operator\n",
    "const obj2 = {...obj1};\n",
    "obj1.key3 = \"value3\";\n",
    "console.log(obj1);\n",
    "console.log(obj2);"
   ]
  },
  {
   "cell_type": "markdown",
   "id": "f5cc2443",
   "metadata": {},
   "source": [
    "#### cloning using Object.assign"
   ]
  },
  {
   "cell_type": "code",
   "execution_count": 65,
   "id": "bd018ad1",
   "metadata": {},
   "outputs": [
    {
     "name": "stdout",
     "output_type": "stream",
     "text": [
      "{ key1: 'value1', key2: 'value2', key3: 'value3', key4: 'value4' }\n",
      "{ key1: 'value1', key2: 'value2', key3: 'value3' }\n"
     ]
    }
   ],
   "source": [
    "// cloning using Object.assign\n",
    "const obj5 = Object.assign({}, obj1);\n",
    "obj1.key4 = \"value4\";\n",
    "console.log(obj1);\n",
    "console.log(obj5);"
   ]
  },
  {
   "cell_type": "code",
   "execution_count": null,
   "id": "fca163a6",
   "metadata": {},
   "outputs": [],
   "source": [
    "    "
   ]
  }
 ],
 "metadata": {
  "kernelspec": {
   "display_name": "JavaScript (Node.js)",
   "language": "javascript",
   "name": "javascript"
  },
  "language_info": {
   "file_extension": ".js",
   "mimetype": "application/javascript",
   "name": "javascript",
   "version": "18.12.1"
  }
 },
 "nbformat": 4,
 "nbformat_minor": 5
}
