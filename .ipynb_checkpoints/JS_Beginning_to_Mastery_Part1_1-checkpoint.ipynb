{
 "cells": [
  {
   "cell_type": "code",
   "execution_count": null,
   "id": "64a6c37e",
   "metadata": {},
   "outputs": [],
   "source": [
    "We can create variables using both `let` and `var` keywords."
   ]
  },
  {
   "cell_type": "markdown",
   "id": "6af9d0b4",
   "metadata": {},
   "source": [
    "In modern JavaScript, it's generally recommended to use `let` instead of `var` to declare variables.\n",
    "\n",
    "The main reason for this is that `let` is block-scoped, whereas `var` is function-scoped. This means that a variable declared with `let` is only accessible within the block it was declared in (including any nested blocks), while a variable declared with `var` is accessible within the entire function it was declared in.\n",
    "\n",
    "For example:"
   ]
  },
  {
   "cell_type": "code",
   "execution_count": 13,
   "id": "63014bb1",
   "metadata": {},
   "outputs": [],
   "source": [
    "function example() {\n",
    "  var x = 1;\n",
    "  if (true) {\n",
    "    var x = 2; // same variable as above\n",
    "    console.log(x); // 2\n",
    "  }\n",
    "  console.log(x); // 2\n",
    "}\n",
    "\n",
    "function example2() {\n",
    "  let y = 1;\n",
    "  if (true) {\n",
    "    let y = 2; // different variable than above\n",
    "    console.log(y); // 2\n",
    "  }\n",
    "  console.log(y); // 1\n",
    "}"
   ]
  },
  {
   "cell_type": "code",
   "execution_count": 14,
   "id": "aeaba6ee",
   "metadata": {},
   "outputs": [
    {
     "name": "stdout",
     "output_type": "stream",
     "text": [
      "2\n",
      "2\n"
     ]
    }
   ],
   "source": [
    "example()"
   ]
  },
  {
   "cell_type": "code",
   "execution_count": 15,
   "id": "794eb2fb",
   "metadata": {},
   "outputs": [
    {
     "name": "stdout",
     "output_type": "stream",
     "text": [
      "2\n",
      "1\n"
     ]
    }
   ],
   "source": [
    "example2()"
   ]
  },
  {
   "cell_type": "markdown",
   "id": "b3a5413b",
   "metadata": {},
   "source": [
    "In the first example, the variable `x` is overwritten within the nested block, and this change is reflected outside of the block as well. In the second example, the variable `y` is only accessible within the block it was declared in, and a separate variable with the same name could be declared outside of the block without interfering with it.\n",
    "\n",
    "In general, using `let` can help prevent accidental variable reassignment and make code easier to reason about, especially when dealing with more complex functions and control flow. However, there may be some cases where using var is still appropriate, such as when you intentionally want to create a variable that's accessible throughout an entire function"
   ]
  },
  {
   "cell_type": "code",
   "execution_count": 1,
   "id": "f9665de7",
   "metadata": {},
   "outputs": [
    {
     "name": "stdout",
     "output_type": "stream",
     "text": [
      "Hello from file1.js\n",
      "Hello again\n"
     ]
    }
   ],
   "source": [
    "console.log(\"Hello from file1.js\");\n",
    "console.log(\"Hello again\");"
   ]
  },
  {
   "cell_type": "markdown",
   "id": "d6ff22d4",
   "metadata": {},
   "source": [
    "#### ctrl + forward slash for comment"
   ]
  },
  {
   "cell_type": "code",
   "execution_count": 5,
   "id": "5793bb2e",
   "metadata": {},
   "outputs": [
    {
     "ename": "SyntaxError",
     "evalue": "Identifier 'age' has already been declared",
     "output_type": "error",
     "traceback": [
      "evalmachine.<anonymous>:1",
      "// ctrl + forward slash for comment",
      "^",
      "",
      "SyntaxError: Identifier 'age' has already been declared",
      "    at Script.runInThisContext (node:vm:129:12)",
      "    at Object.runInThisContext (node:vm:313:38)",
      "    at run ([eval]:1020:15)",
      "    at onRunRequest ([eval]:864:18)",
      "    at onMessage ([eval]:828:13)",
      "    at process.emit (node:events:513:28)",
      "    at emit (node:internal/child_process:937:14)",
      "    at process.processTicksAndRejections (node:internal/process/task_queues:83:21)"
     ]
    }
   ],
   "source": [
    "// ctrl + forward slash for comment\n",
    "// console.log(); \n",
    "\n",
    "let age = 20;\n",
    "let firstName = \"John\";"
   ]
  },
  {
   "cell_type": "code",
   "execution_count": 79,
   "id": "9a04e2c4",
   "metadata": {},
   "outputs": [
    {
     "name": "stdout",
     "output_type": "stream",
     "text": [
      "number\n",
      "number\n"
     ]
    }
   ],
   "source": [
    "console.log(typeof(age)); // same as the below\n",
    "console.log(typeof age);"
   ]
  },
  {
   "cell_type": "markdown",
   "id": "801c2aae",
   "metadata": {},
   "source": [
    "### convert number to string"
   ]
  },
  {
   "cell_type": "code",
   "execution_count": 4,
   "id": "9949e5a1",
   "metadata": {},
   "outputs": [
    {
     "name": "stdout",
     "output_type": "stream",
     "text": [
      "string\n"
     ]
    }
   ],
   "source": [
    "// convert number to string\n",
    "age = String(age);\n",
    "console.log(typeof age);"
   ]
  },
  {
   "cell_type": "markdown",
   "id": "08ca2043",
   "metadata": {},
   "source": [
    "#### Convert number to string -- again"
   ]
  },
  {
   "cell_type": "code",
   "execution_count": 80,
   "id": "c5aaf4a5",
   "metadata": {},
   "outputs": [
    {
     "name": "stdout",
     "output_type": "stream",
     "text": [
      "string\n"
     ]
    }
   ],
   "source": [
    "age = age.toString();\n",
    "console.log(typeof age);"
   ]
  },
  {
   "cell_type": "code",
   "execution_count": 81,
   "id": "b3314601",
   "metadata": {},
   "outputs": [
    {
     "name": "stdout",
     "output_type": "stream",
     "text": [
      "20\n"
     ]
    }
   ],
   "source": [
    "console.log(age)"
   ]
  },
  {
   "cell_type": "code",
   "execution_count": 82,
   "id": "eebc51a9",
   "metadata": {},
   "outputs": [
    {
     "name": "stdout",
     "output_type": "stream",
     "text": [
      "string\n"
     ]
    }
   ],
   "source": [
    "// convert number to string -- again\n",
    "age = age + \"\";\n",
    "console.log(typeof age);"
   ]
  },
  {
   "cell_type": "markdown",
   "id": "18e81ad2",
   "metadata": {},
   "source": [
    "#### Convert string to number"
   ]
  },
  {
   "cell_type": "code",
   "execution_count": 6,
   "id": "194d2f96",
   "metadata": {},
   "outputs": [
    {
     "name": "stdout",
     "output_type": "stream",
     "text": [
      "number\n"
     ]
    }
   ],
   "source": [
    "// convert string to number\n",
    "age = Number(age);\n",
    "console.log(typeof age);"
   ]
  },
  {
   "cell_type": "code",
   "execution_count": 7,
   "id": "69fa464a",
   "metadata": {},
   "outputs": [
    {
     "name": "stdout",
     "output_type": "stream",
     "text": [
      "number\n"
     ]
    }
   ],
   "source": [
    "// convert string to number -- again\n",
    "age = +age;\n",
    "console.log(typeof age);"
   ]
  },
  {
   "cell_type": "code",
   "execution_count": 8,
   "id": "62789fd3",
   "metadata": {},
   "outputs": [
    {
     "name": "stdout",
     "output_type": "stream",
     "text": [
      "number\n"
     ]
    }
   ],
   "source": [
    "// convert string to number -- again\n",
    "age = parseInt(age);\n",
    "console.log(typeof age);"
   ]
  },
  {
   "cell_type": "markdown",
   "id": "b0012f52",
   "metadata": {},
   "source": [
    "#### String concatenation"
   ]
  },
  {
   "cell_type": "code",
   "execution_count": 9,
   "id": "3bc5d418",
   "metadata": {},
   "outputs": [
    {
     "name": "stdout",
     "output_type": "stream",
     "text": [
      "Shammu Khan\n"
     ]
    }
   ],
   "source": [
    "let string1 = \"Shammu\";\n",
    "let string2 = \"Khan\";\n",
    "\n",
    "let fullName = string1 + \" \" + string2;\n",
    "console.log(fullName);"
   ]
  },
  {
   "cell_type": "code",
   "execution_count": 10,
   "id": "93e98f04",
   "metadata": {},
   "outputs": [
    {
     "name": "stdout",
     "output_type": "stream",
     "text": [
      "1720\n"
     ]
    }
   ],
   "source": [
    "// string concatenation -- again\n",
    "let string3 = \"17\";\n",
    "let string4 = \"20\";\n",
    "\n",
    "let addedString = string3 + string4;\n",
    "console.log(addedString);"
   ]
  },
  {
   "cell_type": "code",
   "execution_count": 11,
   "id": "d8e29ae0",
   "metadata": {},
   "outputs": [
    {
     "name": "stdout",
     "output_type": "stream",
     "text": [
      "37\n"
     ]
    }
   ],
   "source": [
    "// converts string to number and then adds\n",
    "let addedNumber = +string3 + +string4; // +string3 converts string to number\n",
    "console.log(addedNumber); "
   ]
  },
  {
   "cell_type": "markdown",
   "id": "84e88913",
   "metadata": {},
   "source": [
    "#### Template string"
   ]
  },
  {
   "cell_type": "code",
   "execution_count": 12,
   "id": "c447885d",
   "metadata": {
    "scrolled": true
   },
   "outputs": [
    {
     "name": "stdout",
     "output_type": "stream",
     "text": [
      "My name is John and I am 22 years old.\n"
     ]
    }
   ],
   "source": [
    "// template string\n",
    "let age2 = 22; \n",
    "var firstName2 = \"John\";\n",
    "\n",
    "console.log(`My name is ${firstName2} and I am ${age2} years old.`);"
   ]
  },
  {
   "cell_type": "code",
   "execution_count": 2,
   "id": "09e4fa56",
   "metadata": {},
   "outputs": [],
   "source": [
    "// template string -- again\n",
    "let aboutMe = `My name is ${firstName2} and I am ${age2} years old` ;"
   ]
  },
  {
   "cell_type": "code",
   "execution_count": 3,
   "id": "692e089e",
   "metadata": {},
   "outputs": [
    {
     "name": "stdout",
     "output_type": "stream",
     "text": [
      "My name is John and I am 22 years old\n"
     ]
    }
   ],
   "source": [
    "console.log(aboutMe);"
   ]
  },
  {
   "cell_type": "code",
   "execution_count": 16,
   "id": "2121b996",
   "metadata": {},
   "outputs": [
    {
     "name": "stdout",
     "output_type": "stream",
     "text": [
      "null\n",
      "ss string\n",
      "object\n"
     ]
    }
   ],
   "source": [
    "let myVariable = null;\n",
    "console.log(myVariable); // prints null\n",
    "myVariable = \"ss\";\n",
    "console.log(myVariable, typeof myVariable); // ss string\n",
    "console.log(typeof null); // this is bug or error as it shows object"
   ]
  },
  {
   "cell_type": "markdown",
   "id": "3857edad",
   "metadata": {},
   "source": [
    "#### BigInt"
   ]
  },
  {
   "cell_type": "code",
   "execution_count": 17,
   "id": "df3da24e",
   "metadata": {},
   "outputs": [],
   "source": [
    "// BigInt\n",
    "let bigInt = 1234567890123456789012345678901234567890n;"
   ]
  },
  {
   "cell_type": "code",
   "execution_count": 18,
   "id": "6e990a8c",
   "metadata": {},
   "outputs": [
    {
     "name": "stdout",
     "output_type": "stream",
     "text": [
      "1234567890123456789012345678901234567890n bigint\n"
     ]
    }
   ],
   "source": [
    "console.log(bigInt, typeof bigInt);"
   ]
  },
  {
   "cell_type": "code",
   "execution_count": 19,
   "id": "361a7d5b",
   "metadata": {},
   "outputs": [
    {
     "name": "stdout",
     "output_type": "stream",
     "text": [
      "123456n bigint\n"
     ]
    }
   ],
   "source": [
    "// BigInt -- again\n",
    "let number = BigInt(123456);\n",
    "console.log(number, typeof number);"
   ]
  },
  {
   "cell_type": "code",
   "execution_count": 20,
   "id": "8872f0c3",
   "metadata": {},
   "outputs": [
    {
     "name": "stdout",
     "output_type": "stream",
     "text": [
      "9007199254740991\n",
      "-9007199254740991\n"
     ]
    }
   ],
   "source": [
    "console.log(Number.MAX_SAFE_INTEGER);\n",
    "console.log(Number.MIN_SAFE_INTEGER);"
   ]
  },
  {
   "cell_type": "code",
   "execution_count": 21,
   "id": "d2ab843f",
   "metadata": {},
   "outputs": [
    {
     "name": "stdout",
     "output_type": "stream",
     "text": [
      "123n bigint\n",
      "123579n\n"
     ]
    }
   ],
   "source": [
    "// BigInt -- again\n",
    "let number2 = 123n;\n",
    "console.log(number2, typeof number2); // 123n bigint\n",
    "\n",
    "console.log(number + number2); // 123579n"
   ]
  },
  {
   "cell_type": "markdown",
   "id": "9a767dd3",
   "metadata": {},
   "source": [
    "### Booleans and comparison operators"
   ]
  },
  {
   "cell_type": "code",
   "execution_count": 22,
   "id": "76b98a76",
   "metadata": {},
   "outputs": [],
   "source": [
    "let a = 7;\n",
    "let b = 8;"
   ]
  },
  {
   "cell_type": "code",
   "execution_count": 23,
   "id": "a881371b",
   "metadata": {},
   "outputs": [
    {
     "name": "stdout",
     "output_type": "stream",
     "text": [
      "false\n"
     ]
    }
   ],
   "source": [
    "console.log(a >= b);"
   ]
  },
  {
   "cell_type": "markdown",
   "id": "b023e75f",
   "metadata": {},
   "source": [
    "#### == vs ==="
   ]
  },
  {
   "cell_type": "markdown",
   "id": "798d0c0a",
   "metadata": {},
   "source": [
    "`==` checks only value and `===` checks value and type"
   ]
  },
  {
   "cell_type": "code",
   "execution_count": 24,
   "id": "a000d3c9",
   "metadata": {},
   "outputs": [
    {
     "name": "stdout",
     "output_type": "stream",
     "text": [
      "false\n",
      "false\n",
      "true\n",
      "false\n"
     ]
    }
   ],
   "source": [
    "// == vs ===\n",
    "// == checks only value and === checks value and type\n",
    "console.log(a == 2); // this is false as it checks only value\n",
    "console.log(a === 2); // this is false as it checks value and type\n",
    "console.log(a == \"7\"); // this is true as it checks only value\n",
    "console.log(a === \"7\"); // this is false as it checks value and type"
   ]
  },
  {
   "cell_type": "markdown",
   "id": "5761e0c2",
   "metadata": {},
   "source": [
    "#### != vs !==\n",
    "`!=` checks only value and `!==` checks value and type"
   ]
  },
  {
   "cell_type": "code",
   "execution_count": 25,
   "id": "dabd806f",
   "metadata": {},
   "outputs": [
    {
     "name": "stdout",
     "output_type": "stream",
     "text": [
      "true\n",
      "true\n",
      "false\n",
      "true\n"
     ]
    }
   ],
   "source": [
    "console.log(a != 2);\n",
    "console.log(a !== 2);\n",
    "console.log(a != \"7\"); // this is false as it checks only value\n",
    "console.log(a !== \"7\"); // this is true as it checks value and type"
   ]
  },
  {
   "cell_type": "markdown",
   "id": "59b2ad95",
   "metadata": {},
   "source": [
    "### if conditional statement"
   ]
  },
  {
   "cell_type": "code",
   "execution_count": 26,
   "id": "6ed69c2c",
   "metadata": {},
   "outputs": [
    {
     "name": "stdout",
     "output_type": "stream",
     "text": [
      "juice\n"
     ]
    }
   ],
   "source": [
    "let age3 = 8;\n",
    "let drink = age3 >= 18 ? \"coffee\" : \"juice\";\n",
    "console.log(drink);"
   ]
  },
  {
   "cell_type": "code",
   "execution_count": 27,
   "id": "cc1cdfaa",
   "metadata": {},
   "outputs": [
    {
     "name": "stdout",
     "output_type": "stream",
     "text": [
      "You are not eligible to play\n"
     ]
    }
   ],
   "source": [
    "let firstName3 = \"John\";\n",
    "let weight = 62;\n",
    "let height = 1.8;\n",
    "\n",
    "if(firstName3[0] === \"J\" && weight > 50 && height > 1.8){\n",
    "    console.log(\"You are eligible to play\");  \n",
    "} else {\n",
    "    console.log(\"You are not eligible to play\");\n",
    "}"
   ]
  },
  {
   "cell_type": "code",
   "execution_count": 28,
   "id": "00c74c71",
   "metadata": {},
   "outputs": [
    {
     "name": "stdout",
     "output_type": "stream",
     "text": [
      "You are eligible to play\n"
     ]
    }
   ],
   "source": [
    "let weight2 = 62;\n",
    "let height2 = 1.8;\n",
    "\n",
    "let message = firstName3[0] === \"J\" || weight2 > 50 || height2 > 1.8 ? \"You are eligible to play\" : \"You are not eligible to play\";\n",
    "console.log(message); // You are eligible to play"
   ]
  },
  {
   "cell_type": "markdown",
   "id": "cf5818b8",
   "metadata": {},
   "source": [
    "### switch statement"
   ]
  },
  {
   "cell_type": "code",
   "execution_count": 29,
   "id": "3a25696e",
   "metadata": {},
   "outputs": [
    {
     "name": "stdout",
     "output_type": "stream",
     "text": [
      "You are eligible to play\n"
     ]
    }
   ],
   "source": [
    "let weight3 = 62;\n",
    "let height3 = 1.8;\n",
    "\n",
    "switch(firstName3[0]){\n",
    "    case \"J\":\n",
    "        console.log(\"You are eligible to play\");\n",
    "        break;\n",
    "    case \"A\":\n",
    "        console.log(\"You are eligible to play\");\n",
    "        break;\n",
    "    case \"B\":\n",
    "        console.log(\"You are eligible to play\");\n",
    "        break;\n",
    "    default:\n",
    "        console.log(\"You are not eligible to play\");\n",
    "}"
   ]
  },
  {
   "cell_type": "code",
   "execution_count": 30,
   "id": "9e7d4790",
   "metadata": {},
   "outputs": [
    {
     "name": "stdout",
     "output_type": "stream",
     "text": [
      "You are eligible to play\n"
     ]
    }
   ],
   "source": [
    "// groups multiple cases together\n",
    "switch(firstName3[0]){\n",
    "    case \"J\":\n",
    "    case \"A\":\n",
    "    case \"B\":\n",
    "        console.log(\"You are eligible to play\");\n",
    "        break;\n",
    "    default:\n",
    "        console.log(\"You are not eligible to play\");\n",
    "}"
   ]
  },
  {
   "cell_type": "code",
   "execution_count": 19,
   "id": "e3cca5a2",
   "metadata": {},
   "outputs": [],
   "source": [
    "let winningNumber = 7;\n",
    "//let userGuess = +prompt(\"Guess a number between 1 and 10\"); // +prompt converts string to number\n",
    "let userGuess = 7;"
   ]
  },
  {
   "cell_type": "code",
   "execution_count": 20,
   "id": "3f461f6c",
   "metadata": {},
   "outputs": [
    {
     "ename": "ReferenceError",
     "evalue": "alert is not defined",
     "output_type": "error",
     "traceback": [
      "evalmachine.<anonymous>:2",
      "  alert(\"You win!\");",
      "  ^",
      "",
      "ReferenceError: alert is not defined",
      "    at evalmachine.<anonymous>:2:3",
      "    at Script.runInThisContext (node:vm:129:12)",
      "    at Object.runInThisContext (node:vm:313:38)",
      "    at run ([eval]:1020:15)",
      "    at onRunRequest ([eval]:864:18)",
      "    at onMessage ([eval]:828:13)",
      "    at process.emit (node:events:513:28)",
      "    at emit (node:internal/child_process:937:14)",
      "    at process.processTicksAndRejections (node:internal/process/task_queues:83:21)"
     ]
    }
   ],
   "source": [
    "if(userGuess === winningNumber) {\n",
    "  alert(\"You win!\");\n",
    "} else if(userGuess > winningNumber) {\n",
    "  alert(\"Too high, try again!\");\n",
    "} else {\n",
    "  alert(\"Too low, try again!\");\n",
    "}"
   ]
  },
  {
   "cell_type": "code",
   "execution_count": 51,
   "id": "62892f45",
   "metadata": {},
   "outputs": [
    {
     "ename": "SyntaxError",
     "evalue": "Identifier 'userGuess' has already been declared",
     "output_type": "error",
     "traceback": [
      "evalmachine.<anonymous>:1",
      "let userGuess = 7;",
      "^",
      "",
      "SyntaxError: Identifier 'userGuess' has already been declared",
      "    at Script.runInThisContext (node:vm:129:12)",
      "    at Object.runInThisContext (node:vm:313:38)",
      "    at run ([eval]:1020:15)",
      "    at onRunRequest ([eval]:864:18)",
      "    at onMessage ([eval]:828:13)",
      "    at process.emit (node:events:513:28)",
      "    at emit (node:internal/child_process:937:14)",
      "    at process.processTicksAndRejections (node:internal/process/task_queues:83:21)"
     ]
    }
   ],
   "source": [
    "let userGuess = 7;"
   ]
  },
  {
   "cell_type": "markdown",
   "id": "a17369f4",
   "metadata": {},
   "source": [
    "### for loop"
   ]
  },
  {
   "cell_type": "code",
   "execution_count": 31,
   "id": "47458b1d",
   "metadata": {},
   "outputs": [
    {
     "name": "stdout",
     "output_type": "stream",
     "text": [
      "0\n",
      "1\n",
      "2\n",
      "3\n",
      "4\n",
      "5\n",
      "6\n",
      "7\n",
      "8\n",
      "9\n"
     ]
    }
   ],
   "source": [
    "for(let i=0; i <10; i++){\n",
    "    console.log(i);\n",
    "}"
   ]
  },
  {
   "cell_type": "markdown",
   "id": "73a86755",
   "metadata": {},
   "source": [
    "Sum of numbers between 0 and 10."
   ]
  },
  {
   "cell_type": "code",
   "execution_count": 32,
   "id": "1007039a",
   "metadata": {},
   "outputs": [
    {
     "name": "stdout",
     "output_type": "stream",
     "text": [
      "55\n"
     ]
    }
   ],
   "source": [
    "let total = 0;\n",
    "let num = 10;\n",
    "\n",
    "for(let i=0; i <= num; i++){\n",
    "    total += i;\n",
    "}\n",
    "\n",
    "console.log(total); // sum of numbers between 0 and 10"
   ]
  },
  {
   "cell_type": "markdown",
   "id": "8097655d",
   "metadata": {},
   "source": [
    "#### while loop"
   ]
  },
  {
   "cell_type": "code",
   "execution_count": 33,
   "id": "e0602391",
   "metadata": {},
   "outputs": [
    {
     "name": "stdout",
     "output_type": "stream",
     "text": [
      "0\n",
      "1\n",
      "2\n",
      "3\n",
      "4\n",
      "5\n",
      "6\n",
      "7\n",
      "8\n",
      "9\n",
      "10\n"
     ]
    },
    {
     "data": {
      "text/plain": [
       "10"
      ]
     },
     "execution_count": 33,
     "metadata": {},
     "output_type": "execute_result"
    }
   ],
   "source": [
    "// while loop\n",
    "\n",
    "let i = 0;\n",
    "while(i <= 10){\n",
    "    console.log(i);\n",
    "    i++;\n",
    "}"
   ]
  },
  {
   "cell_type": "markdown",
   "id": "7402453e",
   "metadata": {},
   "source": [
    "#### do while loop"
   ]
  },
  {
   "cell_type": "code",
   "execution_count": 24,
   "id": "53fa0151",
   "metadata": {},
   "outputs": [
    {
     "name": "stdout",
     "output_type": "stream",
     "text": [
      "0\n",
      "1\n",
      "2\n",
      "3\n",
      "4\n",
      "5\n",
      "6\n",
      "7\n",
      "8\n",
      "9\n",
      "10\n"
     ]
    },
    {
     "data": {
      "text/plain": [
       "10"
      ]
     },
     "execution_count": 24,
     "metadata": {},
     "output_type": "execute_result"
    }
   ],
   "source": [
    "let j = 0;\n",
    "do{\n",
    "    console.log(j);\n",
    "    j++\n",
    "}while(j <=10);"
   ]
  },
  {
   "cell_type": "markdown",
   "id": "7d846d61",
   "metadata": {},
   "source": [
    "### arrays"
   ]
  },
  {
   "cell_type": "code",
   "execution_count": 34,
   "id": "a3fdc75e",
   "metadata": {},
   "outputs": [],
   "source": [
    "// arrays\n",
    "let fruits = [\"apple\", \"banana\", \"orange\", \"mango\", \"grapes\"];\n",
    "let numbers = [10, 34, 56, 78, 90, 100];\n",
    "let mixed = [\"apple\", 10, \"banana\", 34, \"orange\", 56, \"mango\", 78, \"grapes\", 90, 100];"
   ]
  },
  {
   "cell_type": "code",
   "execution_count": 35,
   "id": "e97d193c",
   "metadata": {},
   "outputs": [
    {
     "name": "stdout",
     "output_type": "stream",
     "text": [
      "[ 'apple', 'banana', 'orange', 'mango', 'grapes' ]\n",
      "[ 'apple', 'pineapple', 'orange', 'mango', 'grapes' ]\n"
     ]
    }
   ],
   "source": [
    "console.log(fruits); // [\"apple\", \"banana\", \"orange\", \"mango\", \"grapes\"]\n",
    "fruits[1] = \"pineapple\";\n",
    "console.log(fruits); // [\"apple\", \"pineapple\", \"orange\", \"mango\", \"grapes\"]"
   ]
  },
  {
   "cell_type": "code",
   "execution_count": 36,
   "id": "687576ba",
   "metadata": {},
   "outputs": [
    {
     "name": "stdout",
     "output_type": "stream",
     "text": [
      "[ 10, 34, 56, 78, 90, 100 ]\n",
      "[ 10, 100, 56, 78, 90, 100 ]\n"
     ]
    }
   ],
   "source": [
    "console.log(numbers); // [10, 34, 56, 78, 90, 100]\n",
    "numbers[1] = 100;\n",
    "console.log(numbers); // [10, 100, 56, 78, 90, 100]"
   ]
  },
  {
   "cell_type": "code",
   "execution_count": 37,
   "id": "46a211ae",
   "metadata": {},
   "outputs": [
    {
     "name": "stdout",
     "output_type": "stream",
     "text": [
      "[\n",
      "  'apple',  10,\n",
      "  'banana', 34,\n",
      "  'orange', 56,\n",
      "  'mango',  78,\n",
      "  'grapes', 90,\n",
      "  100\n",
      "]\n",
      "[\n",
      "  'apple',  100,\n",
      "  'banana', 34,\n",
      "  'orange', 56,\n",
      "  'mango',  78,\n",
      "  'grapes', 90,\n",
      "  100\n",
      "]\n"
     ]
    }
   ],
   "source": [
    "console.log(mixed); // [\"apple\", 10, \"banana\", 34, \"orange\", 56, \"mango\", 78, \"grapes\", 90, 100]\n",
    "mixed[1] = 100;\n",
    "console.log(mixed); // [\"apple\", 100, \"banana\", 34, \"orange\", 56, \"mango\", 78, \"grapes\", 90, 100]"
   ]
  },
  {
   "cell_type": "markdown",
   "id": "e7c417f1",
   "metadata": {},
   "source": [
    "arrays are reference types and reference types are objects"
   ]
  },
  {
   "cell_type": "code",
   "execution_count": 29,
   "id": "3525947f",
   "metadata": {},
   "outputs": [
    {
     "name": "stdout",
     "output_type": "stream",
     "text": [
      "object\n"
     ]
    }
   ],
   "source": [
    "console.log(typeof fruits); // object"
   ]
  },
  {
   "cell_type": "markdown",
   "id": "fad80d77",
   "metadata": {},
   "source": [
    "In JavaScript, an object literal is a way of creating a new object by specifying its properties and values in a concise syntax.\n",
    "\n",
    "Here's an example of an object literal:"
   ]
  },
  {
   "cell_type": "code",
   "execution_count": 38,
   "id": "ebe77948",
   "metadata": {},
   "outputs": [],
   "source": [
    "const person = {\n",
    "    name: 'John',\n",
    "    age: 30,\n",
    "    gender: 'male',\n",
    "    occupation: 'developer'\n",
    "};"
   ]
  },
  {
   "cell_type": "markdown",
   "id": "4b144c07",
   "metadata": {},
   "source": [
    " In this example, we're using an object literal to create a new object called person. The object has four properties: name, age, gender, and occupation. The values of these properties are specified after the property name, separated by a colon. Each property-value pair is separated by a comma.\n",
    "  "
   ]
  },
  {
   "cell_type": "code",
   "execution_count": 39,
   "id": "1a40e987",
   "metadata": {},
   "outputs": [
    {
     "name": "stdout",
     "output_type": "stream",
     "text": [
      "{ name: 'John', age: 30, gender: 'male', occupation: 'developer' }\n"
     ]
    }
   ],
   "source": [
    "console.log(person); // prints the object"
   ]
  },
  {
   "cell_type": "markdown",
   "id": "a91fc4c2",
   "metadata": {},
   "source": [
    "Object literals can also contain methods (i.e., functions that are properties of the object). Here's an example:"
   ]
  },
  {
   "cell_type": "code",
   "execution_count": 40,
   "id": "eec8cae2",
   "metadata": {},
   "outputs": [],
   "source": [
    "const calculator = {\n",
    "    add: function(x, y) {\n",
    "      return x + y;\n",
    "    },\n",
    "    subtract: function(x, y) {\n",
    "      return x - y;\n",
    "    }\n",
    "};"
   ]
  },
  {
   "cell_type": "markdown",
   "id": "c1188503",
   "metadata": {},
   "source": [
    "In this example, we're creating a new object called calculator with two methods: add and subtract. The methods are defined using function expressions and are assigned as properties of the object."
   ]
  },
  {
   "cell_type": "code",
   "execution_count": 41,
   "id": "3e186fba",
   "metadata": {},
   "outputs": [
    {
     "name": "stdout",
     "output_type": "stream",
     "text": [
      "The sum of 4 and 9 is 13\n",
      "The difference between 10 and 4 is 6\n"
     ]
    }
   ],
   "source": [
    "// using dot notation to call the add and subtract methods\n",
    "const sum = calculator.add(4, 9);\n",
    "const difference = calculator.subtract(10, 4);\n",
    "console.log(`The sum of 4 and 9 is ${sum}`);\n",
    "console.log(`The difference between 10 and 4 is ${difference}`);"
   ]
  },
  {
   "cell_type": "code",
   "execution_count": 42,
   "id": "f9820e3f",
   "metadata": {},
   "outputs": [
    {
     "name": "stdout",
     "output_type": "stream",
     "text": [
      "object\n",
      "type of obj is Array, true or false -- false\n"
     ]
    }
   ],
   "source": [
    "let obj = {}; // object literal\n",
    "console.log(typeof obj); // object\n",
    "console.log(`type of obj is Array, true or false -- ${Array.isArray(obj)}`); // true"
   ]
  },
  {
   "cell_type": "markdown",
   "id": "8cbbe4d3",
   "metadata": {},
   "source": [
    "### array methods"
   ]
  },
  {
   "cell_type": "markdown",
   "id": "667171c0",
   "metadata": {},
   "source": [
    "#### push() -- adds element at the end"
   ]
  },
  {
   "cell_type": "code",
   "execution_count": 43,
   "id": "d6ec10da",
   "metadata": {},
   "outputs": [
    {
     "name": "stdout",
     "output_type": "stream",
     "text": [
      "push() adds strawberry at the end -- apple,pineapple,orange,mango,grapes,strawberry\n"
     ]
    }
   ],
   "source": [
    "// array methods\n",
    "// push()\n",
    "fruits.push(\"strawberry\"); // adds element at the end\n",
    "console.log(`push() adds strawberry at the end -- ${fruits}`);"
   ]
  },
  {
   "cell_type": "markdown",
   "id": "abb53510",
   "metadata": {},
   "source": [
    "#### pop() -- removes last element"
   ]
  },
  {
   "cell_type": "code",
   "execution_count": 44,
   "id": "e42f1932",
   "metadata": {},
   "outputs": [
    {
     "name": "stdout",
     "output_type": "stream",
     "text": [
      "pop() removes last element or strawberry -- apple,pineapple,orange,mango,grapes\n"
     ]
    }
   ],
   "source": [
    "// pop\n",
    "fruits.pop(); // removes last element\n",
    "console.log(`pop() removes last element or strawberry -- ${fruits}`); "
   ]
  },
  {
   "cell_type": "markdown",
   "id": "0b33eec6",
   "metadata": {},
   "source": [
    "#### unshift() -- adds element at the beginning"
   ]
  },
  {
   "cell_type": "code",
   "execution_count": 45,
   "id": "75372cf2",
   "metadata": {},
   "outputs": [
    {
     "name": "stdout",
     "output_type": "stream",
     "text": [
      "unshift(strawberry) adds strawberry at the beginning -- strawberry,apple,pineapple,orange,mango,grapes\n"
     ]
    }
   ],
   "source": [
    "// unshift\n",
    "fruits.unshift(\"strawberry\"); // adds element at the beginning\n",
    "console.log(`unshift(strawberry) adds strawberry at the beginning -- ${fruits}`);"
   ]
  },
  {
   "cell_type": "markdown",
   "id": "34a49cdb",
   "metadata": {},
   "source": [
    "#### shift() -- removes first element"
   ]
  },
  {
   "cell_type": "code",
   "execution_count": 47,
   "id": "a68d3f51",
   "metadata": {},
   "outputs": [
    {
     "name": "stdout",
     "output_type": "stream",
     "text": [
      "shift() removes first element or removes strawberry -- pineapple,orange,mango,grapes\n"
     ]
    }
   ],
   "source": [
    "// shift\n",
    "fruits.shift(); // removes first element\n",
    "console.log(`shift() removes first element or removes strawberry -- ${fruits}`);"
   ]
  },
  {
   "cell_type": "markdown",
   "id": "dbec4518",
   "metadata": {},
   "source": [
    "#### splice() -- removes elements from array"
   ]
  },
  {
   "cell_type": "code",
   "execution_count": 48,
   "id": "4846843c",
   "metadata": {},
   "outputs": [
    {
     "name": "stdout",
     "output_type": "stream",
     "text": [
      "splice(1, 2) removes 2 elements from index 1 and so removes pineapple and orange -- pineapple,grapes\n"
     ]
    }
   ],
   "source": [
    "// splice -- removes elements from array\n",
    "fruits.splice(1, 2); // removes 2 elements from index 1\n",
    "console.log(`splice(1, 2) removes 2 elements from index 1 and so removes pineapple and orange -- ${fruits}`);"
   ]
  },
  {
   "cell_type": "markdown",
   "id": "f3184a16",
   "metadata": {},
   "source": [
    "#### splice() -- adds elements to array"
   ]
  },
  {
   "cell_type": "code",
   "execution_count": 49,
   "id": "6d9e664f",
   "metadata": {},
   "outputs": [
    {
     "name": "stdout",
     "output_type": "stream",
     "text": [
      "fruits.splice(1, 0, \"banana\", \"mango\") adds banana and mango at index 1 -- pineapple,banana,mango,grapes\n"
     ]
    }
   ],
   "source": [
    "// exact opposite of the previous one\n",
    "fruits.splice(1, 0, \"banana\", \"mango\"); // adds 2 elements at index 1\n",
    "console.log(`fruits.splice(1, 0, \"banana\", \"mango\") adds banana and mango at index 1 -- ${fruits}`);"
   ]
  },
  {
   "cell_type": "markdown",
   "id": "6f28a9d1",
   "metadata": {},
   "source": [
    "#### concat()"
   ]
  },
  {
   "cell_type": "code",
   "execution_count": 50,
   "id": "1989dc1e",
   "metadata": {},
   "outputs": [
    {
     "name": "stdout",
     "output_type": "stream",
     "text": [
      "[\n",
      "  'pineapple',\n",
      "  'banana',\n",
      "  'mango',\n",
      "  'grapes',\n",
      "  'tomato',\n",
      "  'potato',\n",
      "  'brinjal'\n",
      "]\n"
     ]
    }
   ],
   "source": [
    "let vegetables = [\"tomato\", \"potato\", \"brinjal\"];\n",
    "let all = fruits.concat(vegetables);\n",
    "console.log(all);"
   ]
  },
  {
   "cell_type": "markdown",
   "id": "4d6f53a1",
   "metadata": {},
   "source": [
    "#### slice() -- returns elements from one index to another"
   ]
  },
  {
   "cell_type": "code",
   "execution_count": 51,
   "id": "4f5bee1b",
   "metadata": {},
   "outputs": [
    {
     "name": "stdout",
     "output_type": "stream",
     "text": [
      "slice(1, 4) returns elements from index 1 to 3 -- banana,mango,grapes\n"
     ]
    }
   ],
   "source": [
    "let sliced = all.slice(1, 4); // returns elements from index 1 to 3\n",
    "console.log(`slice(1, 4) returns elements from index 1 to 3 -- ${sliced}`);"
   ]
  },
  {
   "cell_type": "markdown",
   "id": "5b713b0e",
   "metadata": {},
   "source": [
    "#### reverse() -- reverses the array"
   ]
  },
  {
   "cell_type": "code",
   "execution_count": 52,
   "id": "cdec911a",
   "metadata": {},
   "outputs": [
    {
     "name": "stdout",
     "output_type": "stream",
     "text": [
      "reverse() reverses the array -- brinjal,potato,tomato,grapes,mango,banana,pineapple\n"
     ]
    }
   ],
   "source": [
    "// reverse\n",
    "console.log(`reverse() reverses the array -- ${all.reverse()}`); // reverses the array"
   ]
  },
  {
   "cell_type": "markdown",
   "id": "412b61b8",
   "metadata": {},
   "source": [
    "#### sort() -- sorts an array"
   ]
  },
  {
   "cell_type": "code",
   "execution_count": 53,
   "id": "ebe18d4f",
   "metadata": {},
   "outputs": [
    {
     "name": "stdout",
     "output_type": "stream",
     "text": [
      "sort() sorts the array -- banana,brinjal,grapes,mango,pineapple,potato,tomato\n"
     ]
    }
   ],
   "source": [
    "console.log(`sort() sorts the array -- ${all.sort()}`); // sorts the array"
   ]
  },
  {
   "cell_type": "markdown",
   "id": "5c4baf19",
   "metadata": {},
   "source": [
    "#### join() -- joins the elements of an array by a symbol provided in the function"
   ]
  },
  {
   "cell_type": "code",
   "execution_count": 54,
   "id": "ce4dfc38",
   "metadata": {},
   "outputs": [
    {
     "name": "stdout",
     "output_type": "stream",
     "text": [
      "join(' - ') joins the array elements by ' - ':   banana - brinjal - grapes - mango - pineapple - potato - tomato\n"
     ]
    }
   ],
   "source": [
    "console.log(`join(' - ') joins the array elements by ' - ':   ${all.join(' - ')}`); // joins the array elements with -"
   ]
  },
  {
   "cell_type": "markdown",
   "id": "ea338c2a",
   "metadata": {},
   "source": [
    "#### indexOf() -- returns index of the element"
   ]
  },
  {
   "cell_type": "code",
   "execution_count": 55,
   "id": "9b63ea16",
   "metadata": {},
   "outputs": [
    {
     "name": "stdout",
     "output_type": "stream",
     "text": [
      "all array -- banana,brinjal,grapes,mango,pineapple,potato,tomato\n",
      "indexOf() gives the index of \"banana\" in all -- 0\n"
     ]
    }
   ],
   "source": [
    "console.log(`all array -- ${all}`);\n",
    "console.log(`indexOf() gives the index of \"banana\" in all -- ${all.indexOf(\"banana\")}`); // returns index of the element"
   ]
  },
  {
   "cell_type": "markdown",
   "id": "257f160d",
   "metadata": {},
   "source": [
    "#### lastIndexOf() -- returns the index of the last occurrence of the specified value"
   ]
  },
  {
   "cell_type": "code",
   "execution_count": 56,
   "id": "1caa3562",
   "metadata": {},
   "outputs": [
    {
     "name": "stdout",
     "output_type": "stream",
     "text": [
      "lastIndexOf() gives the index of the last occurrence of \"banana\" 0\n"
     ]
    }
   ],
   "source": [
    "console.log(`lastIndexOf() gives the index of the last occurrence of \"banana\" ${all.lastIndexOf(\"banana\")}`); // returns index of the last occurrence of the element \"banana\""
   ]
  },
  {
   "cell_type": "markdown",
   "id": "917f9ceb",
   "metadata": {},
   "source": [
    "#### includes() -- returns true if an element is present in the array"
   ]
  },
  {
   "cell_type": "code",
   "execution_count": 57,
   "id": "d173eed8",
   "metadata": {},
   "outputs": [
    {
     "name": "stdout",
     "output_type": "stream",
     "text": [
      "true\n"
     ]
    }
   ],
   "source": [
    "console.log(all.includes(\"banana\")); // returns true if element is present"
   ]
  },
  {
   "cell_type": "markdown",
   "id": "fc317cf5",
   "metadata": {},
   "source": [
    "### find method"
   ]
  },
  {
   "cell_type": "markdown",
   "id": "7227435a",
   "metadata": {},
   "source": [
    "returns the first element of an array that satisfies some condition."
   ]
  },
  {
   "cell_type": "code",
   "execution_count": 58,
   "id": "9290ef42",
   "metadata": {},
   "outputs": [
    {
     "name": "stdout",
     "output_type": "stream",
     "text": [
      "60\n"
     ]
    }
   ],
   "source": [
    "let numbers2 = [10, 20, 30, 40, 50, 60, 70, 80, 90, 100];\n",
    "let found = numbers2.find(function(value){\n",
    "    return value > 50;\n",
    "});\n",
    "console.log(found); // returns first element greater than 50"
   ]
  },
  {
   "cell_type": "markdown",
   "id": "e40e28fe",
   "metadata": {},
   "source": [
    "### findIndex()"
   ]
  },
  {
   "cell_type": "markdown",
   "id": "38d9b715",
   "metadata": {},
   "source": [
    "returns the index of the first element that satisfies some condition."
   ]
  },
  {
   "cell_type": "code",
   "execution_count": 59,
   "id": "304051d5",
   "metadata": {},
   "outputs": [
    {
     "name": "stdout",
     "output_type": "stream",
     "text": [
      "5\n"
     ]
    }
   ],
   "source": [
    "let found2 = numbers2.findIndex(function(value){\n",
    "    return value > 50;\n",
    "}); \n",
    "console.log(found2); // returns index of first element greater than 50"
   ]
  },
  {
   "cell_type": "markdown",
   "id": "c039701a",
   "metadata": {},
   "source": [
    "### filter()"
   ]
  },
  {
   "cell_type": "markdown",
   "id": "a0a17bc3",
   "metadata": {},
   "source": [
    "returns all the elements that satisfies some condition."
   ]
  },
  {
   "cell_type": "code",
   "execution_count": 60,
   "id": "22d570cd",
   "metadata": {},
   "outputs": [
    {
     "name": "stdout",
     "output_type": "stream",
     "text": [
      "[ 60, 70, 80, 90, 100 ]\n"
     ]
    }
   ],
   "source": [
    "let filtered = numbers2.filter(function(value){\n",
    "    return value > 50;\n",
    "});\n",
    "console.log(filtered); // returns all elements greater than 50      "
   ]
  },
  {
   "cell_type": "markdown",
   "id": "5dc9aa93",
   "metadata": {},
   "source": [
    "### forEach()"
   ]
  },
  {
   "cell_type": "markdown",
   "id": "7cb07d33",
   "metadata": {},
   "source": [
    "Gives both value and index which allows looping through an array"
   ]
  },
  {
   "cell_type": "code",
   "execution_count": 61,
   "id": "9e0b5229",
   "metadata": {},
   "outputs": [
    {
     "name": "stdout",
     "output_type": "stream",
     "text": [
      "10 0\n",
      "20 1\n",
      "30 2\n",
      "40 3\n",
      "50 4\n",
      "60 5\n",
      "70 6\n",
      "80 7\n",
      "90 8\n",
      "100 9\n"
     ]
    }
   ],
   "source": [
    "numbers2.forEach(function(value, index){\n",
    "    console.log(value, index);\n",
    "});"
   ]
  },
  {
   "cell_type": "code",
   "execution_count": 62,
   "id": "47f47dd5",
   "metadata": {},
   "outputs": [
    {
     "name": "stdout",
     "output_type": "stream",
     "text": [
      "[ 'item1', 'item2' ]\n",
      "[ 'item1', 'item2' ]\n"
     ]
    }
   ],
   "source": [
    "let array5 = [\"item1\", \"item2\"];\n",
    "let array6 = array5;\n",
    "\n",
    "console.log(array5);\n",
    "console.log(array6);"
   ]
  },
  {
   "cell_type": "code",
   "execution_count": 63,
   "id": "4043858e",
   "metadata": {},
   "outputs": [
    {
     "name": "stdout",
     "output_type": "stream",
     "text": [
      "After pushing element to array5, array5 is item1,item2,item3\n"
     ]
    }
   ],
   "source": [
    "array5.push(\"item3\");\n",
    "console.log(`After pushing element to array5, array5 is ${array5}`);"
   ]
  },
  {
   "cell_type": "code",
   "execution_count": 65,
   "id": "b0f998b7",
   "metadata": {},
   "outputs": [
    {
     "name": "stdout",
     "output_type": "stream",
     "text": [
      "Now, array6 is also changed to: item1,item2,item3\n"
     ]
    }
   ],
   "source": [
    "console.log(`Now, array6 is also changed to: ${array6}`)"
   ]
  },
  {
   "cell_type": "markdown",
   "id": "240ef1d7",
   "metadata": {},
   "source": [
    "### clone array"
   ]
  },
  {
   "cell_type": "code",
   "execution_count": 1,
   "id": "776083ae",
   "metadata": {},
   "outputs": [],
   "source": [
    "let array10 = [\"item1\", \"item2\"];"
   ]
  },
  {
   "cell_type": "markdown",
   "id": "1b759693",
   "metadata": {},
   "source": [
    "#### Clone -- First way"
   ]
  },
  {
   "cell_type": "markdown",
   "id": "e295b17c",
   "metadata": {},
   "source": [
    "#### Use three dots ..."
   ]
  },
  {
   "cell_type": "code",
   "execution_count": 2,
   "id": "65cb5cc8",
   "metadata": {},
   "outputs": [
    {
     "name": "stdout",
     "output_type": "stream",
     "text": [
      "First method using ...\n"
     ]
    }
   ],
   "source": [
    "console.log(\"First method using ...\");\n",
    "let array11 = [...array10];"
   ]
  },
  {
   "cell_type": "code",
   "execution_count": 3,
   "id": "216f5abb",
   "metadata": {},
   "outputs": [
    {
     "name": "stdout",
     "output_type": "stream",
     "text": [
      "[ 'item1', 'item2' ]\n"
     ]
    }
   ],
   "source": [
    "console.log(array11);"
   ]
  },
  {
   "cell_type": "code",
   "execution_count": 4,
   "id": "cc559401",
   "metadata": {},
   "outputs": [
    {
     "name": "stdout",
     "output_type": "stream",
     "text": [
      "After pushing element to array10\n",
      "Are array10 and array11 are the same false\n"
     ]
    }
   ],
   "source": [
    "array10.push(\"item3\"); // this will have no effect on array11, a clone of array10\n",
    "console.log(\"After pushing element to array10\");\n",
    "// Now, array10 and array11 are different\n",
    "console.log(\"Are array10 and array11 are the same\", array10 === array11); \n"
   ]
  },
  {
   "cell_type": "code",
   "execution_count": 5,
   "id": "b817a487",
   "metadata": {},
   "outputs": [
    {
     "name": "stdout",
     "output_type": "stream",
     "text": [
      "[ 'item1', 'item2' ]\n"
     ]
    }
   ],
   "source": [
    "console.log(array11) // \"item3\" is not added to array11"
   ]
  },
  {
   "cell_type": "markdown",
   "id": "3b5337ac",
   "metadata": {},
   "source": [
    "#### Clone -- Second way"
   ]
  },
  {
   "cell_type": "markdown",
   "id": "5fc58f4d",
   "metadata": {},
   "source": [
    "#### slice()"
   ]
  },
  {
   "cell_type": "code",
   "execution_count": 6,
   "id": "91c477a0",
   "metadata": {},
   "outputs": [
    {
     "name": "stdout",
     "output_type": "stream",
     "text": [
      "Second method using slice\n",
      "[ 'item1', 'item2', 'item3' ]\n"
     ]
    }
   ],
   "source": [
    "console.log(\"Second method using slice\");\n",
    "let array12 = array10.slice();\n",
    "console.log(array12);"
   ]
  },
  {
   "cell_type": "code",
   "execution_count": 7,
   "id": "a58207b0",
   "metadata": {},
   "outputs": [
    {
     "name": "stdout",
     "output_type": "stream",
     "text": [
      "After pushing element to array10\n",
      "Are array10 and array12 are the same false\n"
     ]
    }
   ],
   "source": [
    "array10.push(\"item4\");\n",
    "console.log(\"After pushing element to array10\");\n",
    "console.log(\"Are array10 and array12 are the same\", array10 === array12);"
   ]
  },
  {
   "cell_type": "code",
   "execution_count": 8,
   "id": "3ba7e6a2",
   "metadata": {},
   "outputs": [
    {
     "name": "stdout",
     "output_type": "stream",
     "text": [
      "array10 [ 'item1', 'item2', 'item3', 'item4' ]\n",
      "array12 [ 'item1', 'item2', 'item3' ]\n",
      "\n"
     ]
    }
   ],
   "source": [
    "console.log(\"array10\",array10);\n",
    "console.log(\"array12\",array12);\n",
    "console.log(\"\");"
   ]
  },
  {
   "cell_type": "markdown",
   "id": "e6f1677d",
   "metadata": {},
   "source": [
    "#### Clone -- Third way"
   ]
  },
  {
   "cell_type": "markdown",
   "id": "1cc1403e",
   "metadata": {},
   "source": [
    "#### concat()"
   ]
  },
  {
   "cell_type": "code",
   "execution_count": 9,
   "id": "05679fde",
   "metadata": {},
   "outputs": [
    {
     "name": "stdout",
     "output_type": "stream",
     "text": [
      "Third method using concat\n"
     ]
    }
   ],
   "source": [
    "console.log(\"Third method using concat\");\n",
    "let array13 = array10.concat();"
   ]
  },
  {
   "cell_type": "code",
   "execution_count": 11,
   "id": "db6ab261",
   "metadata": {},
   "outputs": [
    {
     "name": "stdout",
     "output_type": "stream",
     "text": [
      "After pushing element to array10, array10 is item1,item2,item3,item4,item5,item5\n",
      "Are array10 and array13 are the same false\n"
     ]
    }
   ],
   "source": [
    "array10.push(\"item5\");\n",
    "console.log(`After pushing element to array10, array10 is ${array10}`);\n",
    "console.log(\"Are array10 and array13 are the same\", array10 === array13);"
   ]
  },
  {
   "cell_type": "code",
   "execution_count": 14,
   "id": "22b96eef",
   "metadata": {},
   "outputs": [
    {
     "name": "stdout",
     "output_type": "stream",
     "text": [
      "array10 [ 'item1', 'item2', 'item3', 'item4', 'item5' ]\n",
      "array13 [ 'item1', 'item2', 'item3', 'item4' ]\n"
     ]
    }
   ],
   "source": [
    "console.log(\"array10\",array10);\n",
    "console.log(\"array13\",array13);"
   ]
  },
  {
   "cell_type": "markdown",
   "id": "9a62b96e",
   "metadata": {},
   "source": [
    "### for loop"
   ]
  },
  {
   "cell_type": "code",
   "execution_count": 15,
   "id": "5330f6e9",
   "metadata": {},
   "outputs": [
    {
     "name": "stdout",
     "output_type": "stream",
     "text": [
      "[ 'APPLE', 'ORANGE', 'BANANA' ]\n"
     ]
    }
   ],
   "source": [
    "let fruits3 = [\"apple\", \"orange\", \"banana\"];\n",
    "\n",
    "let fruits4 = [];\n",
    "for(let i=0; i<fruits3.length; i++) {\n",
    "    fruits4.push(fruits3[i].toUpperCase());\n",
    "}\n",
    "console.log(fruits4);"
   ]
  },
  {
   "cell_type": "markdown",
   "id": "2d64ad60",
   "metadata": {},
   "source": [
    "The value of `const` object can't be changed once the value is assigned. "
   ]
  },
  {
   "cell_type": "code",
   "execution_count": 16,
   "id": "e71de22b",
   "metadata": {},
   "outputs": [
    {
     "name": "stdout",
     "output_type": "stream",
     "text": [
      "3.14\n"
     ]
    }
   ],
   "source": [
    "const pi=3.14;\n",
    "// the below line will throw error\n",
    "// pi= 12;\n",
    "console.log(pi);"
   ]
  },
  {
   "cell_type": "markdown",
   "id": "e4fd2ac7",
   "metadata": {},
   "source": [
    "We can push to constant array. This will be stored in heap memory when doing push, we are not changing address and so we can push."
   ]
  },
  {
   "cell_type": "code",
   "execution_count": 17,
   "id": "a46ddbf3",
   "metadata": {},
   "outputs": [
    {
     "data": {
      "text/plain": [
       "4"
      ]
     },
     "execution_count": 17,
     "metadata": {},
     "output_type": "execute_result"
    }
   ],
   "source": [
    "const fruits5 = [\"apple\", \"orange\", \"banana\"];\n",
    "fruits5.push(\"banana\");\n",
    "// the below line will throw error\n",
    "// fruits5 = [\"banana\", \"mango\"]"
   ]
  },
  {
   "cell_type": "code",
   "execution_count": 18,
   "id": "a62c3b49",
   "metadata": {},
   "outputs": [
    {
     "name": "stdout",
     "output_type": "stream",
     "text": [
      "[ 'apple', 'orange', 'banana', 'banana' ]\n"
     ]
    }
   ],
   "source": [
    "console.log(fruits5)"
   ]
  },
  {
   "cell_type": "markdown",
   "id": "7290d0bc",
   "metadata": {},
   "source": [
    "We can change the value of constant object. This will be stored in heap memory when doing push, we are not changing address and so we can push."
   ]
  },
  {
   "cell_type": "code",
   "execution_count": 19,
   "id": "7e254fda",
   "metadata": {},
   "outputs": [
    {
     "data": {
      "text/plain": [
       "40"
      ]
     },
     "execution_count": 19,
     "metadata": {},
     "output_type": "execute_result"
    }
   ],
   "source": [
    "const person10 = {\n",
    "    name: \"John\",\n",
    "    age: 30\n",
    "};\n",
    "person10.name = \"Peter\";\n",
    "person10.age = 40;\n",
    "// the below line will throw error\n",
    "/*\n",
    "person10 = {\n",
    "     name: \"Peter\",\n",
    "     age: 40\n",
    "}\n",
    "*/"
   ]
  },
  {
   "cell_type": "code",
   "execution_count": 20,
   "id": "aa25c2b2",
   "metadata": {},
   "outputs": [
    {
     "name": "stdout",
     "output_type": "stream",
     "text": [
      "{ name: 'Peter', age: 40 }\n"
     ]
    }
   ],
   "source": [
    "console.log(person10)"
   ]
  },
  {
   "cell_type": "markdown",
   "id": "857e2c20",
   "metadata": {},
   "source": [
    "### More Looping"
   ]
  },
  {
   "cell_type": "markdown",
   "id": "af4d7b17",
   "metadata": {},
   "source": [
    "#### let x of array"
   ]
  },
  {
   "cell_type": "code",
   "execution_count": 21,
   "id": "64a9ada2",
   "metadata": {},
   "outputs": [
    {
     "name": "stdout",
     "output_type": "stream",
     "text": [
      "apple\n",
      "orange\n",
      "banana\n"
     ]
    }
   ],
   "source": [
    "const fruits10 = [\"apple\", \"orange\", \"banana\"];\n",
    "\n",
    "// print all the fruits separately\n",
    "for(let fruit of fruits10) {\n",
    "    console.log(fruit);\n",
    "}"
   ]
  },
  {
   "cell_type": "markdown",
   "id": "be7a2705",
   "metadata": {},
   "source": [
    "#### while loop"
   ]
  },
  {
   "cell_type": "code",
   "execution_count": 22,
   "id": "ce57e868",
   "metadata": {},
   "outputs": [
    {
     "name": "stdout",
     "output_type": "stream",
     "text": [
      "APPLE\n",
      "ORANGE\n",
      "BANANA\n"
     ]
    },
    {
     "data": {
      "text/plain": [
       "2"
      ]
     },
     "execution_count": 22,
     "metadata": {},
     "output_type": "execute_result"
    }
   ],
   "source": [
    "// prints all the fruits in upper case\n",
    "let k=0;\n",
    "while(k<fruits10.length) {\n",
    "    console.log(fruits10[k].toUpperCase());\n",
    "    k++;\n",
    "}"
   ]
  },
  {
   "cell_type": "markdown",
   "id": "3ae708cd",
   "metadata": {},
   "source": [
    "### array destructuring"
   ]
  },
  {
   "cell_type": "code",
   "execution_count": 23,
   "id": "e21c0cc8",
   "metadata": {},
   "outputs": [
    {
     "name": "stdout",
     "output_type": "stream",
     "text": [
      "value of myVar1 value1\n",
      "value of myVar2 value2\n"
     ]
    }
   ],
   "source": [
    "// saving array values to variables\n",
    "const myArray = [\"value1\", \"value2\"];\n",
    "let myVar1 = myArray[0];\n",
    "let myVar2 = myArray[1];\n",
    "console.log(\"value of myVar1\", myVar1);\n",
    "console.log(\"value of myVar2\", myVar2);"
   ]
  },
  {
   "cell_type": "code",
   "execution_count": 24,
   "id": "1c6e095b",
   "metadata": {},
   "outputs": [],
   "source": [
    "// array destructuring -- alternative to the previous steps\n",
    "const myArray2 = [\"value1\", \"value2\"];\n",
    "// the below line assigns the first value of the array to var1 and the second value to var2\n",
    "let [var1, var2] = myArray2; // this is called array destructuring"
   ]
  },
  {
   "cell_type": "markdown",
   "id": "bd06bfa6",
   "metadata": {},
   "source": [
    "The above line assigns the first value of the array to `var1` and the second value to `var2`."
   ]
  },
  {
   "cell_type": "code",
   "execution_count": 3,
   "id": "bf1ba901",
   "metadata": {},
   "outputs": [
    {
     "name": "stdout",
     "output_type": "stream",
     "text": [
      "value of var1 new value\n",
      "value of var2 value2\n"
     ]
    }
   ],
   "source": [
    "var1 = \"new value\"; // we can do this as we are using let\n",
    "console.log(\"value of var1\", var1);\n",
    "console.log(\"value of var2\", var2);"
   ]
  },
  {
   "cell_type": "markdown",
   "id": "092096c7",
   "metadata": {},
   "source": [
    "But if we  array destructure using const, we will not be able to change the values of the variables."
   ]
  },
  {
   "cell_type": "code",
   "execution_count": 25,
   "id": "32d5db3a",
   "metadata": {},
   "outputs": [],
   "source": [
    "const [constVar1, constVar2] = myArray2;\n",
    "// constVar1 = \"new value\"; // this will throw an error"
   ]
  },
  {
   "cell_type": "markdown",
   "id": "6cb6d169",
   "metadata": {},
   "source": [
    "#### array destructuring -- assigning values to less number of variables"
   ]
  },
  {
   "cell_type": "code",
   "execution_count": 26,
   "id": "677087dc",
   "metadata": {},
   "outputs": [
    {
     "name": "stdout",
     "output_type": "stream",
     "text": [
      "value of var3 value1\n",
      "value of var4 value2\n"
     ]
    }
   ],
   "source": [
    "const myArray3 = [\"value1\", \"value2\", \"value3\"];\n",
    "let [var3, var4] = myArray3;\n",
    "console.log(\"value of var3\", var3);\n",
    "console.log(\"value of var4\", var4);"
   ]
  },
  {
   "cell_type": "markdown",
   "id": "cfc13d9c",
   "metadata": {},
   "source": [
    "#### array destructuring -- assigning values to more number of variables"
   ]
  },
  {
   "cell_type": "code",
   "execution_count": 27,
   "id": "a5bb2104",
   "metadata": {},
   "outputs": [
    {
     "name": "stdout",
     "output_type": "stream",
     "text": [
      "value of var5 value1\n",
      "value of var6 value2\n",
      "value of var7 undefined\n"
     ]
    }
   ],
   "source": [
    "const myArray4 = [\"value1\", \"value2\"];\n",
    "let [var5, var6, var7] = myArray4;\n",
    "console.log(\"value of var5\", var5);\n",
    "console.log(\"value of var6\", var6);\n",
    "console.log(\"value of var7\", var7); // this will be undefined"
   ]
  },
  {
   "cell_type": "markdown",
   "id": "40770044",
   "metadata": {},
   "source": [
    "#### array destructuring -- skipping values"
   ]
  },
  {
   "cell_type": "code",
   "execution_count": 28,
   "id": "57575f52",
   "metadata": {},
   "outputs": [
    {
     "name": "stdout",
     "output_type": "stream",
     "text": [
      "value of var8 value1\n",
      "value of var9 value3\n"
     ]
    }
   ],
   "source": [
    "// skipping values\n",
    "const myArray5 = [\"value1\", \"value2\", \"value3\"];\n",
    "let [var8, , var9] = myArray5;\n",
    "console.log(\"value of var8\", var8);\n",
    "console.log(\"value of var9\", var9);"
   ]
  },
  {
   "cell_type": "markdown",
   "id": "a58f1c03",
   "metadata": {},
   "source": [
    "#### array destructuring -- using rest operator .."
   ]
  },
  {
   "cell_type": "markdown",
   "id": "33c484b6",
   "metadata": {},
   "source": [
    "#### rest operator .."
   ]
  },
  {
   "cell_type": "code",
   "execution_count": 29,
   "id": "a5a6ad25",
   "metadata": {},
   "outputs": [],
   "source": [
    "const myArray6 = [\"value1\", \"value2\", \"value3\", \"value4\"];"
   ]
  },
  {
   "cell_type": "markdown",
   "id": "e61e950a",
   "metadata": {},
   "source": [
    "The below line assigns the first value of the array to var10 and the rest of the values to var11"
   ]
  },
  {
   "cell_type": "code",
   "execution_count": 30,
   "id": "d4ac6ddf",
   "metadata": {},
   "outputs": [
    {
     "name": "stdout",
     "output_type": "stream",
     "text": [
      "value of var10 value1\n",
      "value of var11 [ 'value2', 'value3', 'value4' ]\n"
     ]
    }
   ],
   "source": [
    "// the below line assigns the first value of the array to var10 \n",
    "// and the rest of the values to var11\n",
    "let [var10, ...var11] = myArray6; // this is called rest operator\n",
    "console.log(\"value of var10\", var10);\n",
    "console.log(\"value of var11\", var11);"
   ]
  },
  {
   "cell_type": "code",
   "execution_count": 31,
   "id": "1d981789",
   "metadata": {},
   "outputs": [
    {
     "name": "stdout",
     "output_type": "stream",
     "text": [
      "value of myNewArray [ 'value3', 'value4' ]\n"
     ]
    }
   ],
   "source": [
    "let myNewArray2 = myArray6.slice(2); // this assigns values from the third index to the end of the array to myNewArray\n",
    "console.log(\"value of myNewArray\", myNewArray2);"
   ]
  },
  {
   "cell_type": "markdown",
   "id": "f770e98f",
   "metadata": {},
   "source": [
    "#### array destructuring -- more"
   ]
  },
  {
   "cell_type": "markdown",
   "id": "4c34984b",
   "metadata": {},
   "source": [
    "Can't do the following as rest operator should be the last element"
   ]
  },
  {
   "cell_type": "code",
   "execution_count": 32,
   "id": "e3a113c9",
   "metadata": {},
   "outputs": [],
   "source": [
    "// let [..., var12] = myArray6; // can't do this as rest operator should be the last element\n",
    "// console.log(var12);"
   ]
  },
  {
   "cell_type": "markdown",
   "id": "36cf5b3c",
   "metadata": {},
   "source": [
    "### Objects"
   ]
  },
  {
   "cell_type": "markdown",
   "id": "7e187051",
   "metadata": {},
   "source": [
    "In JavaScript, objects are one of the fundamental data types, used to store and manipulate collections of data in a structured way.\n",
    "\n",
    "An object in JavaScript is a container for properties, which are essentially key-value pairs. The keys are always strings, while the values can be any data type, including other objects, functions, arrays, and primitive types such as numbers and strings.\n",
    "\n",
    "Objects can be created using object literals, which use curly braces {} to enclose the properties and their values:"
   ]
  },
  {
   "cell_type": "code",
   "execution_count": 33,
   "id": "ee085f73",
   "metadata": {},
   "outputs": [],
   "source": [
    "const person = { \n",
    "  name: \"John\",\n",
    "  age: 30,\n",
    "  hobbies: [\"reading\", \"playing guitar\"],\n",
    "  address: {\n",
    "    street: \"123 Main St\",\n",
    "    city: \"Anytown\",\n",
    "    state: \"CA\"\n",
    "  }\n",
    "};"
   ]
  },
  {
   "cell_type": "markdown",
   "id": "fa1e8815",
   "metadata": {},
   "source": [
    "In this example, `person` is an object with four properties: `name`, `age`, `hobbies`, and `address`. The address property is itself an object with its own properties.\n",
    "\n",
    "You can access the properties of an object using dot notation or square bracket notation:"
   ]
  },
  {
   "cell_type": "code",
   "execution_count": 34,
   "id": "e90e601b",
   "metadata": {},
   "outputs": [
    {
     "name": "stdout",
     "output_type": "stream",
     "text": [
      "John\n",
      "30\n",
      "reading\n",
      "CA\n"
     ]
    }
   ],
   "source": [
    "console.log(person.name);      // \"John\"\n",
    "console.log(person[\"age\"]);   // 30\n",
    "console.log(person.hobbies[0]);   // \"reading\"\n",
    "console.log(person.address.state); // \"CA\""
   ]
  },
  {
   "cell_type": "markdown",
   "id": "66e9c53c",
   "metadata": {},
   "source": [
    "Objects in JavaScript are dynamic, which means you can add or remove properties at any time:"
   ]
  },
  {
   "cell_type": "code",
   "execution_count": 35,
   "id": "fe1ca3d7",
   "metadata": {},
   "outputs": [
    {
     "data": {
      "text/plain": [
       "true"
      ]
     },
     "execution_count": 35,
     "metadata": {},
     "output_type": "execute_result"
    }
   ],
   "source": [
    "person.job = \"programmer\";  // add a new property\n",
    "delete person.hobbies;     // remove the hobbies property"
   ]
  },
  {
   "cell_type": "code",
   "execution_count": 36,
   "id": "132f1ae0",
   "metadata": {},
   "outputs": [
    {
     "name": "stdout",
     "output_type": "stream",
     "text": [
      "{\n",
      "  name: 'John',\n",
      "  age: 30,\n",
      "  address: { street: '123 Main St', city: 'Anytown', state: 'CA' },\n",
      "  job: 'programmer'\n",
      "}\n"
     ]
    }
   ],
   "source": [
    "console.log(person)"
   ]
  },
  {
   "cell_type": "markdown",
   "id": "f450ac98",
   "metadata": {},
   "source": [
    "Objects can also have methods, which are functions stored as properties:"
   ]
  },
  {
   "cell_type": "code",
   "execution_count": 37,
   "id": "0ab6727e",
   "metadata": {},
   "outputs": [
    {
     "name": "stdout",
     "output_type": "stream",
     "text": [
      "5\n",
      "3\n"
     ]
    }
   ],
   "source": [
    "const calculator = {\n",
    "  add: function(a, b) {\n",
    "    return a + b;\n",
    "  },\n",
    "  subtract: function(a, b) {\n",
    "    return a - b;\n",
    "  }\n",
    "};\n",
    "\n",
    "console.log(calculator.add(2, 3));       // 5\n",
    "console.log(calculator.subtract(5, 2));  // 3"
   ]
  },
  {
   "cell_type": "markdown",
   "id": "b0cd6530",
   "metadata": {},
   "source": [
    "In this example, calculator is an object with two methods, add and subtract"
   ]
  },
  {
   "cell_type": "code",
   "execution_count": 39,
   "id": "72e10064",
   "metadata": {},
   "outputs": [],
   "source": [
    "const person2 = {\"name\": \"John\", \"age\": 30, \"city\": \"New York\"};"
   ]
  },
  {
   "cell_type": "markdown",
   "id": "e0851c37",
   "metadata": {},
   "source": [
    "### Accessing object values using dot notation"
   ]
  },
  {
   "cell_type": "code",
   "execution_count": 40,
   "id": "b3726642",
   "metadata": {},
   "outputs": [
    {
     "name": "stdout",
     "output_type": "stream",
     "text": [
      "John\n",
      "30\n",
      "undefined\n"
     ]
    }
   ],
   "source": [
    "// accessing object values using dot notation\n",
    "console.log(person.name);\n",
    "console.log(person.age);\n",
    "console.log(person.city);"
   ]
  },
  {
   "cell_type": "code",
   "execution_count": 41,
   "id": "a5227f5b",
   "metadata": {},
   "outputs": [
    {
     "name": "stdout",
     "output_type": "stream",
     "text": [
      "object\n"
     ]
    }
   ],
   "source": [
    "console.log(typeof person);"
   ]
  },
  {
   "cell_type": "markdown",
   "id": "a1f29d4f",
   "metadata": {},
   "source": [
    "### Accessing object values using bracket notation"
   ]
  },
  {
   "cell_type": "code",
   "execution_count": 42,
   "id": "54fd5d40",
   "metadata": {},
   "outputs": [
    {
     "name": "stdout",
     "output_type": "stream",
     "text": [
      "John\n",
      "undefined\n"
     ]
    }
   ],
   "source": [
    "// accessing object values using bracket notation\n",
    "console.log(person[\"name\"]);\n",
    "console.log(person[\"city\"]);"
   ]
  },
  {
   "cell_type": "markdown",
   "id": "3f862dfe",
   "metadata": {},
   "source": [
    "### We can have array as values of an object"
   ]
  },
  {
   "cell_type": "code",
   "execution_count": 45,
   "id": "665048a3",
   "metadata": {},
   "outputs": [
    {
     "name": "stdout",
     "output_type": "stream",
     "text": [
      "movies\n"
     ]
    }
   ],
   "source": [
    "// we can have array as values of an object\n",
    "const person4 = {\"name\": \"John\", \"age\": 30, \"city\": \"New York\", \"hobbies\": [\"music\", \"movies\", \"sports\"]};\n",
    "console.log(person4.hobbies[1]);"
   ]
  },
  {
   "cell_type": "markdown",
   "id": "b4024f14",
   "metadata": {},
   "source": [
    "### How to add key value pairs to an object"
   ]
  },
  {
   "cell_type": "code",
   "execution_count": 47,
   "id": "97fef417",
   "metadata": {},
   "outputs": [
    {
     "name": "stdout",
     "output_type": "stream",
     "text": [
      "{\n",
      "  name: 'John',\n",
      "  age: 30,\n",
      "  city: 'New York',\n",
      "  hobbies: [ 'music', 'movies', 'sports' ],\n",
      "  email: 'sha_is13@gmail.com'\n",
      "}\n"
     ]
    }
   ],
   "source": [
    "// how to add key value pairs to an object\n",
    "person4[\"email\"] = \"sha_is13@gmail.com\";\n",
    "console.log(person4);"
   ]
  },
  {
   "cell_type": "code",
   "execution_count": 48,
   "id": "c499507c",
   "metadata": {},
   "outputs": [
    {
     "name": "stdout",
     "output_type": "stream",
     "text": [
      "sha_is13@gmail.com\n",
      "sha_is13@gmail.com\n"
     ]
    }
   ],
   "source": [
    "console.log(person4.email);\n",
    "console.log(person4[\"email\"]);"
   ]
  },
  {
   "cell_type": "markdown",
   "id": "a8a46611",
   "metadata": {},
   "source": [
    "### Create new property"
   ]
  },
  {
   "cell_type": "code",
   "execution_count": 49,
   "id": "51763cd7",
   "metadata": {},
   "outputs": [
    {
     "name": "stdout",
     "output_type": "stream",
     "text": [
      "male\n"
     ]
    }
   ],
   "source": [
    "const person6 = {\n",
    "    \"name\": \"John\",\n",
    "    \"age\": 30,\n",
    "    \"city\": \"New York\",\n",
    "    \"hobbies\": [\"music\", \"movies\", \"sports\"]\n",
    "};\n",
    "\n",
    "person6[\"gender\"] = \"male\";\n",
    "console.log(person6.gender);"
   ]
  },
  {
   "cell_type": "markdown",
   "id": "0ff0e965",
   "metadata": {},
   "source": [
    "### Difference between dot and bracket notation\n",
    "* dot notation is used when we know the key\n",
    "* bracket notation is used when we don't know the key\n",
    "* bracket notation is used when we have a variable as key\n",
    "* bracket notation is used when we have a key with spaces"
   ]
  },
  {
   "cell_type": "code",
   "execution_count": 50,
   "id": "dffc50c9",
   "metadata": {},
   "outputs": [],
   "source": [
    "const key = \"email\";\n",
    "const person7 = {\n",
    "    name: \"John\",\n",
    "    age: 30,\n",
    "    city: \"New York\",\n",
    "    \"person hobbies\": [\"music\", \"movies\", \"sports\"]\n",
    "};"
   ]
  },
  {
   "cell_type": "code",
   "execution_count": 51,
   "id": "ff32c0a3",
   "metadata": {},
   "outputs": [
    {
     "name": "stdout",
     "output_type": "stream",
     "text": [
      "[ 'music', 'movies', 'sports' ]\n"
     ]
    }
   ],
   "source": [
    "console.log(person7[\"person hobbies\"]); "
   ]
  },
  {
   "cell_type": "markdown",
   "id": "719143ea",
   "metadata": {},
   "source": [
    "Suppose we want the value of the variable key to be the key for person4 object. Now, using dot notation will not work."
   ]
  },
  {
   "cell_type": "code",
   "execution_count": 52,
   "id": "8d6543ec",
   "metadata": {},
   "outputs": [
    {
     "name": "stdout",
     "output_type": "stream",
     "text": [
      "{\n",
      "  name: 'John',\n",
      "  age: 30,\n",
      "  city: 'New York',\n",
      "  hobbies: [ 'music', 'movies', 'sports' ],\n",
      "  email: 'sha_is13@gmail.com',\n",
      "  key: 'sha_is13@gmail.com'\n",
      "}\n"
     ]
    }
   ],
   "source": [
    "// Suppose we want the value of the variable key to be the key\n",
    "// for person4 object. Now, using dot notation will not work\n",
    "\n",
    "person4.key = \"sha_is13@gmail.com\";\n",
    "console.log(person4);"
   ]
  },
  {
   "cell_type": "markdown",
   "id": "3f3422b6",
   "metadata": {},
   "source": [
    "But we want the value of the variable key to be the key solution is using bracket notation"
   ]
  },
  {
   "cell_type": "code",
   "execution_count": 53,
   "id": "a6089133",
   "metadata": {},
   "outputs": [
    {
     "name": "stdout",
     "output_type": "stream",
     "text": [
      "{\n",
      "  name: 'John',\n",
      "  age: 30,\n",
      "  city: 'New York',\n",
      "  hobbies: [ 'music', 'movies', 'sports' ],\n",
      "  email: 'sha_is13@gmaill.com',\n",
      "  key: 'sha_is13@gmail.com'\n",
      "}\n"
     ]
    }
   ],
   "source": [
    "// But we want the value of the variable key to be the key\n",
    "// solution is using bracket notation\n",
    "person4[key] = \"sha_is13@gmaill.com\";\n",
    "console.log(person4);"
   ]
  },
  {
   "cell_type": "markdown",
   "id": "c9f524d6",
   "metadata": {},
   "source": [
    "### Remove a key value pair from an object"
   ]
  },
  {
   "cell_type": "code",
   "execution_count": 55,
   "id": "21a62f7e",
   "metadata": {},
   "outputs": [
    {
     "name": "stdout",
     "output_type": "stream",
     "text": [
      "{\n",
      "  name: 'John',\n",
      "  age: 30,\n",
      "  city: 'New York',\n",
      "  hobbies: [ 'music', 'movies', 'sports' ],\n",
      "  email: 'sha_is13@gmaill.com'\n",
      "}\n"
     ]
    }
   ],
   "source": [
    "// remove a key value pair from an object\n",
    "delete person4[\"key\"];\n",
    "console.log(person4);"
   ]
  },
  {
   "cell_type": "markdown",
   "id": "b3cbbe37",
   "metadata": {},
   "source": [
    "### Iterate objects"
   ]
  },
  {
   "cell_type": "code",
   "execution_count": 57,
   "id": "abadcfae",
   "metadata": {},
   "outputs": [],
   "source": [
    "const person8 = {\n",
    "    name: \"John\",\n",
    "    age: 30,\n",
    "    city: \"New York\",\n",
    "    hobbies: [\"music\", \"movies\", \"sports\"]\n",
    "};"
   ]
  },
  {
   "cell_type": "code",
   "execution_count": 62,
   "id": "6bdf7645",
   "metadata": {},
   "outputs": [
    {
     "name": "stdout",
     "output_type": "stream",
     "text": [
      "name John\n",
      "age 30\n",
      "city New York\n",
      "hobbies [ 'music', 'movies', 'sports' ]\n"
     ]
    }
   ],
   "source": [
    "// for in loop\n",
    "for(let key in person8){\n",
    "    console.log(key, person8[key]);\n",
    "}"
   ]
  },
  {
   "cell_type": "code",
   "execution_count": 63,
   "id": "dbdd460a",
   "metadata": {},
   "outputs": [
    {
     "name": "stdout",
     "output_type": "stream",
     "text": [
      "object\n"
     ]
    }
   ],
   "source": [
    "// Object.keys() returns an array of keys\n",
    "console.log(typeof (Object.keys(person8))); "
   ]
  },
  {
   "cell_type": "code",
   "execution_count": 64,
   "id": "db1ac0ad",
   "metadata": {},
   "outputs": [
    {
     "name": "stdout",
     "output_type": "stream",
     "text": [
      "name: John\n",
      "age: 30\n",
      "city: New York\n",
      "hobbies: music,movies,sports\n"
     ]
    }
   ],
   "source": [
    "// for in loop -- another example\n",
    "for(let key in person8){\n",
    "    console.log(`${key}: ${person8[key]}`);\n",
    "}"
   ]
  },
  {
   "cell_type": "code",
   "execution_count": 66,
   "id": "9f72570c",
   "metadata": {},
   "outputs": [
    {
     "name": "stdout",
     "output_type": "stream",
     "text": [
      "John\n",
      "30\n",
      "New York\n",
      "[ 'music', 'movies', 'sports' ]\n"
     ]
    }
   ],
   "source": [
    "// for key of loop\n",
    "for(let key of Object.keys(person8)){\n",
    "    console.log(person8[key]);\n",
    "}"
   ]
  },
  {
   "cell_type": "markdown",
   "id": "41c516cf",
   "metadata": {},
   "source": [
    "### Computed properties"
   ]
  },
  {
   "cell_type": "code",
   "execution_count": 67,
   "id": "43744e02",
   "metadata": {},
   "outputs": [
    {
     "name": "stdout",
     "output_type": "stream",
     "text": [
      "{ objkey1: 'objvalue1', objkey2: 'objvalue2' }\n"
     ]
    }
   ],
   "source": [
    "const key1 = \"objkey1\";\n",
    "const key2 = \"objkey2\";\n",
    "\n",
    "const value1 = \"objvalue1\";\n",
    "const value2 = \"objvalue2\";\n",
    "\n",
    "obj = {};\n",
    "obj[key1] = value1;\n",
    "obj[key2] = value2;\n",
    "console.log(obj);"
   ]
  },
  {
   "cell_type": "markdown",
   "id": "b4bf7177",
   "metadata": {},
   "source": [
    "### Spread operator ..."
   ]
  },
  {
   "cell_type": "markdown",
   "id": "c95a4f21",
   "metadata": {},
   "source": [
    "Spread operator is used to split up array elements or object properties"
   ]
  },
  {
   "cell_type": "code",
   "execution_count": 69,
   "id": "5eacde88",
   "metadata": {},
   "outputs": [
    {
     "name": "stdout",
     "output_type": "stream",
     "text": [
      "[ 1, 2, 3 ]\n"
     ]
    }
   ],
   "source": [
    "const array1 = [1,2,3];\n",
    "const array2 = [5,6,7];\n",
    "\n",
    "const newArray = [...array1]; // copies array1 into newArray\n",
    "console.log(newArray);"
   ]
  },
  {
   "cell_type": "code",
   "execution_count": 70,
   "id": "89c148e3",
   "metadata": {},
   "outputs": [
    {
     "name": "stdout",
     "output_type": "stream",
     "text": [
      "[ 1, 2, 3, 5, 6, 7 ]\n"
     ]
    }
   ],
   "source": [
    "const newArray2 = [...array1, ...array2]; // copies array1 and array2 into newArray2\n",
    "console.log(newArray2);"
   ]
  },
  {
   "cell_type": "code",
   "execution_count": 71,
   "id": "9be71d3c",
   "metadata": {},
   "outputs": [
    {
     "name": "stdout",
     "output_type": "stream",
     "text": [
      "[ 1, 2, 3, [ 5, 6, 7 ] ]\n"
     ]
    }
   ],
   "source": [
    "// spread operator -- continued\n",
    "// for array2 we are not using spread operator\n",
    "const newArray3 = [...array1, array2]; // copies values of array1 as elements and array2 as array into newArray3\n",
    "console.log(newArray3);"
   ]
  },
  {
   "cell_type": "code",
   "execution_count": 72,
   "id": "37a541f4",
   "metadata": {},
   "outputs": [
    {
     "name": "stdout",
     "output_type": "stream",
     "text": [
      "[\n",
      "  1, 2,  3,  5,\n",
      "  6, 7, 78, 56\n",
      "]\n"
     ]
    }
   ],
   "source": [
    "// spread operator -- continued\n",
    "const newArray4 = [...array1, ...array2, 78, 56];\n",
    "console.log(newArray4);"
   ]
  },
  {
   "cell_type": "code",
   "execution_count": 73,
   "id": "fd8828f0",
   "metadata": {},
   "outputs": [
    {
     "name": "stdout",
     "output_type": "stream",
     "text": [
      "[\n",
      "  'H', 'e', 'l', 'l',\n",
      "  'o', ' ', 'W', 'o',\n",
      "  'r', 'l', 'd'\n",
      "]\n"
     ]
    }
   ],
   "source": [
    "// spread string\n",
    "const newArray5 = [...\"Hello World\"];\n",
    "console.log(newArray5);"
   ]
  },
  {
   "cell_type": "markdown",
   "id": "35e7ee25",
   "metadata": {},
   "source": [
    "Spread operator doesn't work for integers"
   ]
  },
  {
   "cell_type": "code",
   "execution_count": 75,
   "id": "096fb81f",
   "metadata": {},
   "outputs": [
    {
     "name": "stdout",
     "output_type": "stream",
     "text": [
      "{ key1: 'value1', key2: 'value2' }\n"
     ]
    }
   ],
   "source": [
    "// spread operator in objects\n",
    "const person0 = {\n",
    "    key1: \"value1\",\n",
    "    key2: \"value2\"\n",
    "};\n",
    "console.log(person0);"
   ]
  },
  {
   "cell_type": "code",
   "execution_count": 77,
   "id": "bbfbf03c",
   "metadata": {},
   "outputs": [
    {
     "name": "stdout",
     "output_type": "stream",
     "text": [
      "{ key1: 'LastkeyValue', key2: 'value2' }\n"
     ]
    }
   ],
   "source": [
    "// just to make things clear that same key can't \n",
    "// be present more than one time in an object\n",
    "const person22 = {\n",
    "    key1: \"value1\",\n",
    "    key2: \"value2\",\n",
    "    key1: \"LastkeyValue\" // this will overwrite the previous key1\n",
    "};\n",
    "console.log(person22);"
   ]
  },
  {
   "cell_type": "code",
   "execution_count": 78,
   "id": "dd5e72d8",
   "metadata": {},
   "outputs": [],
   "source": [
    "// spread operator in objects -- continued\n",
    "const obj1 = {\n",
    "    key1: \"value1\",\n",
    "    key2: \"value2\"\n",
    "};\n",
    "\n",
    "const obj2 = {\n",
    "    key3: \"value3\",\n",
    "    key4: \"value4\"\n",
    "};"
   ]
  },
  {
   "cell_type": "code",
   "execution_count": 79,
   "id": "93e70ffe",
   "metadata": {},
   "outputs": [
    {
     "name": "stdout",
     "output_type": "stream",
     "text": [
      "{ key1: 'value1', key2: 'value2' }\n"
     ]
    }
   ],
   "source": [
    "const newObject = { ...obj1}; // copies obj1 into newObject\n",
    "console.log(newObject);"
   ]
  },
  {
   "cell_type": "code",
   "execution_count": 80,
   "id": "0db868d7",
   "metadata": {},
   "outputs": [
    {
     "name": "stdout",
     "output_type": "stream",
     "text": [
      "{ key1: 'value1', key2: 'value2', key3: 'value3', key4: 'value4' }\n"
     ]
    }
   ],
   "source": [
    "// spread operator in objects -- continued\n",
    "const newObject2 = { ...obj1, ...obj2}; // copies obj1 and obj2 into newObject2\n",
    "console.log(newObject2);"
   ]
  },
  {
   "cell_type": "markdown",
   "id": "a61c7b01",
   "metadata": {},
   "source": [
    "suppose we are using spread operator to copy obj1 and obj2 and they both have a same key. In this case, the value of the key in obj2 will overwrite the value of the key in obj1."
   ]
  },
  {
   "cell_type": "code",
   "execution_count": 81,
   "id": "0f524606",
   "metadata": {},
   "outputs": [
    {
     "name": "stdout",
     "output_type": "stream",
     "text": [
      "{ key1: 'value3', key2: 'value2', key4: 'value4', key5: 'value5' }\n"
     ]
    }
   ],
   "source": [
    "const obj3 = {\n",
    "    key1: \"value1\",\n",
    "    key2: \"value2\"\n",
    "};\n",
    "\n",
    "const obj4 = {\n",
    "    key1: \"value3\",\n",
    "    key4: \"value4\",\n",
    "    key5: \"value5\"\n",
    "};\n",
    "\n",
    "const newObject3 = {...obj3, ...obj4}; // copies obj3 and obj4 into newObject3\n",
    "console.log(newObject3);"
   ]
  },
  {
   "cell_type": "code",
   "execution_count": 82,
   "id": "535403f1",
   "metadata": {},
   "outputs": [
    {
     "name": "stdout",
     "output_type": "stream",
     "text": [
      "{\n",
      "  key1: 'value3',\n",
      "  key2: 'value2',\n",
      "  key4: 'value4',\n",
      "  key5: 'value5',\n",
      "  key6: 'value6'\n",
      "}\n"
     ]
    }
   ],
   "source": [
    "// spread operator in objects -- continued\n",
    "// adding new key with spread operator\n",
    "const newObject4 = {...obj3, ...obj4, key6: \"value6\"};\n",
    "console.log(newObject4);"
   ]
  },
  {
   "cell_type": "markdown",
   "id": "62763265",
   "metadata": {},
   "source": [
    "Spread string will result into index as keys and characters as values"
   ]
  },
  {
   "cell_type": "code",
   "execution_count": 83,
   "id": "fb65ef48",
   "metadata": {},
   "outputs": [
    {
     "name": "stdout",
     "output_type": "stream",
     "text": [
      "{\n",
      "  '0': 'H',\n",
      "  '1': 'e',\n",
      "  '2': 'l',\n",
      "  '3': 'l',\n",
      "  '4': 'o',\n",
      "  '5': ' ',\n",
      "  '6': 'W',\n",
      "  '7': 'o',\n",
      "  '8': 'r',\n",
      "  '9': 'l',\n",
      "  '10': 'd'\n",
      "}\n"
     ]
    }
   ],
   "source": [
    "const newObject5 = {...\"Hello World\"};\n",
    "console.log(newObject5);"
   ]
  },
  {
   "cell_type": "markdown",
   "id": "bb722196",
   "metadata": {},
   "source": [
    "Spread array will result into index as keys and elements as values"
   ]
  },
  {
   "cell_type": "code",
   "execution_count": 84,
   "id": "4c520cb7",
   "metadata": {},
   "outputs": [
    {
     "name": "stdout",
     "output_type": "stream",
     "text": [
      "{ '0': 'item1', '1': 'item2' }\n"
     ]
    }
   ],
   "source": [
    "const newObjects = {...[\"item1\", \"item2\"]};\n",
    "console.log(newObjects);"
   ]
  },
  {
   "cell_type": "code",
   "execution_count": 85,
   "id": "f21db58b",
   "metadata": {},
   "outputs": [
    {
     "name": "stdout",
     "output_type": "stream",
     "text": [
      "{\n",
      "  '0': 'a',\n",
      "  '1': 'b',\n",
      "  '2': 'c',\n",
      "  '3': 'd',\n",
      "  '4': 'e',\n",
      "  '5': 'f',\n",
      "  '6': 'g',\n",
      "  '7': 'h',\n",
      "  '8': 'i',\n",
      "  '9': 'j',\n",
      "  '10': 'k',\n",
      "  '11': 'l',\n",
      "  '12': 'm',\n",
      "  '13': 'n',\n",
      "  '14': 'o',\n",
      "  '15': 'p',\n",
      "  '16': 'q',\n",
      "  '17': 'r',\n",
      "  '18': 's',\n",
      "  '19': 't',\n",
      "  '20': 'u',\n",
      "  '21': 'v',\n",
      "  '22': 'w',\n",
      "  '23': 'x',\n",
      "  '24': 'y',\n",
      "  '25': 'z'\n",
      "}\n"
     ]
    }
   ],
   "source": [
    "// spread string of characters\n",
    "const newObjects2 = {...\"abcdefghijklmnopqrstuvwxyz\"};\n",
    "console.log(newObjects2);"
   ]
  },
  {
   "cell_type": "code",
   "execution_count": null,
   "id": "2720e209",
   "metadata": {},
   "outputs": [],
   "source": []
  }
 ],
 "metadata": {
  "kernelspec": {
   "display_name": "JavaScript (Node.js)",
   "language": "javascript",
   "name": "javascript"
  },
  "language_info": {
   "file_extension": ".js",
   "mimetype": "application/javascript",
   "name": "javascript",
   "version": "18.12.1"
  }
 },
 "nbformat": 4,
 "nbformat_minor": 5
}
