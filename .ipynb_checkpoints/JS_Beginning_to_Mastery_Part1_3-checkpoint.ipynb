{
 "cells": [
  {
   "cell_type": "code",
   "execution_count": 1,
   "id": "7083ae40",
   "metadata": {},
   "outputs": [
    {
     "name": "stdout",
     "output_type": "stream",
     "text": [
      "[ 'value1', 'value3', 'value4', 1, 2, 3, 4, 5, 6 ]\n"
     ]
    }
   ],
   "source": [
    "const myArray = [\"value1\", \"value2\", \"value3\", \"value4\", 1, 2, 3, 4, 5, 6];\n",
    "\n",
    "// delete item 2\n",
    "myArray.splice(1,1); // starting from index 1, delete 1 item\n",
    "console.log(myArray);"
   ]
  },
  {
   "cell_type": "code",
   "execution_count": 2,
   "id": "7455cb21",
   "metadata": {},
   "outputs": [
    {
     "name": "stdout",
     "output_type": "stream",
     "text": [
      "[ 'value1', 'value3', 'value4' ]\n"
     ]
    }
   ],
   "source": [
    "// delete 6 items starting from index 3\n",
    "myArray.splice(3,6); // starting from index 3, delete 6 items\n",
    "console.log(myArray);"
   ]
  },
  {
   "cell_type": "code",
   "execution_count": 3,
   "id": "2ee1bc86",
   "metadata": {},
   "outputs": [
    {
     "name": "stdout",
     "output_type": "stream",
     "text": [
      "[ 'value3' ]\n"
     ]
    }
   ],
   "source": [
    "const deletedItem = myArray.splice(1,1); // starting from index 1, delete 1 item\n",
    "console.log(deletedItem);"
   ]
  },
  {
   "cell_type": "code",
   "execution_count": 4,
   "id": "865583b7",
   "metadata": {},
   "outputs": [
    {
     "name": "stdout",
     "output_type": "stream",
     "text": [
      "[ 'value1', 'value4' ]\n"
     ]
    }
   ],
   "source": [
    "console.log(myArray);"
   ]
  },
  {
   "cell_type": "code",
   "execution_count": 5,
   "id": "739f13c7",
   "metadata": {},
   "outputs": [
    {
     "name": "stdout",
     "output_type": "stream",
     "text": [
      "[ 'value1', 'inserted item', 'value4' ]\n"
     ]
    }
   ],
   "source": [
    "// insert\n",
    "myArray.splice(1, 0, \"inserted item\"); // insert at index 1, no delete as 0 is passed, and the item to be inserted\n",
    "console.log(myArray);"
   ]
  },
  {
   "cell_type": "code",
   "execution_count": 6,
   "id": "576fbf17",
   "metadata": {},
   "outputs": [
    {
     "name": "stdout",
     "output_type": "stream",
     "text": [
      "[ 'value1', 'new inserted item1', 'new inserted item4' ]\n"
     ]
    }
   ],
   "source": [
    "// insert and delete at the same time\n",
    "// will delete two items from index 1 and then add two elements\n",
    "myArray.splice(1, 2, \"new inserted item1\", \"new inserted item4\");\n",
    "console.log(myArray);"
   ]
  },
  {
   "cell_type": "code",
   "execution_count": 7,
   "id": "301d8b30",
   "metadata": {},
   "outputs": [
    {
     "name": "stdout",
     "output_type": "stream",
     "text": [
      "[ 'new inserted item1', 'new inserted item4' ]\n"
     ]
    }
   ],
   "source": [
    "// I can also store the deleted items when using splice\n",
    "const deletedItems2 = myArray.splice(1, 2, \"new inserted item5\", \"new inserted item6\");\n",
    "console.log(deletedItems2);"
   ]
  },
  {
   "cell_type": "code",
   "execution_count": 8,
   "id": "f1bc1c3c",
   "metadata": {},
   "outputs": [
    {
     "name": "stdout",
     "output_type": "stream",
     "text": [
      "[ 'value1', 'new inserted item5', 'new inserted item6' ]\n"
     ]
    }
   ],
   "source": [
    "console.log(myArray);"
   ]
  },
  {
   "cell_type": "code",
   "execution_count": 9,
   "id": "c2dcbc8a",
   "metadata": {},
   "outputs": [
    {
     "name": "stdout",
     "output_type": "stream",
     "text": [
      "4\n",
      "h\n"
     ]
    }
   ],
   "source": [
    "// object is not iterable (cannot read property Symbol(Symbol.iterator))\n",
    "\n",
    "// string, arrays are iterable\n",
    "\n",
    "// array like objects\n",
    "// which has length property and index based access\n",
    "// string is array like object\n",
    "\n",
    "const firstName = \"John\";\n",
    "console.log(firstName.length);\n",
    "console.log(firstName[2]);"
   ]
  },
  {
   "cell_type": "markdown",
   "id": "3c4f2a0e",
   "metadata": {},
   "source": [
    "### Working with Set"
   ]
  },
  {
   "cell_type": "code",
   "execution_count": 10,
   "id": "bc83bf98",
   "metadata": {},
   "outputs": [
    {
     "name": "stdout",
     "output_type": "stream",
     "text": [
      "Set(3) { 1, 2, 3 }\n"
     ]
    }
   ],
   "source": [
    "const numbers = new Set([1,2,3,3]);\n",
    "console.log(numbers);"
   ]
  },
  {
   "cell_type": "markdown",
   "id": "f890326f",
   "metadata": {},
   "source": [
    "no index-based access, no duplicates, no order"
   ]
  },
  {
   "cell_type": "code",
   "execution_count": 11,
   "id": "db42d88b",
   "metadata": {},
   "outputs": [
    {
     "name": "stdout",
     "output_type": "stream",
     "text": [
      "Set(4) { 1, 2, 3, 55 }\n"
     ]
    }
   ],
   "source": [
    "// add\n",
    "numbers.add(55);\n",
    "console.log(numbers);"
   ]
  },
  {
   "cell_type": "code",
   "execution_count": 12,
   "id": "34056433",
   "metadata": {},
   "outputs": [
    {
     "name": "stdout",
     "output_type": "stream",
     "text": [
      "Set(3) { 1, 3, 55 }\n"
     ]
    }
   ],
   "source": [
    "// delete\n",
    "numbers.delete(2);\n",
    "console.log(numbers);"
   ]
  },
  {
   "cell_type": "code",
   "execution_count": 13,
   "id": "499677e4",
   "metadata": {},
   "outputs": [
    {
     "name": "stdout",
     "output_type": "stream",
     "text": [
      "true\n"
     ]
    }
   ],
   "source": [
    "// has\n",
    "console.log(numbers.has(3));"
   ]
  },
  {
   "cell_type": "code",
   "execution_count": 14,
   "id": "25f1411f",
   "metadata": {},
   "outputs": [
    {
     "name": "stdout",
     "output_type": "stream",
     "text": [
      "Set(0) {}\n"
     ]
    }
   ],
   "source": [
    "// clear\n",
    "numbers.clear();\n",
    "console.log(numbers);"
   ]
  },
  {
   "cell_type": "code",
   "execution_count": 15,
   "id": "5d25b269",
   "metadata": {},
   "outputs": [
    {
     "name": "stdout",
     "output_type": "stream",
     "text": [
      "0\n"
     ]
    }
   ],
   "source": [
    "// size\n",
    "console.log(numbers.size);"
   ]
  },
  {
   "cell_type": "code",
   "execution_count": 16,
   "id": "39b701cd",
   "metadata": {},
   "outputs": [
    {
     "name": "stdout",
     "output_type": "stream",
     "text": [
      "1 1\n",
      "2 2\n",
      "3 3\n",
      "4 4\n",
      "5 5\n",
      "6 6\n",
      "7 7\n",
      "8 8\n",
      "9 9\n",
      "10 10\n"
     ]
    }
   ],
   "source": [
    "const numbers2 = new Set([1,2,3,4,5,6,7,8,9,10]);\n",
    "// forEach\n",
    "numbers2.forEach((value, key) => {\n",
    "    console.log(key, value);\n",
    "})"
   ]
  },
  {
   "cell_type": "code",
   "execution_count": 17,
   "id": "71e8273d",
   "metadata": {},
   "outputs": [
    {
     "name": "stdout",
     "output_type": "stream",
     "text": [
      "[\n",
      "  1, 2, 3, 4,  5,\n",
      "  6, 7, 8, 9, 10\n",
      "]\n"
     ]
    }
   ],
   "source": [
    "// convert to array\n",
    "const numbersArray = Array.from(numbers2);\n",
    "console.log(numbersArray);"
   ]
  },
  {
   "cell_type": "code",
   "execution_count": 18,
   "id": "78fa0f78",
   "metadata": {},
   "outputs": [
    {
     "name": "stdout",
     "output_type": "stream",
     "text": [
      "[\n",
      "  1, 2, 3, 4,  5,\n",
      "  6, 7, 8, 9, 10\n",
      "]\n"
     ]
    }
   ],
   "source": [
    "// convert to array\n",
    "const numbersArray2 = [...numbers2];\n",
    "console.log(numbersArray2);"
   ]
  },
  {
   "cell_type": "code",
   "execution_count": 19,
   "id": "edf633e2",
   "metadata": {},
   "outputs": [
    {
     "name": "stdout",
     "output_type": "stream",
     "text": [
      "[\n",
      "  1, 2, 3, 4,  5,\n",
      "  6, 7, 8, 9, 10\n",
      "]\n"
     ]
    }
   ],
   "source": [
    "// convert to array\n",
    "const numbersArray3 = [...new Set([1,2,3,3,4,5,6,7,8,9,10])];\n",
    "console.log(numbersArray3);"
   ]
  },
  {
   "cell_type": "code",
   "execution_count": 20,
   "id": "f16f709c",
   "metadata": {},
   "outputs": [
    {
     "name": "stdout",
     "output_type": "stream",
     "text": [
      "[\n",
      "  1, 2, 3, 4,  5,\n",
      "  6, 7, 8, 9, 10\n",
      "]\n"
     ]
    }
   ],
   "source": [
    "// convert to array\n",
    "const numbersArray4 = Array.from(new Set([1,2,3,3,4,5,6,7,8,9,10]));\n",
    "console.log(numbersArray4);"
   ]
  },
  {
   "cell_type": "markdown",
   "id": "54cc5d35",
   "metadata": {},
   "source": [
    "### Optional chaining"
   ]
  },
  {
   "cell_type": "code",
   "execution_count": 21,
   "id": "7d98ce30",
   "metadata": {},
   "outputs": [
    {
     "name": "stdout",
     "output_type": "stream",
     "text": [
      "John\n",
      "1234\n"
     ]
    }
   ],
   "source": [
    "// optional chaining\n",
    "\n",
    "const user = {\n",
    "    firstName: \"John\",\n",
    "    address: {houseNumber: '1234'}\n",
    "};\n",
    "\n",
    "console.log(user.firstName);\n",
    "console.log(user.address.houseNumber);"
   ]
  },
  {
   "cell_type": "code",
   "execution_count": 22,
   "id": "18526bb1",
   "metadata": {},
   "outputs": [
    {
     "name": "stdout",
     "output_type": "stream",
     "text": [
      "John\n",
      "undefined\n"
     ]
    }
   ],
   "source": [
    "const user2 = {\n",
    "    firstName: \"John\",\n",
    "    // address: {houseNumber: '1234'}\n",
    "};\n",
    "\n",
    "console.log(user2.firstName);\n",
    "console.log(user2.address); // returns undefined\n",
    "// console.log(user2.address.houseNumber); \n",
    "// the above line will returns error as can't read property of undefined"
   ]
  },
  {
   "cell_type": "markdown",
   "id": "7585b198",
   "metadata": {},
   "source": [
    "we want to retun undefined and not error if a property is not there"
   ]
  },
  {
   "cell_type": "code",
   "execution_count": 23,
   "id": "a15bf5ec",
   "metadata": {},
   "outputs": [
    {
     "name": "stdout",
     "output_type": "stream",
     "text": [
      "John\n"
     ]
    }
   ],
   "source": [
    "console.log(user2?.firstName);\n",
    "// Does user exist? if yes then return firstName"
   ]
  },
  {
   "cell_type": "code",
   "execution_count": 24,
   "id": "91f6ff8b",
   "metadata": {},
   "outputs": [
    {
     "name": "stdout",
     "output_type": "stream",
     "text": [
      "undefined\n"
     ]
    }
   ],
   "source": [
    "console.log(user2?.addres?.houseNumber);\n",
    "// Does user exist? if yes then return address. \n",
    "// Does address exist? if yes then return houseNumber"
   ]
  },
  {
   "cell_type": "markdown",
   "id": "f0293730",
   "metadata": {},
   "source": [
    "#### Methods -- function inside object"
   ]
  },
  {
   "cell_type": "code",
   "execution_count": 25,
   "id": "ae585185",
   "metadata": {},
   "outputs": [],
   "source": [
    "// methods\n",
    "// function inside object\n",
    "\n",
    "const person = {\n",
    "    firstName: \"John\",\n",
    "    age: 33,\n",
    "    about: function(){\n",
    "        console.log(\"Person's name is John and age is 33\");\n",
    "    }\n",
    "};"
   ]
  },
  {
   "cell_type": "code",
   "execution_count": 26,
   "id": "e21d18bc",
   "metadata": {},
   "outputs": [
    {
     "name": "stdout",
     "output_type": "stream",
     "text": [
      "[Function: about]\n"
     ]
    }
   ],
   "source": [
    "// Access  this function or method inside person\n",
    "console.log(person.about); // returns or print the function"
   ]
  },
  {
   "cell_type": "code",
   "execution_count": 27,
   "id": "39cb6fa1",
   "metadata": {},
   "outputs": [
    {
     "name": "stdout",
     "output_type": "stream",
     "text": [
      "Person's name is John and age is 33\n"
     ]
    }
   ],
   "source": [
    "// calling the function inside person\n",
    "person.about(); // returns or print the function"
   ]
  },
  {
   "cell_type": "markdown",
   "id": "4cb99fef",
   "metadata": {},
   "source": [
    "#### `this` keyword\n",
    "\n",
    "`this` keyword refers to the object that is executing the current function"
   ]
  },
  {
   "cell_type": "code",
   "execution_count": 28,
   "id": "de6e5913",
   "metadata": {},
   "outputs": [
    {
     "name": "stdout",
     "output_type": "stream",
     "text": [
      "Person's name is Lipon and age is 43\n"
     ]
    }
   ],
   "source": [
    "const person2 = {\n",
    "    firstName: \"Lipon\",\n",
    "    age: 43,\n",
    "    about: function(){\n",
    "        console.log(`Person's name is ${this.firstName} and age is ${this.age}`);\n",
    "    }\n",
    "    // We can't write console.log(`Person's name is ${firstName} and age is ${age}`), rather have to use this keyword to access the object's property\n",
    "    // here this will refer to the object person2 which will be calling the method about\n",
    "};\n",
    "\n",
    "person2.about();"
   ]
  },
  {
   "cell_type": "code",
   "execution_count": 29,
   "id": "6ffcb2a9",
   "metadata": {},
   "outputs": [
    {
     "name": "stdout",
     "output_type": "stream",
     "text": [
      "{ firstName: 'Lipon', age: 43, about: [Function: about] }\n"
     ]
    }
   ],
   "source": [
    "const person3 = {\n",
    "    firstName: \"Lipon\",\n",
    "    age: 43,\n",
    "    about: function(){\n",
    "        console.log(this);\n",
    "    }\n",
    "};\n",
    "person3.about(); // prints the object person3"
   ]
  },
  {
   "cell_type": "code",
   "execution_count": 30,
   "id": "7ea6b476",
   "metadata": {},
   "outputs": [
    {
     "name": "stdout",
     "output_type": "stream",
     "text": [
      "Shammun 33\n"
     ]
    }
   ],
   "source": [
    "// methods -- continued \n",
    "const person4 = {\n",
    "    firstName: \"Shammun\",\n",
    "    age: 33,\n",
    "    about: function(){\n",
    "        console.log(this.firstName, this.age);\n",
    "    }\n",
    "};\n",
    "person4.about(); // prints the object person4"
   ]
  },
  {
   "cell_type": "code",
   "execution_count": 31,
   "id": "173e1c0c",
   "metadata": {},
   "outputs": [],
   "source": [
    "// in below, this refers to the object that is executing the current function\n",
    "function personInfo(){\n",
    "    console.log(`person name is ${this.firstName} and age is ${this.age}`);\n",
    "}"
   ]
  },
  {
   "cell_type": "code",
   "execution_count": 32,
   "id": "bb5b371d",
   "metadata": {},
   "outputs": [],
   "source": [
    "const person5 = {\n",
    "    firstName: \"Shammun\",\n",
    "    age: 37,\n",
    "    about: personInfo\n",
    "};\n",
    "\n",
    "const person6 = {\n",
    "    firstName: \"Mohsin\",\n",
    "    age: 47,\n",
    "    about: personInfo\n",
    "};\n",
    "\n",
    "const person7 = {\n",
    "    firstName: \"Mokhtar\",\n",
    "    age: 57,\n",
    "    about: personInfo\n",
    "};"
   ]
  },
  {
   "cell_type": "code",
   "execution_count": 33,
   "id": "d71d7957",
   "metadata": {},
   "outputs": [
    {
     "name": "stdout",
     "output_type": "stream",
     "text": [
      "person name is Shammun and age is 37\n",
      "person name is Mohsin and age is 47\n"
     ]
    }
   ],
   "source": [
    "person5.about();\n",
    "person6.about();"
   ]
  },
  {
   "cell_type": "code",
   "execution_count": 34,
   "id": "ddee469b",
   "metadata": {},
   "outputs": [
    {
     "name": "stdout",
     "output_type": "stream",
     "text": [
      "person name is Mokhtar and age is 57\n"
     ]
    }
   ],
   "source": [
    "person7.about();"
   ]
  },
  {
   "cell_type": "markdown",
   "id": "8d612c3a",
   "metadata": {},
   "source": [
    "### use strict\n",
    "\n",
    "`Use strict` is a special string that can be used in JavaScript code to enable a stricter version of the language, which enforces certain rules and restrictions. When the `use strict` mode is enabled, the JavaScript engine will perform stricter syntax checking and will generate more errors in certain situations that might have been ignored before.\n",
    "\n",
    "Some of the benefits of using `use strict` include:\n",
    "\n",
    "Preventing the accidental creation of global variables. In non-strict mode, it's possible to accidentally create a global variable by forgetting to declare it with the `var`, `let`, or `const` keyword. `use strict` mode prevents this by throwing an error whenever a variable is used without being declared first.\n",
    "\n",
    "Making it easier to write secure code. In strict mode, certain actions that could be used maliciously are disallowed, such as assigning a value to the `eval` function, which can be used to execute arbitrary code.\n",
    "\n",
    "Improving code quality. Strict mode helps catch common coding mistakes and encourages good coding practices.\n",
    "\n",
    "To use `use strict` in your JavaScript code, simply include the string `use strict` at the beginning of your script or function. For example:"
   ]
  },
  {
   "cell_type": "code",
   "execution_count": 1,
   "id": "b59a1bc1",
   "metadata": {},
   "outputs": [
    {
     "data": {
      "text/plain": [
       "'use strict'"
      ]
     },
     "execution_count": 1,
     "metadata": {},
     "output_type": "execute_result"
    }
   ],
   "source": [
    "\"use strict\";\n",
    "function myFunction() {\n",
    "  // Code in here will be executed in strict mode\n",
    "}"
   ]
  },
  {
   "cell_type": "markdown",
   "id": "e361553d",
   "metadata": {},
   "source": [
    "```JavaScript\n",
    "console.log(this) // returns window object\n",
    "```"
   ]
  },
  {
   "cell_type": "markdown",
   "id": "9a6f330c",
   "metadata": {},
   "source": [
    "```JavaScript\n",
    "console.log(window) // also returns window object\n",
    "```"
   ]
  },
  {
   "cell_type": "markdown",
   "id": "a477abfc",
   "metadata": {},
   "source": [
    "```JavaScript\n",
    "console.log(this === window) // returns true\n",
    "```"
   ]
  },
  {
   "cell_type": "markdown",
   "id": "a075c399",
   "metadata": {},
   "source": [
    "```JavaScript\n",
    "console.log(\"Hello\") // returns \"Hello\"\n",
    "```"
   ]
  },
  {
   "cell_type": "code",
   "execution_count": 4,
   "id": "2fd1daa2",
   "metadata": {},
   "outputs": [],
   "source": [
    "function myFunc(){\n",
    "    \"use strict\"\n",
    "    console.log(this);\n",
    "}"
   ]
  },
  {
   "cell_type": "markdown",
   "id": "f3082b84",
   "metadata": {},
   "source": [
    "```JavaScript\n",
    "//window.myFunc(); // returns window object\n",
    "myFunc(); // returns undefined\n",
    "window.myFunc(); // returns window object\n",
    "```"
   ]
  },
  {
   "cell_type": "markdown",
   "id": "914a42ad",
   "metadata": {},
   "source": [
    "```JavaScript\n",
    "// with strict mode, to access window object, we need to use window.myFunc()\n",
    "\n",
    "function myFunc2(){\n",
    "    //\"use strict\"\n",
    "    console.log(this);\n",
    "}\n",
    "\n",
    "//window.myFunc(); // returns window object\n",
    "myFunc2(); // returns window object\n",
    "```"
   ]
  },
  {
   "cell_type": "markdown",
   "id": "515900ec",
   "metadata": {},
   "source": [
    "### More on functions"
   ]
  },
  {
   "cell_type": "code",
   "execution_count": 5,
   "id": "f20330b2",
   "metadata": {},
   "outputs": [],
   "source": [
    "function hello(){\n",
    "    console.log(\"Hello world\");\n",
    "}"
   ]
  },
  {
   "cell_type": "markdown",
   "id": "032b9408",
   "metadata": {},
   "source": [
    "```JavaScript\n",
    "hello(); // returns Hello world\n",
    "window.hello(); // returns Hello world\n",
    "hello.call(); // returns Hello world\n",
    "```"
   ]
  },
  {
   "cell_type": "markdown",
   "id": "6711b78a",
   "metadata": {},
   "source": [
    "### call(), apply() and bind()"
   ]
  },
  {
   "cell_type": "markdown",
   "id": "8077cd99",
   "metadata": {},
   "source": [
    "### `call()`\n",
    "\n",
    "`call()` method is used to call a function with a given this value and arguments provided individually"
   ]
  },
  {
   "cell_type": "code",
   "execution_count": 7,
   "id": "71e81289",
   "metadata": {},
   "outputs": [],
   "source": [
    "const user1 = {\n",
    "    firstName: \"John\",\n",
    "    age: 8,\n",
    "    about:  function(){\n",
    "        console.log(this.firstName, this.age);\n",
    "    }\n",
    "}\n",
    "\n",
    "const user2 = {\n",
    "    firstName: \"Jane\",\n",
    "    age: 9, \n",
    "}"
   ]
  },
  {
   "cell_type": "markdown",
   "id": "7831c30f",
   "metadata": {},
   "source": [
    "#### using `about()`` method of user1 object from user1 object"
   ]
  },
  {
   "cell_type": "code",
   "execution_count": 8,
   "id": "5f55e97d",
   "metadata": {},
   "outputs": [
    {
     "name": "stdout",
     "output_type": "stream",
     "text": [
      "Jane 9\n"
     ]
    }
   ],
   "source": [
    "user1.about.call(user2); // returns Jane 9"
   ]
  },
  {
   "cell_type": "code",
   "execution_count": 9,
   "id": "bf723cfe",
   "metadata": {},
   "outputs": [
    {
     "name": "stdout",
     "output_type": "stream",
     "text": [
      "undefined undefined\n"
     ]
    }
   ],
   "source": [
    "user1.about.call(); // returns undefined undefined"
   ]
  },
  {
   "cell_type": "code",
   "execution_count": 10,
   "id": "1ed44edf",
   "metadata": {},
   "outputs": [
    {
     "name": "stdout",
     "output_type": "stream",
     "text": [
      "John 8\n"
     ]
    }
   ],
   "source": [
    "user1.about.call(user1) // returns John 8"
   ]
  },
  {
   "cell_type": "code",
   "execution_count": 11,
   "id": "4fba46df",
   "metadata": {},
   "outputs": [
    {
     "name": "stdout",
     "output_type": "stream",
     "text": [
      "John 8\n"
     ]
    }
   ],
   "source": [
    "user1.about() // returns John 8"
   ]
  },
  {
   "cell_type": "code",
   "execution_count": 12,
   "id": "50feab9e",
   "metadata": {},
   "outputs": [],
   "source": [
    "const  user3 = {\n",
    "    firstName: \"John\",\n",
    "    age: 8,\n",
    "    about:  function(hobby, favMusician){\n",
    "        console.log(this.firstName, this.age, hobby, favMusician);\n",
    "    }\n",
    "}\n",
    "\n",
    "const  user4 = {\n",
    "    firstName: \"Jane\",\n",
    "    age: 9, \n",
    "}"
   ]
  },
  {
   "cell_type": "markdown",
   "id": "428e85a1",
   "metadata": {},
   "source": [
    "#### using `about()`` method of user3 object from user4 object"
   ]
  },
  {
   "cell_type": "code",
   "execution_count": 13,
   "id": "70b133d3",
   "metadata": {},
   "outputs": [
    {
     "name": "stdout",
     "output_type": "stream",
     "text": [
      "Jane 9 [ 'reading', 'Michael Jackson' ] undefined\n"
     ]
    }
   ],
   "source": [
    "// returns Jane 9 reading Michael Jackson\n",
    "user3.about.call(user4, [\"reading\", \"Michael Jackson\"]); "
   ]
  },
  {
   "cell_type": "code",
   "execution_count": 14,
   "id": "7244f795",
   "metadata": {},
   "outputs": [
    {
     "name": "stdout",
     "output_type": "stream",
     "text": [
      "Jane 9 reading Michael Jackson\n"
     ]
    }
   ],
   "source": [
    "user3.about.call(user4, \"reading\", \"Michael Jackson\", \"reading\"); // returns Jane 9 reading Michael Jackson"
   ]
  },
  {
   "cell_type": "code",
   "execution_count": 15,
   "id": "b7e2c231",
   "metadata": {},
   "outputs": [
    {
     "name": "stdout",
     "output_type": "stream",
     "text": [
      "Jane 9 reading undefined\n"
     ]
    }
   ],
   "source": [
    "user3.about.call(user4, \"reading\"); // returns Jane 9 reading undefined "
   ]
  },
  {
   "cell_type": "code",
   "execution_count": 16,
   "id": "6f715599",
   "metadata": {},
   "outputs": [
    {
     "name": "stdout",
     "output_type": "stream",
     "text": [
      "Jane 9 reading Michael Jackson\n"
     ]
    }
   ],
   "source": [
    "user3.about.call(user4, \"reading\", \"Michael Jackson\")"
   ]
  },
  {
   "cell_type": "code",
   "execution_count": 17,
   "id": "1fa8adc4",
   "metadata": {},
   "outputs": [
    {
     "name": "stdout",
     "output_type": "stream",
     "text": [
      "Jane 9 [ 'reading', 'Michael Jackson' ] Michael Jackson\n"
     ]
    }
   ],
   "source": [
    "user3.about.call(user4, [\"reading\", \"Michael Jackson\"], \"Michael Jackson\"); // returns Jane 9 reading Michael Jackson Michael Jackson"
   ]
  },
  {
   "cell_type": "code",
   "execution_count": 18,
   "id": "e9925e57",
   "metadata": {},
   "outputs": [],
   "source": [
    "function about2(hobby, favMusician){\n",
    "    console.log(this.firstName, this.age, hobby, favMusician);\n",
    "}\n",
    "\n",
    "const  user5 = {\n",
    "    firstName: \"Monty\",\n",
    "    age: 8,\n",
    "    \n",
    "}\n",
    "\n",
    "const  user6 = {\n",
    "    firstName: \"Ronty\",\n",
    "    age: 9, \n",
    "}"
   ]
  },
  {
   "cell_type": "code",
   "execution_count": 19,
   "id": "3d224f63",
   "metadata": {},
   "outputs": [
    {
     "name": "stdout",
     "output_type": "stream",
     "text": [
      "Monty 8 guitar Aiyub Bacchu\n"
     ]
    }
   ],
   "source": [
    "about2.call(user5, \"guitar\", \"Aiyub Bacchu\"); // returns Monty 8 guitar Aiyub Bacchu"
   ]
  },
  {
   "cell_type": "markdown",
   "id": "280c7793",
   "metadata": {},
   "source": [
    "### apply method"
   ]
  },
  {
   "cell_type": "markdown",
   "id": "fbf9ec59",
   "metadata": {},
   "source": [
    "In JavaScript, the `apply()` method is a built-in function that allows you to call a function with a specified `this` value and arguments provided as an array. This method is similar to the `call()` method, but **the arguments are passed as an array rather than individually**.\n",
    "\n",
    "The syntax for using the `apply()` method is as follows:"
   ]
  },
  {
   "cell_type": "markdown",
   "id": "e5ea1ad1",
   "metadata": {},
   "source": [
    "```JavaScript\n",
    "function myFunction(arg1, arg2, arg3) {\n",
    "  // function body\n",
    "}\n",
    "\n",
    "myFunction.apply(thisValue, [arg1, arg2, arg3]);\n",
    "```"
   ]
  },
  {
   "cell_type": "markdown",
   "id": "263af9a5",
   "metadata": {},
   "source": [
    "The first argument passed to `apply()` is the value to be used as the `this` value inside the function, and the second argument is an array containing the arguments to be passed to the function.\n",
    "\n",
    "Here's an example of how to use `apply()`:"
   ]
  },
  {
   "cell_type": "code",
   "execution_count": 21,
   "id": "39b9727d",
   "metadata": {},
   "outputs": [],
   "source": [
    "const person = {\n",
    "  firstName: 'John',\n",
    "  lastName: 'Doe',\n",
    "  fullName: function() {\n",
    "    return this.firstName + ' ' + this.lastName;\n",
    "  }\n",
    "};\n",
    "\n",
    "const args = [1, 2, 3];\n",
    "const result = myFunction.apply(person, args);"
   ]
  },
  {
   "cell_type": "markdown",
   "id": "6b40091a",
   "metadata": {},
   "source": [
    "In the example above, we have an object `person` with a `fullName` function. We use `apply()` to set the `this` value of the `fullName` function to the `person` object, so that it can access the `firstName` and `lastName` properties of the object. The `args` array is then passed as the second argument to `apply()`.\n",
    "\n",
    "The `apply()` method can also be used with functions that are not attached to objects, such as:"
   ]
  },
  {
   "cell_type": "code",
   "execution_count": 23,
   "id": "749c7e76",
   "metadata": {},
   "outputs": [],
   "source": [
    "function myFunction2(a, b, c) {\n",
    "  return a + b + c;\n",
    "}\n",
    "\n",
    "const args2 = [1, 2, 3];\n",
    "const result2 = myFunction2.apply(null, args); // 6"
   ]
  },
  {
   "cell_type": "markdown",
   "id": "59e927af",
   "metadata": {},
   "source": [
    "In the example above, we use `apply()` to call the `myFunction` function and pass `null` as the `this` value (since the function is not attached to an object), and pass `[1, 2, 3]` as the second argument. The result is `6`, which is the sum of the arguments."
   ]
  },
  {
   "cell_type": "code",
   "execution_count": 24,
   "id": "7a51582f",
   "metadata": {},
   "outputs": [
    {
     "name": "stdout",
     "output_type": "stream",
     "text": [
      "Monty 8 guitar Aiyub Bacchu\n"
     ]
    }
   ],
   "source": [
    "// using call\n",
    "about2.call(user5, \"guitar\", \"Aiyub Bacchu\"); // returns Monty 8 guitar Aiyub Bacchu"
   ]
  },
  {
   "cell_type": "code",
   "execution_count": 25,
   "id": "4d89cb4b",
   "metadata": {},
   "outputs": [
    {
     "name": "stdout",
     "output_type": "stream",
     "text": [
      "Monty 8 guitar Aiyub Bacchu\n"
     ]
    }
   ],
   "source": [
    "// using apply\n",
    "about2.apply(user5, [\"guitar\", \"Aiyub Bacchu\"]); // returns Monty 8 guitar Aiyub Bacchu"
   ]
  },
  {
   "cell_type": "markdown",
   "id": "8e3b631e",
   "metadata": {},
   "source": [
    "### bind()"
   ]
  },
  {
   "cell_type": "markdown",
   "id": "d88b435d",
   "metadata": {},
   "source": [
    "In JavaScript, the `bind()` method is a built-in function that allows you to create a new function with a specified this value and pre-set arguments. This method is useful when you want to create a new function based on an existing function but with some of its arguments pre-set.\n",
    "\n",
    "The syntax for using the `bind()` method is as follows:"
   ]
  },
  {
   "cell_type": "markdown",
   "id": "3472aad4",
   "metadata": {},
   "source": [
    "```JavaScript\n",
    "function myFunction(arg1, arg2, arg3) {\n",
    "  // function body\n",
    "}\n",
    "\n",
    "const boundFunction = myFunction.bind(thisValue, arg1, arg2);\n",
    "```"
   ]
  },
  {
   "cell_type": "markdown",
   "id": "96f0ef28",
   "metadata": {},
   "source": [
    "The first argument passed to `bind()` is the value to be used as the `this` value inside the function, and subsequent arguments are the arguments to be pre-set in the new function. The `bind()` method returns a new function that can be called later.\n",
    "\n",
    "Here's an example of how to use `bind()`:"
   ]
  },
  {
   "cell_type": "code",
   "execution_count": 27,
   "id": "fecf5d16",
   "metadata": {},
   "outputs": [
    {
     "name": "stdout",
     "output_type": "stream",
     "text": [
      "Mr. John Doe Jr.\n"
     ]
    }
   ],
   "source": [
    "const person11 = {\n",
    "  firstName: 'John',\n",
    "  lastName: 'Doe',\n",
    "  fullName: function() {\n",
    "    return this.firstName + ' ' + this.lastName;\n",
    "  }\n",
    "};\n",
    "\n",
    "const printName11 = function(prefix, suffix) {\n",
    "  console.log(prefix + this.fullName() + suffix);\n",
    "}\n",
    "\n",
    "const boundPrintName11 = printName11.bind(person11, 'Mr. ', ' Jr.');\n",
    "boundPrintName11(); // \"Mr. John Doe Jr.\"\n"
   ]
  },
  {
   "cell_type": "markdown",
   "id": "657810c4",
   "metadata": {},
   "source": [
    "In the example above, we have an object `person` with a `fullName` function and a `printName` function that takes two arguments. We use `bind()` to create a new function `boundPrintName` that is based on `printName` but with the `this` value set to `person`, and with the first argument pre-set to `'Mr. '` and the second argument pre-set to `' Jr.'`. When we call `boundPrintName()`, it logs `\"Mr. John Doe Jr.\"` to the console.\n",
    "\n",
    "The `bind()` method is particularly useful when you want to create a new function that can be passed as a callback to another function with some arguments pre-set."
   ]
  },
  {
   "cell_type": "markdown",
   "id": "77ad827a",
   "metadata": {},
   "source": [
    "The `call()` method sets the this value and immediately invokes the function, while the `bind()` method creates a new function with the `this` value set, but does not invoke the function immediately. Instead, the new function can be called later."
   ]
  },
  {
   "cell_type": "code",
   "execution_count": 29,
   "id": "efe944ec",
   "metadata": {},
   "outputs": [
    {
     "name": "stdout",
     "output_type": "stream",
     "text": [
      "Mr. John Doe Jr.\n"
     ]
    }
   ],
   "source": [
    "printName11.call(person11, 'Mr. ', ' Jr.');"
   ]
  },
  {
   "cell_type": "code",
   "execution_count": 31,
   "id": "6cb4549a",
   "metadata": {},
   "outputs": [
    {
     "name": "stdout",
     "output_type": "stream",
     "text": [
      "Monty 8 guitar Aiyub Bacchu\n"
     ]
    }
   ],
   "source": [
    "about2.call(user5, \"guitar\", \"Aiyub Bacchu\"); // returns Monty 8 guitar Aiyub Bacchu"
   ]
  },
  {
   "cell_type": "code",
   "execution_count": 32,
   "id": "9e516077",
   "metadata": {},
   "outputs": [
    {
     "name": "stdout",
     "output_type": "stream",
     "text": [
      "Monty 8 guitar Aiyub Bacchu\n"
     ]
    }
   ],
   "source": [
    "about2.apply(user5, [\"guitar\", \"Aiyub Bacchu\"]); // returns Monty 8 guitar Aiyub Bacchu"
   ]
  },
  {
   "cell_type": "code",
   "execution_count": 33,
   "id": "edbf1ad9",
   "metadata": {},
   "outputs": [
    {
     "name": "stdout",
     "output_type": "stream",
     "text": [
      "Monty 8 guitar Aiyub Bacchu\n"
     ]
    }
   ],
   "source": [
    "const func = about2.bind(user5, \"guitar\", \"Aiyub Bacchu\"); // returns a function\n",
    "func()"
   ]
  },
  {
   "cell_type": "code",
   "execution_count": 34,
   "id": "33f45269",
   "metadata": {},
   "outputs": [
    {
     "name": "stdout",
     "output_type": "stream",
     "text": [
      "Monty 8 guitar Aiyub Bacchu\n"
     ]
    }
   ],
   "source": [
    "about2.bind(user5, \"guitar\", \"Aiyub Bacchu\")();"
   ]
  },
  {
   "cell_type": "code",
   "execution_count": 36,
   "id": "f7fc04f9",
   "metadata": {},
   "outputs": [
    {
     "name": "stdout",
     "output_type": "stream",
     "text": [
      "Shammunul 37\n"
     ]
    }
   ],
   "source": [
    "const user12 = {\n",
    "    firstName: \"Shammunul\",\n",
    "    age: 37,\n",
    "    about: function(){\n",
    "        console.log(this.firstName, this.age);\n",
    "    }\n",
    "}\n",
    "\n",
    "user12.about(); // returns Shammunul 37"
   ]
  },
  {
   "cell_type": "code",
   "execution_count": 38,
   "id": "ca221fa8",
   "metadata": {},
   "outputs": [
    {
     "name": "stdout",
     "output_type": "stream",
     "text": [
      "undefined undefined\n"
     ]
    }
   ],
   "source": [
    "// don't do the following mistake\n",
    "\n",
    "const myFunc12 = user12.about; // this is not bounded yet\n",
    "myFunc12(); // returns undefined undefined\n",
    "// here this value is window object"
   ]
  },
  {
   "cell_type": "code",
   "execution_count": 39,
   "id": "9a2e9cad",
   "metadata": {},
   "outputs": [
    {
     "name": "stdout",
     "output_type": "stream",
     "text": [
      "Shammunul 37\n"
     ]
    }
   ],
   "source": [
    "// do the following if you have to save the function inside an object as a variable\n",
    "// if we want to bind this to user1 object, we need to use bind method\n",
    "\n",
    "const myFunc13 = user12.about.bind(user12);\n",
    "myFunc13(); // returns Shammunul 37"
   ]
  },
  {
   "cell_type": "code",
   "execution_count": 40,
   "id": "73bbe4b3",
   "metadata": {},
   "outputs": [
    {
     "name": "stdout",
     "output_type": "stream",
     "text": [
      "{ firstName: 'Shammunul', age: 37, about: [Function: about] }\n",
      "Shammunul 37\n"
     ]
    }
   ],
   "source": [
    "// Without arrow function\n",
    "\n",
    "// If the arrow function is not used, then this value will be the object itself where the function is called\n",
    "\n",
    "const user0 = {\n",
    "    firstName: \"Shammunul\",\n",
    "    age: 37,\n",
    "    about: function(){\n",
    "        console.log(this); // this is user0 object\n",
    "        console.log(this.firstName, this.age);\n",
    "    }\n",
    "}\n",
    "\n",
    "user0.about(); // returns Shammunul 37"
   ]
  },
  {
   "cell_type": "markdown",
   "id": "2510e18a",
   "metadata": {},
   "source": [
    "// arrow function\n",
    "\n",
    "// arrow function takes this function from the surrounding\n",
    "// scope, so it is not bound to the function itself\n",
    "\n",
    "```JavaScript\n",
    "const user13  = {\n",
    "    firstName: \"Shammunul\",\n",
    "    age: 37,\n",
    "    about: () => {\n",
    "        console.log(this); // this is window object\n",
    "        console.log(this.firstName, this.age);\n",
    "    }\n",
    "}\n",
    "\n",
    "// here this value is window object\n",
    "user13.about(); // returns window followed by undefined undefined\n",
    "```"
   ]
  },
  {
   "cell_type": "markdown",
   "id": "c261cae3",
   "metadata": {},
   "source": [
    "```JavaScript\n",
    "// For arrow function, even if we use call method, it will not work\n",
    "user1.about.call(user1); // returns window followed by undefined undefined\n",
    "```"
   ]
  },
  {
   "cell_type": "markdown",
   "id": "c5d848a2",
   "metadata": {},
   "source": [
    "```JavaScript\n",
    "user1.about(user1); // returns window followed by undefined undefined\n",
    "```"
   ]
  },
  {
   "cell_type": "code",
   "execution_count": 44,
   "id": "b09d21c0",
   "metadata": {},
   "outputs": [
    {
     "name": "stdout",
     "output_type": "stream",
     "text": [
      "Shammunul 37\n"
     ]
    }
   ],
   "source": [
    "/*\n",
    "const user1  = {\n",
    "    firstName: \"Shammunul\",\n",
    "    age: 37,\n",
    "    about: function(){\n",
    "        //console.log(this); // this is window object\n",
    "        console.log(this.firstName, this.age);\n",
    "    }\n",
    "}\n",
    "*/\n",
    "\n",
    "// The above code is equivalent to the following code\n",
    "\n",
    "const user14  = {\n",
    "    firstName: \"Shammunul\",\n",
    "    age: 37,\n",
    "    about(){\n",
    "        //console.log(this); // this is window object\n",
    "        console.log(this.firstName, this.age);\n",
    "    }\n",
    "}\n",
    "\n",
    "user14.about();"
   ]
  },
  {
   "cell_type": "markdown",
   "id": "70b9ad1d",
   "metadata": {},
   "source": [
    "### Object oriented programming"
   ]
  },
  {
   "cell_type": "code",
   "execution_count": 45,
   "id": "b5b39f88",
   "metadata": {},
   "outputs": [],
   "source": [
    "// Object oriented programming concept starts from here"
   ]
  },
  {
   "cell_type": "code",
   "execution_count": 46,
   "id": "0b18f132",
   "metadata": {},
   "outputs": [],
   "source": [
    "const user = {\n",
    "    firstName: \"Shammunul\",\n",
    "    lastName: \"Islam\",\n",
    "    email: \"sha_is113@yahoo.com\",\n",
    "    age: 37,\n",
    "    address: \"House 40/10, ABCD R/A, Sylhet, Bangladesh\",\n",
    "    about: function(){\n",
    "        return `${this.firstName} is ${this.age} years old`;\n",
    "    },\n",
    "    is18: function(){\n",
    "        return this.age >= 18;\n",
    "    }\n",
    "}"
   ]
  },
  {
   "cell_type": "markdown",
   "id": "90476517",
   "metadata": {},
   "source": [
    "But, if we want to do this for different persons, it will become tedious. A more efficient way is described below.\n",
    "\n",
    "### Factory approach\n",
    "\n",
    "Now we will create a function that will create object, add key value pairs and return that object."
   ]
  },
  {
   "cell_type": "code",
   "execution_count": 47,
   "id": "476c9cef",
   "metadata": {},
   "outputs": [],
   "source": [
    "function createUser(firstName, lastName, email, age, address){\n",
    "    const user = {};\n",
    "    user.firstName = firstName;\n",
    "    user.lastName = lastName;\n",
    "    user.email = email;\n",
    "    user.age = age;\n",
    "    user.address = address;\n",
    "    user.about = function(){\n",
    "        return `${this.firstName} is ${this.age} years old`;\n",
    "    };\n",
    "    user.is18 = function(){\n",
    "        return this.age >= 18;\n",
    "    };\n",
    "    return user;\n",
    "}"
   ]
  },
  {
   "cell_type": "code",
   "execution_count": 49,
   "id": "1e3ee1a6",
   "metadata": {},
   "outputs": [],
   "source": [
    "const user17 = createUser(\"Shammunul\", \"Islam\", \"sha_is13@yahoo.com\", 37, \"ABC R/A\");"
   ]
  },
  {
   "cell_type": "code",
   "execution_count": 50,
   "id": "1bda4ff2",
   "metadata": {},
   "outputs": [
    {
     "name": "stdout",
     "output_type": "stream",
     "text": [
      "{\n",
      "  firstName: 'Shammunul',\n",
      "  lastName: 'Islam',\n",
      "  email: 'sha_is13@yahoo.com',\n",
      "  age: 37,\n",
      "  address: 'ABC R/A',\n",
      "  about: [Function (anonymous)],\n",
      "  is18: [Function (anonymous)]\n",
      "}\n"
     ]
    }
   ],
   "source": [
    "console.log(user17);"
   ]
  },
  {
   "cell_type": "code",
   "execution_count": 51,
   "id": "e9809852",
   "metadata": {},
   "outputs": [
    {
     "name": "stdout",
     "output_type": "stream",
     "text": [
      "true\n"
     ]
    }
   ],
   "source": [
    "const is18 = user17.is18();\n",
    "console.log(is18);"
   ]
  },
  {
   "cell_type": "code",
   "execution_count": 52,
   "id": "c94206b6",
   "metadata": {},
   "outputs": [
    {
     "name": "stdout",
     "output_type": "stream",
     "text": [
      "Shammunul is 37 years old\n"
     ]
    }
   ],
   "source": [
    "const about = user17.about();\n",
    "console.log(about);"
   ]
  },
  {
   "cell_type": "markdown",
   "id": "d84e6bbd",
   "metadata": {},
   "source": [
    "Factory apporach is not a good approach, because it creates a new function for each object.\n",
    "\n",
    "A better approach is to create a new object containing the two common methods."
   ]
  },
  {
   "cell_type": "code",
   "execution_count": 53,
   "id": "3a147e0b",
   "metadata": {},
   "outputs": [],
   "source": [
    "const userMethods = {\n",
    "    about: function(){\n",
    "        return `${this.firstName} is ${this.age} years old`;\n",
    "    },\n",
    "    is18: function(){\n",
    "        return this.age >= 18;\n",
    "    }\n",
    "}\n",
    "\n",
    "function createUser(firstName, lastName, email, age, address){\n",
    "    const user = {};\n",
    "    user.firstName = firstName;\n",
    "    user.lastName = lastName;\n",
    "    user.email = email;\n",
    "    user.age = age;\n",
    "    user.address = address;\n",
    "    user.about = userMethods.about; // we are not calling the function here rather we are pointing to the address of the function\n",
    "    user.is18 = userMethods.is18; // referencing to the function\n",
    "    return user;\n",
    "}"
   ]
  },
  {
   "cell_type": "code",
   "execution_count": 55,
   "id": "232b4ed7",
   "metadata": {},
   "outputs": [
    {
     "name": "stdout",
     "output_type": "stream",
     "text": [
      "Liton is 29 years old\n",
      "Miron is 44 years old\n",
      "true\n"
     ]
    }
   ],
   "source": [
    "const user18 = createUser(\"Liton\", \"Miah\", \"liton22@yahoo.com\", 29, \"Mirpur, Dhaka\");\n",
    "const user19 =  createUser(\"Miron\", \"Manna\", \"miron@gmail.com\", 44, \"Dhanmondi, Dhaka\");\n",
    "console.log(user18.about());\n",
    "console.log(user19.about());\n",
    "console.log(user19.is18())"
   ]
  },
  {
   "cell_type": "markdown",
   "id": "28627894",
   "metadata": {},
   "source": [
    "### A better approach\n",
    "\n",
    "### Object.create()"
   ]
  },
  {
   "cell_type": "code",
   "execution_count": 57,
   "id": "1568acee",
   "metadata": {},
   "outputs": [],
   "source": [
    "const userMethods20 = {\n",
    "    about: function(){\n",
    "        return `${this.firstName} is ${this.age} years old`;\n",
    "    },\n",
    "    is18: function(){\n",
    "        return this.age >= 18;\n",
    "    },\n",
    "    sing: function(){\n",
    "        return \"la la la la\";\n",
    "    }\n",
    "}"
   ]
  },
  {
   "cell_type": "code",
   "execution_count": 58,
   "id": "6d182cd0",
   "metadata": {},
   "outputs": [],
   "source": [
    "function createUser20(firstName, lastName, email, age, address){\n",
    "    const user = Object.create(userMethods);\n",
    "    user.firstName = firstName;\n",
    "    user.lastName = lastName;\n",
    "    user.email = email;\n",
    "    user.age = age;\n",
    "    user.address = address;\n",
    "    return user;\n",
    "}"
   ]
  },
  {
   "cell_type": "code",
   "execution_count": 59,
   "id": "536364c2",
   "metadata": {},
   "outputs": [
    {
     "name": "stdout",
     "output_type": "stream",
     "text": [
      "Liton is 29 years old\n",
      "Miron is 44 years old\n",
      "true\n"
     ]
    }
   ],
   "source": [
    "const user20 = createUser(\"Liton\", \"Miah\", \"liton22@yahoo.com\", 29, \"Mirpur, Dhaka\");\n",
    "const user21 =  createUser(\"Miron\", \"Manna\", \"miron@gmail.com\", 44, \"Dhanmondi, Dhaka\");\n",
    "console.log(user20.about());\n",
    "console.log(user21.about());\n",
    "console.log(user21.is18())"
   ]
  },
  {
   "cell_type": "code",
   "execution_count": 60,
   "id": "77f06ff3",
   "metadata": {},
   "outputs": [
    {
     "name": "stdout",
     "output_type": "stream",
     "text": [
      "value3\n",
      "undefined\n"
     ]
    }
   ],
   "source": [
    "const obj1 = {\n",
    "    key1: 'value1',\n",
    "    key2: 'value2'\n",
    "}\n",
    "\n",
    "const obj2 = {\n",
    "    key3: 'value3',\n",
    "}\n",
    "\n",
    "console.log(obj2.key3); // prints value3\n",
    "console.log(obj2.key1); // prints undefined"
   ]
  },
  {
   "cell_type": "markdown",
   "id": "fc877a6d",
   "metadata": {},
   "source": [
    "we want to see that if key1 is in obj3 and if it is not there go to obj1 and get the value of key1"
   ]
  },
  {
   "cell_type": "code",
   "execution_count": 61,
   "id": "a56a8613",
   "metadata": {},
   "outputs": [
    {
     "name": "stdout",
     "output_type": "stream",
     "text": [
      "value1\n"
     ]
    }
   ],
   "source": [
    "const obj3 = Object.create(obj1); // creates an empty object\n",
    "// console.log(obj3);\n",
    "obj3.key3 = \"value3\";\n",
    "console.log(obj3.key1); // prints value1 from obj1"
   ]
  },
  {
   "cell_type": "code",
   "execution_count": 62,
   "id": "a3fce0e2",
   "metadata": {},
   "outputs": [
    {
     "name": "stdout",
     "output_type": "stream",
     "text": [
      "unique\n",
      "{ key3: 'value3', key2: 'unique' }\n"
     ]
    }
   ],
   "source": [
    "obj3.key2 = \"unique\";\n",
    "console.log(obj3.key2); // prints unique\n",
    "console.log(obj3);"
   ]
  },
  {
   "cell_type": "markdown",
   "id": "8d15bea5",
   "metadata": {},
   "source": [
    "Note that `key1` is not here."
   ]
  },
  {
   "cell_type": "markdown",
   "id": "bc6a2847",
   "metadata": {},
   "source": [
    "We will see the following in a browser if we see the output of `console.log(obj3)`."
   ]
  },
  {
   "cell_type": "markdown",
   "id": "8ee8ad2c",
   "metadata": {},
   "source": [
    "![](1.png)"
   ]
  },
  {
   "cell_type": "markdown",
   "id": "2154989e",
   "metadata": {},
   "source": [
    "`__proto__` is a property of an object also written as `[[prototype]]` in some versions of javascript. It is a reference to the object that is used as a prototype."
   ]
  },
  {
   "cell_type": "code",
   "execution_count": 63,
   "id": "dab8cf5c",
   "metadata": {},
   "outputs": [
    {
     "name": "stdout",
     "output_type": "stream",
     "text": [
      "{ key1: 'value1', key2: 'value2' }\n"
     ]
    }
   ],
   "source": [
    "console.log(obj3.__proto__); // prints { key1: 'value1', key2: 'value2' } "
   ]
  },
  {
   "cell_type": "markdown",
   "id": "bccdc9c7",
   "metadata": {},
   "source": [
    "* `prototype` is different than `__proto__` or `[[prototype]]`\n",
    "\n",
    "* `prototype` is a property of a function\n",
    "\n",
    "* `__proto__` is a property of an object -- also known as dunderscore proto\n",
    "\n",
    "* `[[prototype]]` is a property of an object\n",
    "\n",
    "* `__proto__` is a reference while prototype is an object of function\n",
    "\n",
    "* `proto` is a reference to the chain being created"
   ]
  },
  {
   "cell_type": "code",
   "execution_count": 66,
   "id": "6b081640",
   "metadata": {},
   "outputs": [],
   "source": [
    "const userMethods22 = {\n",
    "    about: function(){\n",
    "        return `${this.firstName} is ${this.age} years old`;\n",
    "    },\n",
    "    is18: function(){\n",
    "        return this.age >= 18;\n",
    "    },\n",
    "    sing: function(){\n",
    "        return \"la la la la\";\n",
    "    }\n",
    "}\n",
    "\n",
    "function createUser22(firstName, lastName, email, age, address){\n",
    "    const user = Object.create(userMethods22);\n",
    "    user.firstName = firstName;\n",
    "    user.lastName = lastName;\n",
    "    user.email = email;\n",
    "    user.age = age;\n",
    "    user.address = address;\n",
    "    return user;\n",
    "}"
   ]
  },
  {
   "cell_type": "markdown",
   "id": "6a42560f",
   "metadata": {},
   "source": [
    "The line `const user = Object.create(userMethods22)`; creates a new object user and sets its prototype to the userMethods object.\n",
    "\n",
    "The `Object.create()` method creates a new object and sets its prototype to the object passed as an argument. In this case, we're passing the `userMethods22` object as the argument, so the `user` object will inherit all the properties and methods defined on the userMethods object.\n",
    "\n",
    "By setting the user object's prototype to `userMethods22`, we're creating a \"prototype chain\". This means that when we call a method on the `user` object, JavaScript first looks for the method on the `user` object itself. If the method isn't found, JavaScript looks for the method on the user object's prototype (`userMethods22`). If the method still isn't found, JavaScript continues up the prototype chain until it reaches the Object.prototype object, which is the default prototype for all objects in JavaScript.\n",
    "\n",
    "In this example, we're using the `Object.create()` method to create a new user object with its prototype set to `userMethods`. This means that the `user` object will inherit the `about()`, `is18()`, and `sing()` methods defined on `userMethods`, and we can call these methods on the `user` object as if they were defined directly on the `user` object itself."
   ]
  },
  {
   "cell_type": "code",
   "execution_count": 69,
   "id": "b5d61d3c",
   "metadata": {},
   "outputs": [],
   "source": [
    "const user23 = createUser22(\"Liton\", \"Miah\", \"liton22@yahoo.com\", 29, \"Mirpur, Dhaka\");\n",
    "const user24 =  createUser22(\"Miron\", \"Manna\", \"miron@gmail.com\", 44, \"Dhanmondi, Dhaka\");"
   ]
  },
  {
   "cell_type": "code",
   "execution_count": 70,
   "id": "978d6d71",
   "metadata": {},
   "outputs": [
    {
     "name": "stdout",
     "output_type": "stream",
     "text": [
      "Liton is 29 years old\n"
     ]
    }
   ],
   "source": [
    "console.log(user23.about());"
   ]
  },
  {
   "cell_type": "code",
   "execution_count": 71,
   "id": "b196bb6f",
   "metadata": {},
   "outputs": [
    {
     "name": "stdout",
     "output_type": "stream",
     "text": [
      "Miron is 44 years old\n"
     ]
    }
   ],
   "source": [
    "console.log(user24.about());"
   ]
  },
  {
   "cell_type": "code",
   "execution_count": 72,
   "id": "e3f06e14",
   "metadata": {},
   "outputs": [
    {
     "name": "stdout",
     "output_type": "stream",
     "text": [
      "true\n"
     ]
    }
   ],
   "source": [
    "console.log(user24.is18())"
   ]
  },
  {
   "cell_type": "code",
   "execution_count": 73,
   "id": "68c0b4dd",
   "metadata": {},
   "outputs": [
    {
     "name": "stdout",
     "output_type": "stream",
     "text": [
      "{\n",
      "  firstName: 'Liton',\n",
      "  lastName: 'Miah',\n",
      "  email: 'liton22@yahoo.com',\n",
      "  age: 29,\n",
      "  address: 'Mirpur, Dhaka'\n",
      "}\n"
     ]
    }
   ],
   "source": [
    "console.log(user23);"
   ]
  },
  {
   "cell_type": "markdown",
   "id": "8a3d4827",
   "metadata": {},
   "source": [
    "### Prototype property of function"
   ]
  },
  {
   "cell_type": "markdown",
   "id": "11d00562",
   "metadata": {},
   "source": [
    "In JavaScript, every function is an object, and like any object, it has properties and methods. One of those properties is the prototype property. The prototype property of a function is used to add properties and methods to all instances of the function.\n",
    "\n",
    "The prototype property is an object that will become the prototype of any objects created using the function as a constructor. This means that any properties or methods added to the prototype will be shared by all instances of the function."
   ]
  },
  {
   "cell_type": "code",
   "execution_count": 74,
   "id": "51749c2c",
   "metadata": {},
   "outputs": [],
   "source": [
    "function hello(){\n",
    "    console.log(\"Hello world!\");\n",
    "}"
   ]
  },
  {
   "cell_type": "code",
   "execution_count": 75,
   "id": "d07179ac",
   "metadata": {},
   "outputs": [
    {
     "name": "stdout",
     "output_type": "stream",
     "text": [
      "hello.myProperty = Property defined by me\n"
     ]
    }
   ],
   "source": [
    "// js function -- function + object\n",
    "\n",
    "// console.log(hello.name); -- function name\n",
    "\n",
    "// add your own properties\n",
    "\n",
    "hello.myProperty = \"Property defined by me\";\n",
    "console.log(\"hello.myProperty = \" + hello.myProperty);"
   ]
  },
  {
   "cell_type": "code",
   "execution_count": 76,
   "id": "07fdbd4c",
   "metadata": {},
   "outputs": [
    {
     "name": "stdout",
     "output_type": "stream",
     "text": [
      "{}\n"
     ]
    }
   ],
   "source": [
    "// only functions provide prototype property\n",
    "\n",
    "console.log(hello.prototype); // returns constructor function"
   ]
  },
  {
   "cell_type": "markdown",
   "id": "aa217f77",
   "metadata": {},
   "source": [
    "We will see the following in a browser if we see the output of `console.log(hello.prototype);`."
   ]
  },
  {
   "cell_type": "markdown",
   "id": "7d6fdd2d",
   "metadata": {},
   "source": [
    "![](2_2.png)"
   ]
  },
  {
   "cell_type": "code",
   "execution_count": 77,
   "id": "891137fc",
   "metadata": {},
   "outputs": [
    {
     "name": "stdout",
     "output_type": "stream",
     "text": [
      "abc\n",
      "xyz\n",
      "la la la\n"
     ]
    }
   ],
   "source": [
    "hello.prototype.abc = \"abc\";\n",
    "console.log(hello.prototype.abc);\n",
    "\n",
    "hello.prototype.xyz = \"xyz\";\n",
    "console.log(hello.prototype.xyz);\n",
    "\n",
    "hello.prototype.sing = function(){\n",
    "    return \"la la la\";\n",
    "}\n",
    "console.log(hello.prototype.sing());"
   ]
  },
  {
   "cell_type": "markdown",
   "id": "78caafba",
   "metadata": {},
   "source": [
    "proto is property of object and it is a reference to an object"
   ]
  },
  {
   "cell_type": "markdown",
   "id": "6ff89856",
   "metadata": {},
   "source": [
    "We will add the functionalities of the `userMethods` object to the prototype of the `createUser` function. `prototype` is simply an object"
   ]
  },
  {
   "cell_type": "code",
   "execution_count": 78,
   "id": "3e083d52",
   "metadata": {},
   "outputs": [],
   "source": [
    "// createUser is a constructor function\n",
    "function createUser(firstName, lastName, email, age, address){\n",
    "    // creates a new object user and sets its prototype to the createUser.prototype object\n",
    "    // __proto__ is being set to the prototype of the createUser function\n",
    "    const user = Object.create(createUser.prototype); // create sets the proto's value. Here it sets to prototype of createUser function\n",
    "    // proto is a reference to the chain being created\n",
    "    // In this case, proto will be an object\n",
    "\n",
    "    user.firstName = firstName;\n",
    "    user.lastName = lastName;\n",
    "    user.email = email;\n",
    "    user.age = age;\n",
    "    user.address = address;\n",
    "    return user;\n",
    "}"
   ]
  },
  {
   "cell_type": "markdown",
   "id": "d01cabcd",
   "metadata": {},
   "source": [
    "The line `const user = Object.create(createUser.prototype);` creates a new object user and sets its prototype to the `createUser.prototype` object.\n",
    "\n",
    "In JavaScript, every function has a special prototype property that is used as the prototype for objects created using the function as a constructor. When you create a new object using the new keyword and a constructor function, the object's prototype is automatically set to the constructor's prototype property.\n",
    "\n",
    "In this example, we're creating a new object `user` that has its prototype set to `createUser.prototype`. This means that the `user` object will inherit any properties or methods defined on `createUser.prototype`.\n",
    "\n",
    "The `Object.create()` method is used to create a new object and set its prototype to a specific object. In this case, we're passing `createUser.prototype` as the argument to `Object.create()`, so the `user` object will inherit from `createUser.prototype`.\n",
    "\n",
    "By setting the user object's prototype to `createUser.prototype`, we're creating a prototype chain that allows us to define shared methods and properties for all objects created using the `createUser` constructor function.\n",
    "\n",
    "In this example, `createUser.prototype` is an object that can be used to define shared methods and properties for all `user` objects created using the `createUser` constructor function. This means that any methods or properties defined on `createUser.prototype` will be inherited by all user objects created using the `createUser` constructor function."
   ]
  },
  {
   "cell_type": "code",
   "execution_count": 79,
   "id": "79c84ad8",
   "metadata": {},
   "outputs": [
    {
     "data": {
      "text/plain": [
       "[Function (anonymous)]"
      ]
     },
     "execution_count": 79,
     "metadata": {},
     "output_type": "execute_result"
    }
   ],
   "source": [
    "createUser.prototype.about = function(){\n",
    "    return `${this.firstName} is ${this.age} years old`;\n",
    "}\n",
    "\n",
    "createUser.prototype.is18 = function(){\n",
    "    return this.age >= 18;\n",
    "}\n",
    "\n",
    "createUser.prototype.sing = function(){\n",
    "    return \"la la la la\";\n",
    "}"
   ]
  },
  {
   "cell_type": "code",
   "execution_count": 80,
   "id": "5af43ca3",
   "metadata": {},
   "outputs": [
    {
     "name": "stdout",
     "output_type": "stream",
     "text": [
      "{\n",
      "  about: [Function (anonymous)],\n",
      "  is18: [Function (anonymous)],\n",
      "  sing: [Function (anonymous)]\n",
      "}\n"
     ]
    }
   ],
   "source": [
    "console.log(createUser.prototype);"
   ]
  },
  {
   "cell_type": "code",
   "execution_count": 81,
   "id": "30994cac",
   "metadata": {},
   "outputs": [
    {
     "name": "stdout",
     "output_type": "stream",
     "text": [
      "createUser {\n",
      "  firstName: 'Liton',\n",
      "  lastName: 'Miah',\n",
      "  email: 'liton22@yahoo.com',\n",
      "  age: 29,\n",
      "  address: 'Mirpur, Dhaka'\n",
      "}\n",
      "Liton is 29 years old\n",
      "Miron is 44 years old\n",
      "true\n",
      "la la la la\n"
     ]
    }
   ],
   "source": [
    "const user28 = createUser(\"Liton\", \"Miah\", \"liton22@yahoo.com\", 29, \"Mirpur, Dhaka\");\n",
    "const user29 =  createUser(\"Miron\", \"Manna\", \"miron@gmail.com\", 44, \"Dhanmondi, Dhaka\");\n",
    "console.log(user28);\n",
    "console.log(user28.about());\n",
    "console.log(user29.about());\n",
    "console.log(user29.is18())\n",
    "\n",
    "console.log(user28.sing())"
   ]
  },
  {
   "cell_type": "markdown",
   "id": "11aca272",
   "metadata": {},
   "source": [
    "### `new`\n",
    "\n",
    "`new` keyword -- creates empty object "
   ]
  },
  {
   "cell_type": "code",
   "execution_count": 82,
   "id": "80d44e57",
   "metadata": {},
   "outputs": [
    {
     "data": {
      "text/plain": [
       "[Function (anonymous)]"
      ]
     },
     "execution_count": 82,
     "metadata": {},
     "output_type": "execute_result"
    }
   ],
   "source": [
    "function createUser(firstName, age){\n",
    "    this.firstName = firstName;\n",
    "    this.age = age;\n",
    "}\n",
    "\n",
    "createUser.prototype.about = function(){\n",
    "    console.log(`${this.firstName} is ${this.age} years old`);\n",
    "}"
   ]
  },
  {
   "cell_type": "code",
   "execution_count": 83,
   "id": "d2d9c15d",
   "metadata": {},
   "outputs": [
    {
     "name": "stdout",
     "output_type": "stream",
     "text": [
      "createUser { firstName: 'John', age: 25 }\n"
     ]
    }
   ],
   "source": [
    "// Object.create(createUser.prototype) -- this work is automatically done by the new keyword\n",
    "// But, we had to do it separately in the previous file\n",
    "const user31 = new createUser('John', 25);\n",
    "console.log(user31); // returns createUser {firstName: \"John\", age: 25}"
   ]
  },
  {
   "cell_type": "code",
   "execution_count": 84,
   "id": "e6718aed",
   "metadata": {},
   "outputs": [
    {
     "name": "stdout",
     "output_type": "stream",
     "text": [
      "John is 25 years old\n",
      "undefined\n"
     ]
    }
   ],
   "source": [
    "// this is why, we don't need to do this \"Object.create(createUser.prototype)\"\n",
    "// before calling the about method\n",
    "\n",
    "console.log(user31.about())"
   ]
  },
  {
   "cell_type": "markdown",
   "id": "3b2e99bd",
   "metadata": {},
   "source": [
    "### Constructor function"
   ]
  },
  {
   "cell_type": "markdown",
   "id": "352baf65",
   "metadata": {},
   "source": [
    "In JavaScript, a constructor function is a special function that is used to create and initialize objects. The purpose of a constructor function is to provide a blueprint for creating new objects of a specific type.\n",
    "\n",
    "To create a constructor function, you can define a function with a capitalized name, which conventionally indicates that it is a constructor function. Within the constructor function, you can use the \"this\" keyword to define properties and methods that will be associated with instances of the object created by the constructor."
   ]
  },
  {
   "cell_type": "code",
   "execution_count": 85,
   "id": "b6ba6d73",
   "metadata": {},
   "outputs": [],
   "source": [
    "// constructor function name should start with capital letter and should be in camel case\n",
    "\n",
    "// constructor function \n",
    "function CreateUser(firstName, lastName, email, age, address){\n",
    "    // using new to create new empty object will set something like \"this = {}\" here\n",
    "    // that's why the following line is not needed\n",
    "    //const user = Object.create(createUser.prototype)\n",
    "    // and because of the new keyword, we can just use this to set the properties\n",
    "    // and this is different than what we have done \n",
    "    // previously (or, in file58.js)\n",
    "    this.firstName = firstName;\n",
    "    this.lastName = lastName;\n",
    "    this.email = email;\n",
    "    this.age = age;\n",
    "    this.address = address;\n",
    "    // we can write \"\"return this;\"\" here but it is not needed\n",
    "}"
   ]
  },
  {
   "cell_type": "code",
   "execution_count": 86,
   "id": "e29daa27",
   "metadata": {},
   "outputs": [
    {
     "data": {
      "text/plain": [
       "[Function (anonymous)]"
      ]
     },
     "execution_count": 86,
     "metadata": {},
     "output_type": "execute_result"
    }
   ],
   "source": [
    "CreateUser.prototype.about = function(){\n",
    "    return `${this.firstName} is ${this.age} years old.`;\n",
    "};\n",
    "CreateUser.prototype.is18 = function (){\n",
    "    return this.age >= 18; \n",
    "}\n",
    "CreateUser.prototype.sing = function (){\n",
    "    return \"la la la la \";\n",
    "}"
   ]
  },
  {
   "cell_type": "code",
   "execution_count": 88,
   "id": "f57fde72",
   "metadata": {},
   "outputs": [
    {
     "name": "stdout",
     "output_type": "stream",
     "text": [
      "CreateUser {\n",
      "  firstName: 'harshit',\n",
      "  lastName: 'vashsith',\n",
      "  email: 'harshit@gmail.com',\n",
      "  age: 18,\n",
      "  address: 'my address'\n",
      "}\n",
      "true\n"
     ]
    }
   ],
   "source": [
    "const user34 = new CreateUser('harshit', 'vashsith', 'harshit@gmail.com', 18, \"my address\");\n",
    "const user35 = new CreateUser('harsh', 'vashsith', 'harshit@gmail.com', 19, \"my address\");\n",
    "const user36 = new CreateUser('mohit', 'vashsitha', 'harshit@gmail.com', 17, \"my address\");\n",
    "console.log(user34);\n",
    "console.log(user34.is18());"
   ]
  },
  {
   "cell_type": "code",
   "execution_count": 89,
   "id": "b1c4757a",
   "metadata": {},
   "outputs": [
    {
     "name": "stdout",
     "output_type": "stream",
     "text": [
      "firstName\n",
      "lastName\n",
      "email\n",
      "age\n",
      "address\n",
      "about\n",
      "is18\n",
      "sing\n"
     ]
    }
   ],
   "source": [
    "for(let key in user34){\n",
    "    console.log(key); // will print all the properties of user1, even in the prototypes\n",
    "}"
   ]
  },
  {
   "cell_type": "code",
   "execution_count": 91,
   "id": "5b7efa0b",
   "metadata": {},
   "outputs": [
    {
     "name": "stdout",
     "output_type": "stream",
     "text": [
      "firstName\n",
      "lastName\n",
      "email\n",
      "age\n",
      "address\n"
     ]
    }
   ],
   "source": [
    "// we can also use the following method to get all the properties of an object\n",
    "// but this will not print the properties of the prototypes\n",
    "\n",
    "for(let key in user34){\n",
    "    if (user34.hasOwnProperty(key)){\n",
    "        console.log(key);\n",
    "    }\n",
    "}"
   ]
  },
  {
   "cell_type": "code",
   "execution_count": 92,
   "id": "db29acef",
   "metadata": {},
   "outputs": [
    {
     "name": "stdout",
     "output_type": "stream",
     "text": [
      "Object(0) []\n"
     ]
    }
   ],
   "source": [
    "let numbers = [1, 2, 3];\n",
    "console.log(Array.prototype);\n",
    "// In fact, Array is called internally by JS as new Array()\n",
    "// and thus we get prototype of Array"
   ]
  },
  {
   "cell_type": "markdown",
   "id": "c4fecce6",
   "metadata": {},
   "source": [
    "We will see the following in a browser if we see the output of `console.log(Array.prototype);`."
   ]
  },
  {
   "cell_type": "markdown",
   "id": "ef140a75",
   "metadata": {},
   "source": [
    "![](3.png)"
   ]
  },
  {
   "cell_type": "code",
   "execution_count": 93,
   "id": "ad7cceda",
   "metadata": {},
   "outputs": [
    {
     "name": "stdout",
     "output_type": "stream",
     "text": [
      "Object(0) []\n"
     ]
    }
   ],
   "source": [
    "console.log(Object.getPrototypeOf(numbers)); // "
   ]
  },
  {
   "cell_type": "markdown",
   "id": "6afe7e86",
   "metadata": {},
   "source": [
    "The above code will also similar out put in the console as can be seen in the above image."
   ]
  },
  {
   "cell_type": "code",
   "execution_count": 94,
   "id": "c7fc4053",
   "metadata": {},
   "outputs": [
    {
     "name": "stdout",
     "output_type": "stream",
     "text": [
      "{}\n"
     ]
    }
   ],
   "source": [
    "function hello(){\n",
    "    console.log(\"Hello\");\n",
    "}\n",
    "\n",
    "console.log(Object.getPrototypeOf(hello)); //"
   ]
  },
  {
   "cell_type": "markdown",
   "id": "998f5af6",
   "metadata": {},
   "source": [
    "We will see the following in the console of a browser "
   ]
  },
  {
   "cell_type": "markdown",
   "id": "e6437a0a",
   "metadata": {},
   "source": [
    "![](4.png)"
   ]
  },
  {
   "cell_type": "code",
   "execution_count": 95,
   "id": "0d65f4f7",
   "metadata": {},
   "outputs": [
    {
     "name": "stdout",
     "output_type": "stream",
     "text": [
      "{}\n"
     ]
    }
   ],
   "source": [
    "console.log(hello.prototype);"
   ]
  },
  {
   "cell_type": "markdown",
   "id": "e7c2c2e0",
   "metadata": {},
   "source": [
    "We will see the following in the console of a browser "
   ]
  },
  {
   "cell_type": "markdown",
   "id": "3ec16b13",
   "metadata": {},
   "source": [
    "![](5.png)"
   ]
  },
  {
   "cell_type": "markdown",
   "id": "1bf02c08",
   "metadata": {},
   "source": [
    "```JavaScript\n",
    "hello.prototype.push('1');\n",
    "console.log(hello.prototype);\n",
    "```"
   ]
  },
  {
   "cell_type": "markdown",
   "id": "aa5f6468",
   "metadata": {},
   "source": [
    "The above will show the output below in the console of a browser:"
   ]
  },
  {
   "cell_type": "markdown",
   "id": "bcebbd29",
   "metadata": {},
   "source": [
    "![](6.png)"
   ]
  },
  {
   "cell_type": "markdown",
   "id": "68e99e75",
   "metadata": {},
   "source": [
    "We have already done this:\n",
    "\n",
    "```JavaScript\n",
    "function CreateUser(firstName, lastName, email, age, address){\n",
    "    this.firstName = firstName;\n",
    "    this.lastName = lastName;\n",
    "    this.email = email;\n",
    "    this.age = age;\n",
    "    this.address = address;\n",
    "    // we can write \"\"return this;\"\" here but it is not needed\n",
    "}\n",
    "CreateUser.prototype.about = function(){\n",
    "    return `${this.firstName} is ${this.age} years old.`;\n",
    "};\n",
    "CreateUser.prototype.is18 = function (){\n",
    "    return this.age >= 18; \n",
    "}\n",
    "CreateUser.prototype.sing = function (){\n",
    "    return \"la la la la \";\n",
    "}\n",
    "\n",
    "\n",
    "const user1 = new CreateUser('harshit', 'vashsith', 'harshit@gmail.com', 18, \"my address\");\n",
    "const user2 = new CreateUser('harsh', 'vashsith', 'harshit@gmail.com', 19, \"my address\");\n",
    "const user3 = new CreateUser('mohit', 'vashsitha', 'harshit@gmail.com', 17, \"my address\");\n",
    "```"
   ]
  },
  {
   "cell_type": "markdown",
   "id": "8bc536c3",
   "metadata": {},
   "source": [
    "But, we can also do this using `class`. "
   ]
  },
  {
   "cell_type": "markdown",
   "id": "c738c25a",
   "metadata": {},
   "source": [
    "classes are fake in JS, but they are useful for documentation"
   ]
  },
  {
   "cell_type": "code",
   "execution_count": 98,
   "id": "d3ae60d5",
   "metadata": {},
   "outputs": [],
   "source": [
    "class CreateUser30{\n",
    "    constructor(firstName, lastName, email, age, address){\n",
    "        this.firsName = firstName;\n",
    "        this.lastName = lastName;\n",
    "        this.email;\n",
    "        this.age = age;\n",
    "        this.address = address;\n",
    "    }\n",
    "    \n",
    "    about(){\n",
    "        return `${this.firstName} is ${this.age} years old.`;\n",
    "    }\n",
    "    \n",
    "    is18(){\n",
    "        return this.age >= 18;\n",
    "    }\n",
    "    \n",
    "    sing(){\n",
    "        return \"la la la la\";\n",
    "    }\n",
    "}"
   ]
  },
  {
   "cell_type": "code",
   "execution_count": 99,
   "id": "df6e781c",
   "metadata": {},
   "outputs": [],
   "source": [
    "const user41 = new CreateUser('harshit', 'vashsith', 'harshit@gmail.com', 18, \"my address\");\n",
    "const user42 = new CreateUser('harsh', 'vashsith', 'harshit@gmail.com', 19, \"my address\");\n",
    "const user43 = new CreateUser('mohit', 'vashsitha', 'harshit@gmail.com', 17, \"my address\");"
   ]
  },
  {
   "cell_type": "code",
   "execution_count": 100,
   "id": "174b3b93",
   "metadata": {},
   "outputs": [
    {
     "name": "stdout",
     "output_type": "stream",
     "text": [
      "harshit is 18 years old.\n"
     ]
    }
   ],
   "source": [
    "console.log(user41.about());"
   ]
  },
  {
   "cell_type": "markdown",
   "id": "db3684f8",
   "metadata": {},
   "source": [
    "### class inheritance\n",
    "\n",
    "### extends"
   ]
  },
  {
   "cell_type": "markdown",
   "id": "cbc49bdf",
   "metadata": {},
   "source": [
    "In JavaScript, the `extends` keyword is used to create a new class that is a child or subclass of an existing class. This is known as class inheritance.\n",
    "\n",
    "The syntax for creating a subclass using the `extends` keyword is as follows:\n",
    "\n",
    "```JavaScript\n",
    "class Subclass extends Superclass {\n",
    "  // subclass definition goes here\n",
    "}\n",
    "\n",
    "```"
   ]
  },
  {
   "cell_type": "markdown",
   "id": "70404f9e",
   "metadata": {},
   "source": [
    "In this syntax, the `Subclass` is the new class that is being created, and `Superclass` is the class that the new class is inheriting from. The subclass definition goes inside the curly braces.\n",
    "\n",
    "By using `extends`, the subclass inherits all of the properties and methods of the superclass, and can also add new properties and methods, or override existing ones. This allows for code reuse and helps to keep the code organized.\n",
    "\n",
    "Here is an example of using `extends` to create a subclass of a Person class:"
   ]
  },
  {
   "cell_type": "code",
   "execution_count": 104,
   "id": "e08baf21",
   "metadata": {},
   "outputs": [
    {
     "name": "stdout",
     "output_type": "stream",
     "text": [
      "Hello, my name is John and I am 15 years old.\n",
      "John is studying for the 9th grade.\n"
     ]
    }
   ],
   "source": [
    "class Person {\n",
    "  constructor(name, age) {\n",
    "    this.name = name;\n",
    "    this.age = age;\n",
    "  }\n",
    "\n",
    "  greet() {\n",
    "    console.log(\"Hello, my name is \" + this.name + \" and I am \" + this.age + \" years old.\");\n",
    "  }\n",
    "}\n",
    "\n",
    "class Student extends Person {\n",
    "  constructor(name, age, grade) {\n",
    "    super(name, age);\n",
    "    this.grade = grade;\n",
    "  }\n",
    "\n",
    "  study() {\n",
    "    console.log(this.name + \" is studying for the \" + this.grade + \" grade.\");\n",
    "  }\n",
    "}\n",
    "\n",
    "var john = new Student(\"John\", 15, \"9th\");\n",
    "\n",
    "john.greet(); // outputs \"Hello, my name is John and I am 15 years old.\"\n",
    "john.study(); // outputs \"John is studying for the 9th grade.\"\n"
   ]
  },
  {
   "cell_type": "markdown",
   "id": "4b18ae1f",
   "metadata": {},
   "source": [
    "In this example, the `Student` class is created as a subclass of the `Person` class using the `extends` keyword. The `Student` class has a new property `grade` and a new method `study`, while still inheriting the `name`, `age` and `greet` method from the Person class.\n",
    "\n",
    "The `super` keyword is used in the constructor of the `Student` class to call the constructor of the `Person` class and pass in the `name` and `age` arguments. This ensures that the `name` and `age` properties are initialized properly in the `Student` object."
   ]
  },
  {
   "cell_type": "code",
   "execution_count": 101,
   "id": "a2cab27f",
   "metadata": {},
   "outputs": [],
   "source": [
    "class Animal{\n",
    "    constructor(name, age){\n",
    "        this.name = name;\n",
    "        this.age = age;\n",
    "    }\n",
    "\n",
    "    eat(){\n",
    "        return `${this.name} is eating`;\n",
    "    }\n",
    "\n",
    "    isSuperCute(){\n",
    "        return this.age <= 1;\n",
    "    }\n",
    "\n",
    "    isCute(){\n",
    "        return true\n",
    "    }\n",
    "}"
   ]
  },
  {
   "cell_type": "code",
   "execution_count": 102,
   "id": "3aae56cc",
   "metadata": {},
   "outputs": [],
   "source": [
    "class Dog extends Animal{\n",
    "\n",
    "}"
   ]
  },
  {
   "cell_type": "code",
   "execution_count": 103,
   "id": "7e7f2969",
   "metadata": {},
   "outputs": [
    {
     "name": "stdout",
     "output_type": "stream",
     "text": [
      "Dog { name: 'tommy', age: 3 }\n",
      "true\n"
     ]
    }
   ],
   "source": [
    "const tommy = new Dog(\"tommy\", 3);\n",
    "console.log(tommy);\n",
    "console.log(tommy.isCute());"
   ]
  },
  {
   "cell_type": "code",
   "execution_count": 106,
   "id": "10b7c13c",
   "metadata": {},
   "outputs": [
    {
     "name": "stdout",
     "output_type": "stream",
     "text": [
      "tommy is running at 44 km/hr\n"
     ]
    }
   ],
   "source": [
    "// super\n",
    "class Animal3{\n",
    "    constructor(name, age){\n",
    "        this.name = name;\n",
    "        this.age = age;\n",
    "    }\n",
    "\n",
    "    eat(){\n",
    "        return `${this.name} is eating`;\n",
    "    }\n",
    "\n",
    "    isSuperCute(){\n",
    "        return this.age <= 1;\n",
    "    }\n",
    "\n",
    "    isCute(){\n",
    "        return true;\n",
    "    }\n",
    "}\n",
    "\n",
    "class Dog3 extends Animal3{\n",
    "    constructor(name, age, speed){\n",
    "        super(name, age)\n",
    "        this.speed = speed;\n",
    "    }\n",
    "\n",
    "    run(){\n",
    "        return `${this.name} is running at ${this.speed} km/hr`;\n",
    "    }\n",
    "}\n",
    "\n",
    "// objects/instances\n",
    "\n",
    "const tommy3 = new Dog3(\"tommy\", 3, 44);\n",
    "console.log(tommy3.run());"
   ]
  },
  {
   "cell_type": "markdown",
   "id": "12387cb1",
   "metadata": {},
   "source": [
    "### Getter and setter methods"
   ]
  },
  {
   "cell_type": "markdown",
   "id": "336df1e2",
   "metadata": {},
   "source": [
    "In JavaScript, getter and setter methods are used to get and set the values of an object's properties. They are typically used within classes to provide a way to access and manipulate the internal state of an object, while still maintaining control over how that state is accessed and modified from outside the class.\n",
    "\n",
    "Getter methods are used to get the value of a property, while setter methods are used to set the value of a property. They are defined using the `get` and `set` keywords respectively, followed by the name of the property. Here is an example:"
   ]
  },
  {
   "cell_type": "code",
   "execution_count": 110,
   "id": "fc9f8b38",
   "metadata": {},
   "outputs": [],
   "source": [
    "class Person4{\n",
    "    constructor(firstName, lastName, age){\n",
    "        this.firstName = firstName;\n",
    "        this.lastName = lastName;\n",
    "        this.age = age;\n",
    "    }\n",
    "\n",
    "    // By using get\n",
    "    // we can use fullName like property\n",
    "    // now, we don't need to call it like function or use ()\n",
    "    // person.fullName will give back the full name\n",
    "    // we can call this later without ()\n",
    "    get fullName(){\n",
    "        return `${this.firstName} ${this.lastName}`;\n",
    "    }\n",
    "\n",
    "    // By using set, we can set the value of \n",
    "    // the property\n",
    "    // now we can call this like property\n",
    "    // we can call this later without ()\n",
    "    set fullName(fullName){\n",
    "        const [firstName, secondName] = fullName.split(\" \");\n",
    "        this.firstName = firstName;\n",
    "        this.lastName = secondName;\n",
    "    }\n",
    "\n",
    "    setName(firstName, lastName){\n",
    "        this.firstName = firstName;\n",
    "        this.lastName = lastName;\n",
    "    }\n",
    "}"
   ]
  },
  {
   "cell_type": "code",
   "execution_count": 111,
   "id": "dd06b943",
   "metadata": {},
   "outputs": [
    {
     "name": "stdout",
     "output_type": "stream",
     "text": [
      "harshit vashsith\n"
     ]
    }
   ],
   "source": [
    "const person13 = new Person4(\"harshit\", \"vashsith\", 18);\n",
    "// console.log(person1.fullName()); // will give error\n",
    "\n",
    "// will give the full name without using () -- this is due to the get method\n",
    "console.log(person13.fullName); "
   ]
  },
  {
   "cell_type": "code",
   "execution_count": 112,
   "id": "ae106585",
   "metadata": {},
   "outputs": [
    {
     "name": "stdout",
     "output_type": "stream",
     "text": [
      "Person4 { firstName: 'Motin', lastName: 'Miah', age: 18 }\n",
      "Motin Miah\n",
      "Motin\n"
     ]
    }
   ],
   "source": [
    "person13.fullName = \"Motin Miah\"; // this is due to the set method\n",
    "console.log(person13);\n",
    "console.log(person13.fullName);\n",
    "console.log(person13.firstName);"
   ]
  },
  {
   "cell_type": "code",
   "execution_count": 118,
   "id": "27f2c23a",
   "metadata": {},
   "outputs": [],
   "source": [
    "person13.setName(\"Poran Theon\", \"Dilan\")"
   ]
  },
  {
   "cell_type": "code",
   "execution_count": 119,
   "id": "30900abe",
   "metadata": {},
   "outputs": [
    {
     "name": "stdout",
     "output_type": "stream",
     "text": [
      "Person4 { firstName: 'Poran Theon', lastName: 'Dilan', age: 18 }\n",
      "Poran Theon Dilan\n",
      "Poran Theon\n"
     ]
    }
   ],
   "source": [
    "console.log(person13);\n",
    "console.log(person13.fullName);\n",
    "console.log(person13.firstName);"
   ]
  },
  {
   "cell_type": "code",
   "execution_count": 117,
   "id": "492e29be",
   "metadata": {},
   "outputs": [
    {
     "name": "stdout",
     "output_type": "stream",
     "text": [
      "Person4 { firstName: 'Thierry', lastName: 'Henry', age: 18 }\n",
      "Thierry Henry\n",
      "Thierry\n"
     ]
    }
   ],
   "source": [
    "person13.fullName = \"Thierry Henry\"\n",
    "console.log(person13);\n",
    "console.log(person13.fullName);\n",
    "console.log(person13.firstName);"
   ]
  },
  {
   "cell_type": "markdown",
   "id": "89277620",
   "metadata": {},
   "source": [
    "### Static methods and properties"
   ]
  },
  {
   "cell_type": "markdown",
   "id": "c944b9bd",
   "metadata": {},
   "source": [
    "In JavaScript, static methods and properties are class-level members that are associated with the class rather than with instances of the class.\n",
    "\n",
    "Static methods and properties are declared using the `static` keyword within a class declaration. Here's an example:"
   ]
  },
  {
   "cell_type": "code",
   "execution_count": 120,
   "id": "a5a992a0",
   "metadata": {},
   "outputs": [],
   "source": [
    "class MyClass {\n",
    "  static myStaticProperty = 42;\n",
    "\n",
    "  static myStaticMethod() {\n",
    "    console.log('Hello from my static method!');\n",
    "  }\n",
    "}\n"
   ]
  },
  {
   "cell_type": "markdown",
   "id": "22a085f4",
   "metadata": {},
   "source": [
    "In the example above, `myStaticProperty` and `myStaticMethod` are both defined as static members of the `MyClass` class.\n",
    "\n",
    "Static properties can be accessed using the class name directly, like this: `MyClass.myStaticProperty`.\n",
    "\n",
    "Static methods can also be called directly on the class, like this: `MyClass.myStaticMethod()`.\n",
    "\n",
    "One common use case for static methods and properties is when you want to define utility functions or constants that are not tied to any particular instance of the class. Another use case is when you want to implement factory methods that create instances of a class in a specific way.\n",
    "\n",
    "Here's an example of using a static method to create instances of a class:"
   ]
  },
  {
   "cell_type": "code",
   "execution_count": 123,
   "id": "4ad6d235",
   "metadata": {},
   "outputs": [
    {
     "name": "stdout",
     "output_type": "stream",
     "text": [
      "John\n",
      "Smith\n"
     ]
    }
   ],
   "source": [
    "class Person14 {\n",
    "  constructor(firstName, lastName) {\n",
    "    this.firstName = firstName;\n",
    "    this.lastName = lastName;\n",
    "  }\n",
    "\n",
    "  static createFromFullName(fullName) {\n",
    "    const [firstName, lastName] = fullName.split(' ');\n",
    "    return new Person14(firstName, lastName);\n",
    "  }\n",
    "}\n",
    "\n",
    "const john14 = Person14.createFromFullName('John Smith');\n",
    "console.log(john14.firstName); // Output: John\n",
    "console.log(john14.lastName); // Output: Smith\n"
   ]
  },
  {
   "cell_type": "markdown",
   "id": "372d95f6",
   "metadata": {},
   "source": [
    "In this example, the `createFromFullName` method is a static method that creates instances of the `Person14` class from a full name string. The method is called directly on the `Person14` class, and it returns a new instance of the class."
   ]
  },
  {
   "cell_type": "code",
   "execution_count": 124,
   "id": "bcc0e131",
   "metadata": {},
   "outputs": [
    {
     "name": "stdout",
     "output_type": "stream",
     "text": [
      "This is a class for Person\n"
     ]
    }
   ],
   "source": [
    "\n",
    "// static method and properties\n",
    "\n",
    "// they are related to class\n",
    "\n",
    "// static methods and properties are not related to the object\n",
    "\n",
    "class Person15{\n",
    "    constructor(firstName, lastName, age){\n",
    "        this.firstName = firstName;\n",
    "        this.lastName = lastName;\n",
    "        this.age = age;\n",
    "    }\n",
    "\n",
    "    static classInfo(){\n",
    "        return \"This is a class for Person\";\n",
    "    }\n",
    "\n",
    "    static desc = \"static properties\";\n",
    "\n",
    "    get fullName(){\n",
    "        return `${this.firstName} ${this.lastName}`;\n",
    "    }\n",
    "\n",
    "    set fullName(fullName){\n",
    "        const [firstName, secondName] = fullName.split(\" \");\n",
    "        this.firstName = firstName;\n",
    "        this.lastName = secondName;\n",
    "    }\n",
    "}\n",
    "\n",
    "const person15 = new Person15(\"harshit\", \"vashsith\", 18);\n",
    "const info = Person15.classInfo();\n",
    "console.log(info);"
   ]
  },
  {
   "cell_type": "code",
   "execution_count": 126,
   "id": "bed59fc9",
   "metadata": {},
   "outputs": [
    {
     "name": "stdout",
     "output_type": "stream",
     "text": [
      "static properties\n"
     ]
    }
   ],
   "source": [
    "console.log(Person15.desc);"
   ]
  },
  {
   "cell_type": "markdown",
   "id": "d35ba8b3",
   "metadata": {},
   "source": [
    "In the console of a web browser, `console.log(Person15.desc)` will show **this is person class**."
   ]
  },
  {
   "cell_type": "markdown",
   "id": "80b15616",
   "metadata": {},
   "source": [
    "// We can't do the following with static method\n",
    "```JavaScript\n",
    "person15.classInfo() // this will throw error\n",
    "```"
   ]
  },
  {
   "cell_type": "markdown",
   "id": "553f85e6",
   "metadata": {},
   "source": [
    "Static methods help in application initialization."
   ]
  },
  {
   "cell_type": "code",
   "execution_count": null,
   "id": "c028ef41",
   "metadata": {},
   "outputs": [],
   "source": []
  }
 ],
 "metadata": {
  "kernelspec": {
   "display_name": "JavaScript (Node.js)",
   "language": "javascript",
   "name": "javascript"
  },
  "language_info": {
   "file_extension": ".js",
   "mimetype": "application/javascript",
   "name": "javascript",
   "version": "18.12.1"
  }
 },
 "nbformat": 4,
 "nbformat_minor": 5
}
